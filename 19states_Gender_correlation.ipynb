{
 "cells": [
  {
   "cell_type": "code",
   "execution_count": 2,
   "metadata": {},
   "outputs": [
    {
     "name": "stderr",
     "output_type": "stream",
     "text": [
      "C:\\Users\\Kiran\\anaconda3\\lib\\site-packages\\ipykernel_launcher.py:8: FutureWarning: pandas.util.testing is deprecated. Use the functions in the public API at pandas.testing instead.\n",
      "  \n"
     ]
    }
   ],
   "source": [
    "import numpy as np\n",
    "import pandas as pd\n",
    "import matplotlib.pyplot as plt\n",
    "from pylab import rcParams\n",
    "import seaborn as sns\n",
    "import scipy\n",
    "from scipy.stats.stats import pearsonr\n",
    "import pandas.util.testing as tm\n",
    "from scipy.stats import spearmanr\n",
    "import statsmodels.api as sm"
   ]
  },
  {
   "cell_type": "code",
   "execution_count": 3,
   "metadata": {},
   "outputs": [
    {
     "data": {
      "text/html": [
       "<div>\n",
       "<style scoped>\n",
       "    .dataframe tbody tr th:only-of-type {\n",
       "        vertical-align: middle;\n",
       "    }\n",
       "\n",
       "    .dataframe tbody tr th {\n",
       "        vertical-align: top;\n",
       "    }\n",
       "\n",
       "    .dataframe thead th {\n",
       "        text-align: right;\n",
       "    }\n",
       "</style>\n",
       "<table border=\"1\" class=\"dataframe\">\n",
       "  <thead>\n",
       "    <tr style=\"text-align: right;\">\n",
       "      <th></th>\n",
       "      <th>Total_confirmed</th>\n",
       "      <th>0-19</th>\n",
       "      <th>20-29</th>\n",
       "      <th>30-39</th>\n",
       "      <th>40-49</th>\n",
       "      <th>50-59</th>\n",
       "      <th>60-69</th>\n",
       "      <th>70-79</th>\n",
       "      <th>80+</th>\n",
       "      <th>Total Male_confirmed</th>\n",
       "      <th>...</th>\n",
       "      <th>Hispanic_confirmed</th>\n",
       "      <th>Asian_confirmed</th>\n",
       "      <th>American indian and Alaska native_confirmed</th>\n",
       "      <th>Total population_Male</th>\n",
       "      <th>Total population_Female</th>\n",
       "      <th>Hispanic</th>\n",
       "      <th>White</th>\n",
       "      <th>Black or African American</th>\n",
       "      <th>American Indian and Alaska Native</th>\n",
       "      <th>Asian</th>\n",
       "    </tr>\n",
       "    <tr>\n",
       "      <th>State</th>\n",
       "      <th></th>\n",
       "      <th></th>\n",
       "      <th></th>\n",
       "      <th></th>\n",
       "      <th></th>\n",
       "      <th></th>\n",
       "      <th></th>\n",
       "      <th></th>\n",
       "      <th></th>\n",
       "      <th></th>\n",
       "      <th></th>\n",
       "      <th></th>\n",
       "      <th></th>\n",
       "      <th></th>\n",
       "      <th></th>\n",
       "      <th></th>\n",
       "      <th></th>\n",
       "      <th></th>\n",
       "      <th></th>\n",
       "      <th></th>\n",
       "      <th></th>\n",
       "    </tr>\n",
       "  </thead>\n",
       "  <tbody>\n",
       "    <tr>\n",
       "      <th>California</th>\n",
       "      <td>329162</td>\n",
       "      <td>31015</td>\n",
       "      <td>74003</td>\n",
       "      <td>64870</td>\n",
       "      <td>53279</td>\n",
       "      <td>47498</td>\n",
       "      <td>29954</td>\n",
       "      <td>15033</td>\n",
       "      <td>13113</td>\n",
       "      <td>164635</td>\n",
       "      <td>...</td>\n",
       "      <td>1563</td>\n",
       "      <td>12648</td>\n",
       "      <td>458</td>\n",
       "      <td>19673553</td>\n",
       "      <td>19883492</td>\n",
       "      <td>15261300</td>\n",
       "      <td>23535388</td>\n",
       "      <td>2283850</td>\n",
       "      <td>302792</td>\n",
       "      <td>5821585</td>\n",
       "    </tr>\n",
       "    <tr>\n",
       "      <th>Colorado</th>\n",
       "      <td>37686</td>\n",
       "      <td>3369</td>\n",
       "      <td>7409</td>\n",
       "      <td>6621</td>\n",
       "      <td>6169</td>\n",
       "      <td>5608</td>\n",
       "      <td>3769</td>\n",
       "      <td>2321</td>\n",
       "      <td>2382</td>\n",
       "      <td>17882</td>\n",
       "      <td>...</td>\n",
       "      <td>13657</td>\n",
       "      <td>738</td>\n",
       "      <td>183</td>\n",
       "      <td>2864761</td>\n",
       "      <td>2830803</td>\n",
       "      <td>1200900</td>\n",
       "      <td>4790677</td>\n",
       "      <td>237578</td>\n",
       "      <td>55146</td>\n",
       "      <td>180277</td>\n",
       "    </tr>\n",
       "    <tr>\n",
       "      <th>Connecticut</th>\n",
       "      <td>47287</td>\n",
       "      <td>2112</td>\n",
       "      <td>5807</td>\n",
       "      <td>6707</td>\n",
       "      <td>6655</td>\n",
       "      <td>7956</td>\n",
       "      <td>6589</td>\n",
       "      <td>4434</td>\n",
       "      <td>6971</td>\n",
       "      <td>20453</td>\n",
       "      <td>...</td>\n",
       "      <td>8973</td>\n",
       "      <td>684</td>\n",
       "      <td>45</td>\n",
       "      <td>1740533</td>\n",
       "      <td>1832132</td>\n",
       "      <td>576400</td>\n",
       "      <td>2688136</td>\n",
       "      <td>391552</td>\n",
       "      <td>9507</td>\n",
       "      <td>165855</td>\n",
       "    </tr>\n",
       "    <tr>\n",
       "      <th>Illinois</th>\n",
       "      <td>153916</td>\n",
       "      <td>12431</td>\n",
       "      <td>26577</td>\n",
       "      <td>25311</td>\n",
       "      <td>26633</td>\n",
       "      <td>25346</td>\n",
       "      <td>17643</td>\n",
       "      <td>9805</td>\n",
       "      <td>10114</td>\n",
       "      <td>72590</td>\n",
       "      <td>...</td>\n",
       "      <td>48999</td>\n",
       "      <td>4317</td>\n",
       "      <td>0</td>\n",
       "      <td>6266062</td>\n",
       "      <td>6475018</td>\n",
       "      <td>2173800</td>\n",
       "      <td>9135145</td>\n",
       "      <td>1793079</td>\n",
       "      <td>35846</td>\n",
       "      <td>717938</td>\n",
       "    </tr>\n",
       "    <tr>\n",
       "      <th>Maryland</th>\n",
       "      <td>74260</td>\n",
       "      <td>6401</td>\n",
       "      <td>11590</td>\n",
       "      <td>13905</td>\n",
       "      <td>12952</td>\n",
       "      <td>11467</td>\n",
       "      <td>8130</td>\n",
       "      <td>5119</td>\n",
       "      <td>4686</td>\n",
       "      <td>35620</td>\n",
       "      <td>...</td>\n",
       "      <td>19701</td>\n",
       "      <td>1446</td>\n",
       "      <td>0</td>\n",
       "      <td>2930350</td>\n",
       "      <td>3112368</td>\n",
       "      <td>613900</td>\n",
       "      <td>3305047</td>\n",
       "      <td>1810885</td>\n",
       "      <td>13433</td>\n",
       "      <td>378985</td>\n",
       "    </tr>\n",
       "  </tbody>\n",
       "</table>\n",
       "<p>5 rows × 23 columns</p>\n",
       "</div>"
      ],
      "text/plain": [
       "             Total_confirmed   0-19  20-29  30-39  40-49  50-59  60-69  70-79  \\\n",
       "State                                                                           \n",
       "California            329162  31015  74003  64870  53279  47498  29954  15033   \n",
       "Colorado               37686   3369   7409   6621   6169   5608   3769   2321   \n",
       "Connecticut            47287   2112   5807   6707   6655   7956   6589   4434   \n",
       "Illinois              153916  12431  26577  25311  26633  25346  17643   9805   \n",
       "Maryland               74260   6401  11590  13905  12952  11467   8130   5119   \n",
       "\n",
       "               80+  Total Male_confirmed  ...  Hispanic_confirmed  \\\n",
       "State                                     ...                       \n",
       "California   13113                164635  ...                1563   \n",
       "Colorado      2382                 17882  ...               13657   \n",
       "Connecticut   6971                 20453  ...                8973   \n",
       "Illinois     10114                 72590  ...               48999   \n",
       "Maryland      4686                 35620  ...               19701   \n",
       "\n",
       "             Asian_confirmed  American indian and Alaska native_confirmed  \\\n",
       "State                                                                       \n",
       "California             12648                                          458   \n",
       "Colorado                 738                                          183   \n",
       "Connecticut              684                                           45   \n",
       "Illinois                4317                                            0   \n",
       "Maryland                1446                                            0   \n",
       "\n",
       "             Total population_Male  Total population_Female  Hispanic  \\\n",
       "State                                                                   \n",
       "California                19673553                 19883492  15261300   \n",
       "Colorado                   2864761                  2830803   1200900   \n",
       "Connecticut                1740533                  1832132    576400   \n",
       "Illinois                   6266062                  6475018   2173800   \n",
       "Maryland                   2930350                  3112368    613900   \n",
       "\n",
       "                White  Black or African American  \\\n",
       "State                                              \n",
       "California   23535388                    2283850   \n",
       "Colorado      4790677                     237578   \n",
       "Connecticut   2688136                     391552   \n",
       "Illinois      9135145                    1793079   \n",
       "Maryland      3305047                    1810885   \n",
       "\n",
       "             American Indian and Alaska Native    Asian  \n",
       "State                                                    \n",
       "California                              302792  5821585  \n",
       "Colorado                                 55146   180277  \n",
       "Connecticut                               9507   165855  \n",
       "Illinois                                 35846   717938  \n",
       "Maryland                                 13433   378985  \n",
       "\n",
       "[5 rows x 23 columns]"
      ]
     },
     "execution_count": 3,
     "metadata": {},
     "output_type": "execute_result"
    }
   ],
   "source": [
    "df = pd.read_csv(\"19states_covid-19 cases (1).csv\", index_col = 0)\n",
    "df.head()"
   ]
  },
  {
   "cell_type": "code",
   "execution_count": 5,
   "metadata": {},
   "outputs": [
    {
     "data": {
      "text/html": [
       "<div>\n",
       "<style scoped>\n",
       "    .dataframe tbody tr th:only-of-type {\n",
       "        vertical-align: middle;\n",
       "    }\n",
       "\n",
       "    .dataframe tbody tr th {\n",
       "        vertical-align: top;\n",
       "    }\n",
       "\n",
       "    .dataframe thead th {\n",
       "        text-align: right;\n",
       "    }\n",
       "</style>\n",
       "<table border=\"1\" class=\"dataframe\">\n",
       "  <thead>\n",
       "    <tr style=\"text-align: right;\">\n",
       "      <th></th>\n",
       "      <th>Total_confirmed</th>\n",
       "      <th>Total Male_confirmed</th>\n",
       "      <th>Total Female_confirmed</th>\n",
       "    </tr>\n",
       "    <tr>\n",
       "      <th>State</th>\n",
       "      <th></th>\n",
       "      <th></th>\n",
       "      <th></th>\n",
       "    </tr>\n",
       "  </thead>\n",
       "  <tbody>\n",
       "    <tr>\n",
       "      <th>California</th>\n",
       "      <td>329162</td>\n",
       "      <td>164635</td>\n",
       "      <td>162718</td>\n",
       "    </tr>\n",
       "    <tr>\n",
       "      <th>Colorado</th>\n",
       "      <td>37686</td>\n",
       "      <td>17882</td>\n",
       "      <td>18692</td>\n",
       "    </tr>\n",
       "    <tr>\n",
       "      <th>Connecticut</th>\n",
       "      <td>47287</td>\n",
       "      <td>20453</td>\n",
       "      <td>25838</td>\n",
       "    </tr>\n",
       "    <tr>\n",
       "      <th>Illinois</th>\n",
       "      <td>153916</td>\n",
       "      <td>72590</td>\n",
       "      <td>78554</td>\n",
       "    </tr>\n",
       "    <tr>\n",
       "      <th>Maryland</th>\n",
       "      <td>74260</td>\n",
       "      <td>35620</td>\n",
       "      <td>38640</td>\n",
       "    </tr>\n",
       "    <tr>\n",
       "      <th>Massachusetts</th>\n",
       "      <td>105629</td>\n",
       "      <td>49245</td>\n",
       "      <td>60821</td>\n",
       "    </tr>\n",
       "    <tr>\n",
       "      <th>Michigan</th>\n",
       "      <td>69388</td>\n",
       "      <td>6674</td>\n",
       "      <td>7153</td>\n",
       "    </tr>\n",
       "    <tr>\n",
       "      <th>Minnesota</th>\n",
       "      <td>42281</td>\n",
       "      <td>20629</td>\n",
       "      <td>21453</td>\n",
       "    </tr>\n",
       "    <tr>\n",
       "      <th>Mississippi</th>\n",
       "      <td>35419</td>\n",
       "      <td>14734</td>\n",
       "      <td>20472</td>\n",
       "    </tr>\n",
       "    <tr>\n",
       "      <th>Nebreska</th>\n",
       "      <td>21172</td>\n",
       "      <td>10073</td>\n",
       "      <td>10225</td>\n",
       "    </tr>\n",
       "    <tr>\n",
       "      <th>Nevada</th>\n",
       "      <td>27683</td>\n",
       "      <td>12899</td>\n",
       "      <td>13767</td>\n",
       "    </tr>\n",
       "    <tr>\n",
       "      <th>New jersey</th>\n",
       "      <td>175298</td>\n",
       "      <td>85388</td>\n",
       "      <td>88627</td>\n",
       "    </tr>\n",
       "    <tr>\n",
       "      <th>Ohio</th>\n",
       "      <td>66853</td>\n",
       "      <td>32721</td>\n",
       "      <td>33555</td>\n",
       "    </tr>\n",
       "    <tr>\n",
       "      <th>Oregon</th>\n",
       "      <td>12438</td>\n",
       "      <td>5987</td>\n",
       "      <td>6423</td>\n",
       "    </tr>\n",
       "    <tr>\n",
       "      <th>Rhode Island</th>\n",
       "      <td>17487</td>\n",
       "      <td>7694</td>\n",
       "      <td>9618</td>\n",
       "    </tr>\n",
       "    <tr>\n",
       "      <th>South Carolina</th>\n",
       "      <td>56648</td>\n",
       "      <td>23221</td>\n",
       "      <td>27362</td>\n",
       "    </tr>\n",
       "    <tr>\n",
       "      <th>Tennesseeÿ</th>\n",
       "      <td>65274</td>\n",
       "      <td>33486</td>\n",
       "      <td>30763</td>\n",
       "    </tr>\n",
       "    <tr>\n",
       "      <th>Washington</th>\n",
       "      <td>39218</td>\n",
       "      <td>18702</td>\n",
       "      <td>20328</td>\n",
       "    </tr>\n",
       "    <tr>\n",
       "      <th>Wisconsin</th>\n",
       "      <td>36942</td>\n",
       "      <td>17915</td>\n",
       "      <td>18941</td>\n",
       "    </tr>\n",
       "  </tbody>\n",
       "</table>\n",
       "</div>"
      ],
      "text/plain": [
       "                Total_confirmed  Total Male_confirmed  Total Female_confirmed\n",
       "State                                                                        \n",
       "California               329162                164635                  162718\n",
       "Colorado                  37686                 17882                   18692\n",
       "Connecticut               47287                 20453                   25838\n",
       "Illinois                 153916                 72590                   78554\n",
       "Maryland                  74260                 35620                   38640\n",
       "Massachusetts            105629                 49245                   60821\n",
       "Michigan                  69388                  6674                    7153\n",
       "Minnesota                 42281                 20629                   21453\n",
       "Mississippi               35419                 14734                   20472\n",
       "Nebreska                  21172                 10073                   10225\n",
       "Nevada                    27683                 12899                   13767\n",
       "New jersey               175298                 85388                   88627\n",
       "Ohio                      66853                 32721                   33555\n",
       "Oregon                    12438                  5987                    6423\n",
       "Rhode Island              17487                  7694                    9618\n",
       "South Carolina            56648                 23221                   27362\n",
       "Tennesseeÿ                65274                 33486                   30763\n",
       "Washington                39218                 18702                   20328\n",
       "Wisconsin                 36942                 17915                   18941"
      ]
     },
     "execution_count": 5,
     "metadata": {},
     "output_type": "execute_result"
    }
   ],
   "source": [
    "df = df[['Total_confirmed', 'Total Male_confirmed', 'Total Female_confirmed']]\n",
    "df"
   ]
  },
  {
   "cell_type": "markdown",
   "metadata": {},
   "source": [
    "# EDA"
   ]
  },
  {
   "cell_type": "code",
   "execution_count": 6,
   "metadata": {},
   "outputs": [
    {
     "data": {
      "text/html": [
       "<div>\n",
       "<style scoped>\n",
       "    .dataframe tbody tr th:only-of-type {\n",
       "        vertical-align: middle;\n",
       "    }\n",
       "\n",
       "    .dataframe tbody tr th {\n",
       "        vertical-align: top;\n",
       "    }\n",
       "\n",
       "    .dataframe thead th {\n",
       "        text-align: right;\n",
       "    }\n",
       "</style>\n",
       "<table border=\"1\" class=\"dataframe\">\n",
       "  <thead>\n",
       "    <tr style=\"text-align: right;\">\n",
       "      <th></th>\n",
       "      <th>Total_confirmed</th>\n",
       "      <th>Total Male_confirmed</th>\n",
       "      <th>Total Female_confirmed</th>\n",
       "    </tr>\n",
       "  </thead>\n",
       "  <tbody>\n",
       "    <tr>\n",
       "      <th>count</th>\n",
       "      <td>19.000000</td>\n",
       "      <td>19.000000</td>\n",
       "      <td>19.000000</td>\n",
       "    </tr>\n",
       "    <tr>\n",
       "      <th>mean</th>\n",
       "      <td>74423.210526</td>\n",
       "      <td>34239.368421</td>\n",
       "      <td>36523.684211</td>\n",
       "    </tr>\n",
       "    <tr>\n",
       "      <th>std</th>\n",
       "      <td>75362.739431</td>\n",
       "      <td>38206.076956</td>\n",
       "      <td>38237.241251</td>\n",
       "    </tr>\n",
       "    <tr>\n",
       "      <th>min</th>\n",
       "      <td>12438.000000</td>\n",
       "      <td>5987.000000</td>\n",
       "      <td>6423.000000</td>\n",
       "    </tr>\n",
       "    <tr>\n",
       "      <th>25%</th>\n",
       "      <td>36180.500000</td>\n",
       "      <td>13816.500000</td>\n",
       "      <td>16229.500000</td>\n",
       "    </tr>\n",
       "    <tr>\n",
       "      <th>50%</th>\n",
       "      <td>47287.000000</td>\n",
       "      <td>20453.000000</td>\n",
       "      <td>21453.000000</td>\n",
       "    </tr>\n",
       "    <tr>\n",
       "      <th>75%</th>\n",
       "      <td>71824.000000</td>\n",
       "      <td>34553.000000</td>\n",
       "      <td>36097.500000</td>\n",
       "    </tr>\n",
       "    <tr>\n",
       "      <th>max</th>\n",
       "      <td>329162.000000</td>\n",
       "      <td>164635.000000</td>\n",
       "      <td>162718.000000</td>\n",
       "    </tr>\n",
       "  </tbody>\n",
       "</table>\n",
       "</div>"
      ],
      "text/plain": [
       "       Total_confirmed  Total Male_confirmed  Total Female_confirmed\n",
       "count        19.000000             19.000000               19.000000\n",
       "mean      74423.210526          34239.368421            36523.684211\n",
       "std       75362.739431          38206.076956            38237.241251\n",
       "min       12438.000000           5987.000000             6423.000000\n",
       "25%       36180.500000          13816.500000            16229.500000\n",
       "50%       47287.000000          20453.000000            21453.000000\n",
       "75%       71824.000000          34553.000000            36097.500000\n",
       "max      329162.000000         164635.000000           162718.000000"
      ]
     },
     "execution_count": 6,
     "metadata": {},
     "output_type": "execute_result"
    }
   ],
   "source": [
    "df.describe()"
   ]
  },
  {
   "cell_type": "code",
   "execution_count": 7,
   "metadata": {},
   "outputs": [
    {
     "name": "stdout",
     "output_type": "stream",
     "text": [
      "<class 'pandas.core.frame.DataFrame'>\n",
      "Index: 19 entries, California to Wisconsin\n",
      "Data columns (total 3 columns):\n",
      " #   Column                  Non-Null Count  Dtype\n",
      "---  ------                  --------------  -----\n",
      " 0   Total_confirmed         19 non-null     int64\n",
      " 1   Total Male_confirmed    19 non-null     int64\n",
      " 2   Total Female_confirmed  19 non-null     int64\n",
      "dtypes: int64(3)\n",
      "memory usage: 608.0+ bytes\n"
     ]
    }
   ],
   "source": [
    "df.info()"
   ]
  },
  {
   "cell_type": "code",
   "execution_count": 8,
   "metadata": {},
   "outputs": [
    {
     "data": {
      "text/plain": [
       "Index(['Total_confirmed', 'Total Male_confirmed', 'Total Female_confirmed'], dtype='object')"
      ]
     },
     "execution_count": 8,
     "metadata": {},
     "output_type": "execute_result"
    }
   ],
   "source": [
    "df.columns"
   ]
  },
  {
   "cell_type": "code",
   "execution_count": 9,
   "metadata": {},
   "outputs": [
    {
     "data": {
      "text/plain": [
       "<seaborn.axisgrid.PairGrid at 0x1cc2a106608>"
      ]
     },
     "execution_count": 9,
     "metadata": {},
     "output_type": "execute_result"
    },
    {
     "data": {
      "image/png": "[encoded data removed]",
      "text/plain": [
       "<Figure size 540x540 with 12 Axes>"
      ]
     },
     "metadata": {
      "needs_background": "light"
     },
     "output_type": "display_data"
    }
   ],
   "source": [
    "sns.pairplot(df)"
   ]
  },
  {
   "cell_type": "code",
   "execution_count": 10,
   "metadata": {},
   "outputs": [
    {
     "data": {
      "text/html": [
       "<div>\n",
       "<style scoped>\n",
       "    .dataframe tbody tr th:only-of-type {\n",
       "        vertical-align: middle;\n",
       "    }\n",
       "\n",
       "    .dataframe tbody tr th {\n",
       "        vertical-align: top;\n",
       "    }\n",
       "\n",
       "    .dataframe thead th {\n",
       "        text-align: right;\n",
       "    }\n",
       "</style>\n",
       "<table border=\"1\" class=\"dataframe\">\n",
       "  <thead>\n",
       "    <tr style=\"text-align: right;\">\n",
       "      <th></th>\n",
       "      <th>Total_confirmed</th>\n",
       "      <th>Total Male_confirmed</th>\n",
       "      <th>Total Female_confirmed</th>\n",
       "    </tr>\n",
       "  </thead>\n",
       "  <tbody>\n",
       "    <tr>\n",
       "      <th>Total_confirmed</th>\n",
       "      <td>1.000000</td>\n",
       "      <td>0.986446</td>\n",
       "      <td>0.983883</td>\n",
       "    </tr>\n",
       "    <tr>\n",
       "      <th>Total Male_confirmed</th>\n",
       "      <td>0.986446</td>\n",
       "      <td>1.000000</td>\n",
       "      <td>0.996372</td>\n",
       "    </tr>\n",
       "    <tr>\n",
       "      <th>Total Female_confirmed</th>\n",
       "      <td>0.983883</td>\n",
       "      <td>0.996372</td>\n",
       "      <td>1.000000</td>\n",
       "    </tr>\n",
       "  </tbody>\n",
       "</table>\n",
       "</div>"
      ],
      "text/plain": [
       "                        Total_confirmed  Total Male_confirmed  \\\n",
       "Total_confirmed                1.000000              0.986446   \n",
       "Total Male_confirmed           0.986446              1.000000   \n",
       "Total Female_confirmed         0.983883              0.996372   \n",
       "\n",
       "                        Total Female_confirmed  \n",
       "Total_confirmed                       0.983883  \n",
       "Total Male_confirmed                  0.996372  \n",
       "Total Female_confirmed                1.000000  "
      ]
     },
     "execution_count": 10,
     "metadata": {},
     "output_type": "execute_result"
    }
   ],
   "source": [
    "df_corr = df.corr()\n",
    "df_corr"
   ]
  },
  {
   "cell_type": "code",
   "execution_count": 11,
   "metadata": {},
   "outputs": [
    {
     "data": {
      "text/plain": [
       "<matplotlib.axes._subplots.AxesSubplot at 0x1cc2ae33c88>"
      ]
     },
     "execution_count": 11,
     "metadata": {},
     "output_type": "execute_result"
    },
    {
     "data": {
      "image/png": "[encoded data removed]",
      "text/plain": [
       "<Figure size 432x288 with 2 Axes>"
      ]
     },
     "metadata": {
      "needs_background": "light"
     },
     "output_type": "display_data"
    }
   ],
   "source": [
    "sns.heatmap(df_corr, annot=True)"
   ]
  },
  {
   "cell_type": "code",
   "execution_count": 12,
   "metadata": {},
   "outputs": [
    {
     "data": {
      "text/plain": [
       "SpearmanrResult(correlation=0.8578947368421052, pvalue=2.6477931032626356e-06)"
      ]
     },
     "execution_count": 12,
     "metadata": {},
     "output_type": "execute_result"
    }
   ],
   "source": [
    "spearmanr(df['Total_confirmed'], df['Total Male_confirmed'])"
   ]
  },
  {
   "cell_type": "code",
   "execution_count": 13,
   "metadata": {},
   "outputs": [
    {
     "data": {
      "text/plain": [
       "SpearmanrResult(correlation=0.8508771929824561, pvalue=3.889959117183733e-06)"
      ]
     },
     "execution_count": 13,
     "metadata": {},
     "output_type": "execute_result"
    }
   ],
   "source": [
    "spearmanr(df['Total_confirmed'], df['Total Female_confirmed'])"
   ]
  },
  {
   "cell_type": "markdown",
   "metadata": {},
   "source": [
    "# OLS - Ordinary Least Squares Method"
   ]
  },
  {
   "cell_type": "code",
   "execution_count": 15,
   "metadata": {},
   "outputs": [
    {
     "name": "stderr",
     "output_type": "stream",
     "text": [
      "C:\\Users\\Kiran\\anaconda3\\lib\\site-packages\\scipy\\stats\\stats.py:1535: UserWarning: kurtosistest only valid for n>=20 ... continuing anyway, n=19\n",
      "  \"anyway, n=%i\" % int(n))\n"
     ]
    },
    {
     "data": {
      "text/html": [
       "<table class=\"simpletable\">\n",
       "<caption>OLS Regression Results</caption>\n",
       "<tr>\n",
       "  <th>Dep. Variable:</th>     <td>Total_confirmed</td> <th>  R-squared (uncentered):</th>      <td>   0.984</td>\n",
       "</tr>\n",
       "<tr>\n",
       "  <th>Model:</th>                   <td>OLS</td>       <th>  Adj. R-squared (uncentered):</th> <td>   0.983</td>\n",
       "</tr>\n",
       "<tr>\n",
       "  <th>Method:</th>             <td>Least Squares</td>  <th>  F-statistic:       </th>          <td>   1087.</td>\n",
       "</tr>\n",
       "<tr>\n",
       "  <th>Date:</th>             <td>Mon, 20 Jul 2020</td> <th>  Prob (F-statistic):</th>          <td>1.50e-17</td>\n",
       "</tr>\n",
       "<tr>\n",
       "  <th>Time:</th>                 <td>17:42:28</td>     <th>  Log-Likelihood:    </th>          <td> -207.42</td>\n",
       "</tr>\n",
       "<tr>\n",
       "  <th>No. Observations:</th>      <td>    19</td>      <th>  AIC:               </th>          <td>   416.8</td>\n",
       "</tr>\n",
       "<tr>\n",
       "  <th>Df Residuals:</th>          <td>    18</td>      <th>  BIC:               </th>          <td>   417.8</td>\n",
       "</tr>\n",
       "<tr>\n",
       "  <th>Df Model:</th>              <td>     1</td>      <th>                     </th>              <td> </td>   \n",
       "</tr>\n",
       "<tr>\n",
       "  <th>Covariance Type:</th>      <td>nonrobust</td>    <th>                     </th>              <td> </td>   \n",
       "</tr>\n",
       "</table>\n",
       "<table class=\"simpletable\">\n",
       "<tr>\n",
       "            <td></td>              <th>coef</th>     <th>std err</th>      <th>t</th>      <th>P>|t|</th>  <th>[0.025</th>    <th>0.975]</th>  \n",
       "</tr>\n",
       "<tr>\n",
       "  <th>Total Male_confirmed</th> <td>    2.0503</td> <td>    0.062</td> <td>   32.977</td> <td> 0.000</td> <td>    1.920</td> <td>    2.181</td>\n",
       "</tr>\n",
       "</table>\n",
       "<table class=\"simpletable\">\n",
       "<tr>\n",
       "  <th>Omnibus:</th>       <td>43.263</td> <th>  Durbin-Watson:     </th> <td>   1.813</td>\n",
       "</tr>\n",
       "<tr>\n",
       "  <th>Prob(Omnibus):</th> <td> 0.000</td> <th>  Jarque-Bera (JB):  </th> <td> 143.149</td>\n",
       "</tr>\n",
       "<tr>\n",
       "  <th>Skew:</th>          <td> 3.474</td> <th>  Prob(JB):          </th> <td>8.24e-32</td>\n",
       "</tr>\n",
       "<tr>\n",
       "  <th>Kurtosis:</th>      <td>14.512</td> <th>  Cond. No.          </th> <td>    1.00</td>\n",
       "</tr>\n",
       "</table><br/><br/>Warnings:<br/>[1] Standard Errors assume that the covariance matrix of the errors is correctly specified."
      ],
      "text/plain": [
       "<class 'statsmodels.iolib.summary.Summary'>\n",
       "\"\"\"\n",
       "                                 OLS Regression Results                                \n",
       "=======================================================================================\n",
       "Dep. Variable:        Total_confirmed   R-squared (uncentered):                   0.984\n",
       "Model:                            OLS   Adj. R-squared (uncentered):              0.983\n",
       "Method:                 Least Squares   F-statistic:                              1087.\n",
       "Date:                Mon, 20 Jul 2020   Prob (F-statistic):                    1.50e-17\n",
       "Time:                        17:42:28   Log-Likelihood:                         -207.42\n",
       "No. Observations:                  19   AIC:                                      416.8\n",
       "Df Residuals:                      18   BIC:                                      417.8\n",
       "Df Model:                           1                                                  \n",
       "Covariance Type:            nonrobust                                                  \n",
       "========================================================================================\n",
       "                           coef    std err          t      P>|t|      [0.025      0.975]\n",
       "----------------------------------------------------------------------------------------\n",
       "Total Male_confirmed     2.0503      0.062     32.977      0.000       1.920       2.181\n",
       "==============================================================================\n",
       "Omnibus:                       43.263   Durbin-Watson:                   1.813\n",
       "Prob(Omnibus):                  0.000   Jarque-Bera (JB):              143.149\n",
       "Skew:                           3.474   Prob(JB):                     8.24e-32\n",
       "Kurtosis:                      14.512   Cond. No.                         1.00\n",
       "==============================================================================\n",
       "\n",
       "Warnings:\n",
       "[1] Standard Errors assume that the covariance matrix of the errors is correctly specified.\n",
       "\"\"\""
      ]
     },
     "execution_count": 15,
     "metadata": {},
     "output_type": "execute_result"
    }
   ],
   "source": [
    "Y = df['Total_confirmed']\n",
    "X = df['Total Male_confirmed']\n",
    "X = sm.add_constant(X)\n",
    "model = sm.OLS(df['Total_confirmed'],df['Total Male_confirmed'])\n",
    "results = model.fit()\n",
    "results.params\n",
    "results.summary()"
   ]
  },
  {
   "cell_type": "code",
   "execution_count": 16,
   "metadata": {},
   "outputs": [
    {
     "data": {
      "text/html": [
       "<table class=\"simpletable\">\n",
       "<caption>OLS Regression Results</caption>\n",
       "<tr>\n",
       "  <th>Dep. Variable:</th>     <td>Total_confirmed</td> <th>  R-squared (uncentered):</th>      <td>   0.984</td>\n",
       "</tr>\n",
       "<tr>\n",
       "  <th>Model:</th>                   <td>OLS</td>       <th>  Adj. R-squared (uncentered):</th> <td>   0.983</td>\n",
       "</tr>\n",
       "<tr>\n",
       "  <th>Method:</th>             <td>Least Squares</td>  <th>  F-statistic:       </th>          <td>   1082.</td>\n",
       "</tr>\n",
       "<tr>\n",
       "  <th>Date:</th>             <td>Mon, 20 Jul 2020</td> <th>  Prob (F-statistic):</th>          <td>1.57e-17</td>\n",
       "</tr>\n",
       "<tr>\n",
       "  <th>Time:</th>                 <td>17:42:51</td>     <th>  Log-Likelihood:    </th>          <td> -207.47</td>\n",
       "</tr>\n",
       "<tr>\n",
       "  <th>No. Observations:</th>      <td>    19</td>      <th>  AIC:               </th>          <td>   416.9</td>\n",
       "</tr>\n",
       "<tr>\n",
       "  <th>Df Residuals:</th>          <td>    18</td>      <th>  BIC:               </th>          <td>   417.9</td>\n",
       "</tr>\n",
       "<tr>\n",
       "  <th>Df Model:</th>              <td>     1</td>      <th>                     </th>              <td> </td>   \n",
       "</tr>\n",
       "<tr>\n",
       "  <th>Covariance Type:</th>      <td>nonrobust</td>    <th>                     </th>              <td> </td>   \n",
       "</tr>\n",
       "</table>\n",
       "<table class=\"simpletable\">\n",
       "<tr>\n",
       "             <td></td>               <th>coef</th>     <th>std err</th>      <th>t</th>      <th>P>|t|</th>  <th>[0.025</th>    <th>0.975]</th>  \n",
       "</tr>\n",
       "<tr>\n",
       "  <th>Total Female_confirmed</th> <td>    1.9875</td> <td>    0.060</td> <td>   32.898</td> <td> 0.000</td> <td>    1.861</td> <td>    2.114</td>\n",
       "</tr>\n",
       "</table>\n",
       "<table class=\"simpletable\">\n",
       "<tr>\n",
       "  <th>Omnibus:</th>       <td>41.509</td> <th>  Durbin-Watson:     </th> <td>   2.466</td>\n",
       "</tr>\n",
       "<tr>\n",
       "  <th>Prob(Omnibus):</th> <td> 0.000</td> <th>  Jarque-Bera (JB):  </th> <td> 130.859</td>\n",
       "</tr>\n",
       "<tr>\n",
       "  <th>Skew:</th>          <td> 3.311</td> <th>  Prob(JB):          </th> <td>3.84e-29</td>\n",
       "</tr>\n",
       "<tr>\n",
       "  <th>Kurtosis:</th>      <td>14.020</td> <th>  Cond. No.          </th> <td>    1.00</td>\n",
       "</tr>\n",
       "</table><br/><br/>Warnings:<br/>[1] Standard Errors assume that the covariance matrix of the errors is correctly specified."
      ],
      "text/plain": [
       "<class 'statsmodels.iolib.summary.Summary'>\n",
       "\"\"\"\n",
       "                                 OLS Regression Results                                \n",
       "=======================================================================================\n",
       "Dep. Variable:        Total_confirmed   R-squared (uncentered):                   0.984\n",
       "Model:                            OLS   Adj. R-squared (uncentered):              0.983\n",
       "Method:                 Least Squares   F-statistic:                              1082.\n",
       "Date:                Mon, 20 Jul 2020   Prob (F-statistic):                    1.57e-17\n",
       "Time:                        17:42:51   Log-Likelihood:                         -207.47\n",
       "No. Observations:                  19   AIC:                                      416.9\n",
       "Df Residuals:                      18   BIC:                                      417.9\n",
       "Df Model:                           1                                                  \n",
       "Covariance Type:            nonrobust                                                  \n",
       "==========================================================================================\n",
       "                             coef    std err          t      P>|t|      [0.025      0.975]\n",
       "------------------------------------------------------------------------------------------\n",
       "Total Female_confirmed     1.9875      0.060     32.898      0.000       1.861       2.114\n",
       "==============================================================================\n",
       "Omnibus:                       41.509   Durbin-Watson:                   2.466\n",
       "Prob(Omnibus):                  0.000   Jarque-Bera (JB):              130.859\n",
       "Skew:                           3.311   Prob(JB):                     3.84e-29\n",
       "Kurtosis:                      14.020   Cond. No.                         1.00\n",
       "==============================================================================\n",
       "\n",
       "Warnings:\n",
       "[1] Standard Errors assume that the covariance matrix of the errors is correctly specified.\n",
       "\"\"\""
      ]
     },
     "execution_count": 16,
     "metadata": {},
     "output_type": "execute_result"
    }
   ],
   "source": [
    "Y = df['Total_confirmed']\n",
    "X = df['Total Female_confirmed']\n",
    "X = sm.add_constant(X)\n",
    "model = sm.OLS(df['Total_confirmed'],df['Total Female_confirmed'])\n",
    "results = model.fit()\n",
    "results.params\n",
    "results.summary()"
   ]
  },
  {
   "cell_type": "markdown",
   "metadata": {},
   "source": [
    "# Linear Regression Model for population_Male"
   ]
  },
  {
   "cell_type": "code",
   "execution_count": 51,
   "metadata": {},
   "outputs": [],
   "source": [
    "df=df.astype({'Total Male_confirmed': 'int32', 'Total Male_confirmed': 'int32'})"
   ]
  },
  {
   "cell_type": "code",
   "execution_count": 52,
   "metadata": {},
   "outputs": [
    {
     "data": {
      "text/plain": [
       "(array([11.,  4.,  1.,  0.,  1.,  1.,  0.,  0.,  0.,  1.]),\n",
       " array([  5987. ,  21851.8,  37716.6,  53581.4,  69446.2,  85311. ,\n",
       "        101175.8, 117040.6, 132905.4, 148770.2, 164635. ]),\n",
       " <a list of 10 Patch objects>)"
      ]
     },
     "execution_count": 52,
     "metadata": {},
     "output_type": "execute_result"
    },
    {
     "data": {
      "image/png": "[encoded data removed]",
      "text/plain": [
       "<Figure size 432x288 with 1 Axes>"
      ]
     },
     "metadata": {
      "needs_background": "light"
     },
     "output_type": "display_data"
    }
   ],
   "source": [
    " plt.hist(x = df[\"Total Male_confirmed\"])"
   ]
  },
  {
   "cell_type": "code",
   "execution_count": 53,
   "metadata": {},
   "outputs": [
    {
     "data": {
      "text/plain": [
       "(array([9., 6., 1., 0., 1., 1., 0., 0., 0., 1.]),\n",
       " array([ 12438. ,  44110.4,  75782.8, 107455.2, 139127.6, 170800. ,\n",
       "        202472.4, 234144.8, 265817.2, 297489.6, 329162. ]),\n",
       " <a list of 10 Patch objects>)"
      ]
     },
     "execution_count": 53,
     "metadata": {},
     "output_type": "execute_result"
    },
    {
     "data": {
      "image/png": "[encoded data removed]",
      "text/plain": [
       "<Figure size 432x288 with 1 Axes>"
      ]
     },
     "metadata": {
      "needs_background": "light"
     },
     "output_type": "display_data"
    }
   ],
   "source": [
    " plt.hist(x = df['Total_confirmed'])"
   ]
  },
  {
   "cell_type": "code",
   "execution_count": 54,
   "metadata": {},
   "outputs": [],
   "source": [
    "x = df[['Total Male_confirmed']]\n",
    "y = df[['Total_confirmed']]\n"
   ]
  },
  {
   "cell_type": "code",
   "execution_count": 55,
   "metadata": {},
   "outputs": [
    {
     "data": {
      "text/plain": [
       "Index(['Total Male_confirmed'], dtype='object')"
      ]
     },
     "execution_count": 55,
     "metadata": {},
     "output_type": "execute_result"
    }
   ],
   "source": [
    "x.columns"
   ]
  },
  {
   "cell_type": "code",
   "execution_count": 56,
   "metadata": {},
   "outputs": [
    {
     "name": "stdout",
     "output_type": "stream",
     "text": [
      "[[164635.]\n",
      " [ 17882.]\n",
      " [ 20453.]\n",
      " [ 72590.]\n",
      " [ 35620.]\n",
      " [ 49245.]\n",
      " [  6674.]\n",
      " [ 20629.]\n",
      " [ 14734.]\n",
      " [ 10073.]\n",
      " [ 12899.]\n",
      " [ 85388.]\n",
      " [ 32721.]\n",
      " [  5987.]\n",
      " [  7694.]\n",
      " [ 23221.]\n",
      " [ 33486.]\n",
      " [ 18702.]\n",
      " [ 17915.]]\n"
     ]
    }
   ],
   "source": [
    "from sklearn import preprocessing\n",
    "import numpy as np\n",
    "\n",
    "x_arr = np.array(x).reshape(-1,1)\n",
    "\n",
    "standardscaler = preprocessing.StandardScaler()\n",
    "x_scaler = standardscaler.fit_transform(x_arr)\n",
    "# print(x_scaler)\n",
    "\n",
    "x_scaledback = standardscaler.inverse_transform(x_scaler)\n",
    "print(x_scaledback)\n"
   ]
  },
  {
   "cell_type": "code",
   "execution_count": 57,
   "metadata": {},
   "outputs": [
    {
     "name": "stdout",
     "output_type": "stream",
     "text": [
      "[[329162.]\n",
      " [ 37686.]\n",
      " [ 47287.]\n",
      " [153916.]\n",
      " [ 74260.]\n",
      " [105629.]\n",
      " [ 69388.]\n",
      " [ 42281.]\n",
      " [ 35419.]\n",
      " [ 21172.]\n",
      " [ 27683.]\n",
      " [175298.]\n",
      " [ 66853.]\n",
      " [ 12438.]\n",
      " [ 17487.]\n",
      " [ 56648.]\n",
      " [ 65274.]\n",
      " [ 39218.]\n",
      " [ 36942.]]\n"
     ]
    }
   ],
   "source": [
    "y_arr = np.array(y).reshape(-1,1)\n",
    "\n",
    "standardscaler = preprocessing.StandardScaler()\n",
    "y_scaler = standardscaler.fit_transform(y_arr)\n",
    "# print(y_scaler)\n",
    "\n",
    "y_scaledback = standardscaler.inverse_transform(y_scaler)\n",
    "print(y_scaledback)"
   ]
  },
  {
   "cell_type": "markdown",
   "metadata": {},
   "source": [
    "# Train Test and Split the data"
   ]
  },
  {
   "cell_type": "code",
   "execution_count": 58,
   "metadata": {},
   "outputs": [],
   "source": [
    "from sklearn.model_selection import train_test_split"
   ]
  },
  {
   "cell_type": "code",
   "execution_count": 59,
   "metadata": {},
   "outputs": [],
   "source": [
    "x_train, x_test, y_train, y_test= train_test_split(x_scaler,y_scaler)"
   ]
  },
  {
   "cell_type": "markdown",
   "metadata": {},
   "source": [
    "# Creating and Training the Model"
   ]
  },
  {
   "cell_type": "code",
   "execution_count": 60,
   "metadata": {},
   "outputs": [],
   "source": [
    "from sklearn.linear_model import LinearRegression"
   ]
  },
  {
   "cell_type": "code",
   "execution_count": 61,
   "metadata": {},
   "outputs": [],
   "source": [
    "lm = LinearRegression()"
   ]
  },
  {
   "cell_type": "code",
   "execution_count": 62,
   "metadata": {},
   "outputs": [
    {
     "data": {
      "text/plain": [
       "LinearRegression(copy_X=True, fit_intercept=True, n_jobs=None, normalize=False)"
      ]
     },
     "execution_count": 62,
     "metadata": {},
     "output_type": "execute_result"
    }
   ],
   "source": [
    "lm.fit(x_train, y_train)"
   ]
  },
  {
   "cell_type": "markdown",
   "metadata": {},
   "source": [
    "# Print out the coefficients of the model"
   ]
  },
  {
   "cell_type": "code",
   "execution_count": 63,
   "metadata": {},
   "outputs": [
    {
     "name": "stdout",
     "output_type": "stream",
     "text": [
      "Coefficients: \n",
      " [[1.0444941]]\n"
     ]
    }
   ],
   "source": [
    "print('Coefficients: \\n', lm.coef_)"
   ]
  },
  {
   "cell_type": "markdown",
   "metadata": {},
   "source": [
    "# Predicting Test Data"
   ]
  },
  {
   "cell_type": "code",
   "execution_count": 64,
   "metadata": {},
   "outputs": [],
   "source": [
    "predictions = lm.predict(x_test)"
   ]
  },
  {
   "cell_type": "code",
   "execution_count": 65,
   "metadata": {},
   "outputs": [
    {
     "data": {
      "text/plain": [
       "Text(0, 0.5, 'y_test')"
      ]
     },
     "execution_count": 65,
     "metadata": {},
     "output_type": "execute_result"
    },
    {
     "data": {
      "image/png": "[encoded data removed]",
      "text/plain": [
       "<Figure size 432x288 with 1 Axes>"
      ]
     },
     "metadata": {
      "needs_background": "light"
     },
     "output_type": "display_data"
    }
   ],
   "source": [
    "plt.scatter(predictions,y_test)\n",
    "plt.xlabel('Predicted Y')\n",
    "plt.ylabel('y_test')"
   ]
  },
  {
   "cell_type": "markdown",
   "metadata": {},
   "source": [
    "# Evaluating the Model"
   ]
  },
  {
   "cell_type": "code",
   "execution_count": 66,
   "metadata": {},
   "outputs": [
    {
     "name": "stdout",
     "output_type": "stream",
     "text": [
      "MAE: 0.20717508491718348\n",
      "MSE: 0.11644759490459378\n",
      "RMSE: 0.3412441866238805\n"
     ]
    }
   ],
   "source": [
    "from sklearn import metrics\n",
    "\n",
    "print('MAE:', metrics.mean_absolute_error(y_test, predictions))\n",
    "print('MSE:' ,metrics.mean_squared_error(y_test, predictions))\n",
    "print('RMSE:',np.sqrt(metrics.mean_squared_error(y_test, predictions)))"
   ]
  },
  {
   "cell_type": "markdown",
   "metadata": {},
   "source": [
    "# Residuals"
   ]
  },
  {
   "cell_type": "code",
   "execution_count": 67,
   "metadata": {},
   "outputs": [
    {
     "data": {
      "image/png": "[encoded data removed]",
      "text/plain": [
       "<Figure size 432x288 with 1 Axes>"
      ]
     },
     "metadata": {
      "needs_background": "light"
     },
     "output_type": "display_data"
    }
   ],
   "source": [
    "sns.distplot((y_test-predictions),bins=51);"
   ]
  },
  {
   "cell_type": "code",
   "execution_count": 68,
   "metadata": {},
   "outputs": [
    {
     "data": {
      "text/html": [
       "<div>\n",
       "<style scoped>\n",
       "    .dataframe tbody tr th:only-of-type {\n",
       "        vertical-align: middle;\n",
       "    }\n",
       "\n",
       "    .dataframe tbody tr th {\n",
       "        vertical-align: top;\n",
       "    }\n",
       "\n",
       "    .dataframe thead th {\n",
       "        text-align: right;\n",
       "    }\n",
       "</style>\n",
       "<table border=\"1\" class=\"dataframe\">\n",
       "  <thead>\n",
       "    <tr style=\"text-align: right;\">\n",
       "      <th></th>\n",
       "      <th>Coeffecients</th>\n",
       "    </tr>\n",
       "  </thead>\n",
       "  <tbody>\n",
       "    <tr>\n",
       "      <th>Total Male_confirmed</th>\n",
       "      <td>1.044494</td>\n",
       "    </tr>\n",
       "  </tbody>\n",
       "</table>\n",
       "</div>"
      ],
      "text/plain": [
       "                      Coeffecients\n",
       "Total Male_confirmed      1.044494"
      ]
     },
     "execution_count": 68,
     "metadata": {},
     "output_type": "execute_result"
    }
   ],
   "source": [
    "coeffecients = pd.DataFrame(lm.coef_,x.columns)\n",
    "coeffecients.columns = ['Coeffecients']\n",
    "coeffecients"
   ]
  },
  {
   "cell_type": "markdown",
   "metadata": {},
   "source": [
    "# Linear Regression Model for population_Female"
   ]
  },
  {
   "cell_type": "code",
   "execution_count": 69,
   "metadata": {},
   "outputs": [],
   "source": [
    " df=df.astype({'Total Female_confirmed': 'int32', 'Total Female_confirmed': 'int32'})"
   ]
  },
  {
   "cell_type": "code",
   "execution_count": 70,
   "metadata": {},
   "outputs": [
    {
     "data": {
      "text/plain": [
       "(array([10.,  4.,  1.,  1.,  1.,  1.,  0.,  0.,  0.,  1.]),\n",
       " array([  6423. ,  22052.5,  37682. ,  53311.5,  68941. ,  84570.5,\n",
       "        100200. , 115829.5, 131459. , 147088.5, 162718. ]),\n",
       " <a list of 10 Patch objects>)"
      ]
     },
     "execution_count": 70,
     "metadata": {},
     "output_type": "execute_result"
    },
    {
     "data": {
      "image/png": "[encoded data removed]",
      "text/plain": [
       "<Figure size 432x288 with 1 Axes>"
      ]
     },
     "metadata": {
      "needs_background": "light"
     },
     "output_type": "display_data"
    }
   ],
   "source": [
    " plt.hist(x = df[\"Total Female_confirmed\"])"
   ]
  },
  {
   "cell_type": "code",
   "execution_count": 71,
   "metadata": {},
   "outputs": [
    {
     "data": {
      "text/plain": [
       "(array([9., 6., 1., 0., 1., 1., 0., 0., 0., 1.]),\n",
       " array([ 12438. ,  44110.4,  75782.8, 107455.2, 139127.6, 170800. ,\n",
       "        202472.4, 234144.8, 265817.2, 297489.6, 329162. ]),\n",
       " <a list of 10 Patch objects>)"
      ]
     },
     "execution_count": 71,
     "metadata": {},
     "output_type": "execute_result"
    },
    {
     "data": {
      "image/png": "[encoded data removed]",
      "text/plain": [
       "<Figure size 432x288 with 1 Axes>"
      ]
     },
     "metadata": {
      "needs_background": "light"
     },
     "output_type": "display_data"
    }
   ],
   "source": [
    "plt.hist(x = df[\"Total_confirmed\"])"
   ]
  },
  {
   "cell_type": "code",
   "execution_count": 72,
   "metadata": {},
   "outputs": [],
   "source": [
    "x = df[['Total Female_confirmed']]\n",
    "y = df[['Total_confirmed']]\n"
   ]
  },
  {
   "cell_type": "code",
   "execution_count": 73,
   "metadata": {},
   "outputs": [
    {
     "data": {
      "text/plain": [
       "Index(['Total Female_confirmed'], dtype='object')"
      ]
     },
     "execution_count": 73,
     "metadata": {},
     "output_type": "execute_result"
    }
   ],
   "source": [
    "x.columns"
   ]
  },
  {
   "cell_type": "code",
   "execution_count": 74,
   "metadata": {},
   "outputs": [
    {
     "name": "stdout",
     "output_type": "stream",
     "text": [
      "[[162718.]\n",
      " [ 18692.]\n",
      " [ 25838.]\n",
      " [ 78554.]\n",
      " [ 38640.]\n",
      " [ 60821.]\n",
      " [  7153.]\n",
      " [ 21453.]\n",
      " [ 20472.]\n",
      " [ 10225.]\n",
      " [ 13767.]\n",
      " [ 88627.]\n",
      " [ 33555.]\n",
      " [  6423.]\n",
      " [  9618.]\n",
      " [ 27362.]\n",
      " [ 30763.]\n",
      " [ 20328.]\n",
      " [ 18941.]]\n"
     ]
    }
   ],
   "source": [
    "from sklearn import preprocessing\n",
    "import numpy as np\n",
    "\n",
    "x_arr = np.array(x).reshape(-1,1)\n",
    "\n",
    "standardscaler = preprocessing.StandardScaler()\n",
    "x_scaler = standardscaler.fit_transform(x_arr)\n",
    "# print(x_scaler)\n",
    "\n",
    "x_scaledback = standardscaler.inverse_transform(x_scaler)\n",
    "print(x_scaledback)"
   ]
  },
  {
   "cell_type": "code",
   "execution_count": 75,
   "metadata": {},
   "outputs": [
    {
     "name": "stdout",
     "output_type": "stream",
     "text": [
      "[[329162.]\n",
      " [ 37686.]\n",
      " [ 47287.]\n",
      " [153916.]\n",
      " [ 74260.]\n",
      " [105629.]\n",
      " [ 69388.]\n",
      " [ 42281.]\n",
      " [ 35419.]\n",
      " [ 21172.]\n",
      " [ 27683.]\n",
      " [175298.]\n",
      " [ 66853.]\n",
      " [ 12438.]\n",
      " [ 17487.]\n",
      " [ 56648.]\n",
      " [ 65274.]\n",
      " [ 39218.]\n",
      " [ 36942.]]\n"
     ]
    }
   ],
   "source": [
    "y_arr = np.array(y).reshape(-1,1)\n",
    "\n",
    "standardscaler = preprocessing.StandardScaler()\n",
    "y_scaler = standardscaler.fit_transform(y_arr)\n",
    "# print(y_scaler)\n",
    "\n",
    "y_scaledback = standardscaler.inverse_transform(y_scaler)\n",
    "print(y_scaledback)"
   ]
  },
  {
   "cell_type": "markdown",
   "metadata": {},
   "source": [
    "# Train Test and Split the data"
   ]
  },
  {
   "cell_type": "code",
   "execution_count": 76,
   "metadata": {},
   "outputs": [],
   "source": [
    "x_train, x_test, y_train, y_test= train_test_split(x_scaler,y_scaler)"
   ]
  },
  {
   "cell_type": "markdown",
   "metadata": {},
   "source": [
    "# Creating and Training the Model"
   ]
  },
  {
   "cell_type": "code",
   "execution_count": 77,
   "metadata": {},
   "outputs": [],
   "source": [
    "lm = LinearRegression()"
   ]
  },
  {
   "cell_type": "code",
   "execution_count": 78,
   "metadata": {},
   "outputs": [
    {
     "data": {
      "text/plain": [
       "LinearRegression(copy_X=True, fit_intercept=True, n_jobs=None, normalize=False)"
      ]
     },
     "execution_count": 78,
     "metadata": {},
     "output_type": "execute_result"
    }
   ],
   "source": [
    "lm.fit(x_train, y_train)"
   ]
  },
  {
   "cell_type": "code",
   "execution_count": 79,
   "metadata": {},
   "outputs": [
    {
     "name": "stdout",
     "output_type": "stream",
     "text": [
      "Coefficients: \n",
      " [[1.01938131]]\n"
     ]
    }
   ],
   "source": [
    "print('Coefficients: \\n', lm.coef_)"
   ]
  },
  {
   "cell_type": "markdown",
   "metadata": {},
   "source": [
    "# Predicting Test Data"
   ]
  },
  {
   "cell_type": "code",
   "execution_count": 80,
   "metadata": {},
   "outputs": [],
   "source": [
    "predictions = lm.predict(x_test)"
   ]
  },
  {
   "cell_type": "code",
   "execution_count": 81,
   "metadata": {},
   "outputs": [
    {
     "data": {
      "text/plain": [
       "Text(0, 0.5, 'y_test')"
      ]
     },
     "execution_count": 81,
     "metadata": {},
     "output_type": "execute_result"
    },
    {
     "data": {
      "image/png": "[encoded data removed]",
      "text/plain": [
       "<Figure size 432x288 with 1 Axes>"
      ]
     },
     "metadata": {
      "needs_background": "light"
     },
     "output_type": "display_data"
    }
   ],
   "source": [
    "plt.scatter(predictions,y_test)\n",
    "plt.xlabel('Predicted Y')\n",
    "plt.ylabel('y_test')"
   ]
  },
  {
   "cell_type": "markdown",
   "metadata": {},
   "source": [
    "# Evaluating The Model"
   ]
  },
  {
   "cell_type": "code",
   "execution_count": 82,
   "metadata": {},
   "outputs": [
    {
     "name": "stdout",
     "output_type": "stream",
     "text": [
      "MAE: 0.17388335314785458\n",
      "MSE: 0.12115992895922703\n",
      "RMSE: 0.3480803484243646\n"
     ]
    }
   ],
   "source": [
    "\n",
    "print('MAE:', metrics.mean_absolute_error(y_test, predictions))\n",
    "print('MSE:' ,metrics.mean_squared_error(y_test, predictions))\n",
    "print('RMSE:',np.sqrt(metrics.mean_squared_error(y_test, predictions)))"
   ]
  },
  {
   "cell_type": "markdown",
   "metadata": {},
   "source": [
    "# Residuals"
   ]
  },
  {
   "cell_type": "code",
   "execution_count": 83,
   "metadata": {},
   "outputs": [
    {
     "data": {
      "image/png": "[encoded data removed]",
      "text/plain": [
       "<Figure size 432x288 with 1 Axes>"
      ]
     },
     "metadata": {
      "needs_background": "light"
     },
     "output_type": "display_data"
    }
   ],
   "source": [
    "sns.distplot((y_test-predictions),bins=51);"
   ]
  },
  {
   "cell_type": "code",
   "execution_count": 50,
   "metadata": {},
   "outputs": [
    {
     "data": {
      "text/html": [
       "<div>\n",
       "<style scoped>\n",
       "    .dataframe tbody tr th:only-of-type {\n",
       "        vertical-align: middle;\n",
       "    }\n",
       "\n",
       "    .dataframe tbody tr th {\n",
       "        vertical-align: top;\n",
       "    }\n",
       "\n",
       "    .dataframe thead th {\n",
       "        text-align: right;\n",
       "    }\n",
       "</style>\n",
       "<table border=\"1\" class=\"dataframe\">\n",
       "  <thead>\n",
       "    <tr style=\"text-align: right;\">\n",
       "      <th></th>\n",
       "      <th>Coeffecients</th>\n",
       "    </tr>\n",
       "  </thead>\n",
       "  <tbody>\n",
       "    <tr>\n",
       "      <th>Total Female_confirmed</th>\n",
       "      <td>0.977535</td>\n",
       "    </tr>\n",
       "  </tbody>\n",
       "</table>\n",
       "</div>"
      ],
      "text/plain": [
       "                        Coeffecients\n",
       "Total Female_confirmed      0.977535"
      ]
     },
     "execution_count": 50,
     "metadata": {},
     "output_type": "execute_result"
    }
   ],
   "source": [
    "coeffecients = pd.DataFrame(lm.coef_,x.columns)\n",
    "coeffecients.columns = ['Coeffecients']\n",
    "coeffecients"
   ]
  },
  {
   "cell_type": "code",
   "execution_count": null,
   "metadata": {},
   "outputs": [],
   "source": []
  }
 ],
 "metadata": {
  "kernelspec": {
   "display_name": "Python 3",
   "language": "python",
   "name": "python3"
  },
  "language_info": {
   "codemirror_mode": {
    "name": "ipython",
    "version": 3
   },
   "file_extension": ".py",
   "mimetype": "text/x-python",
   "name": "python",
   "nbconvert_exporter": "python",
   "pygments_lexer": "ipython3",
   "version": "3.7.6"
  }
 },
 "nbformat": 4,
 "nbformat_minor": 4
}
