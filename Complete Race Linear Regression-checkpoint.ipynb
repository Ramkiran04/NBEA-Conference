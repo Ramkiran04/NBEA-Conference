{
 "cells": [
  {
   "cell_type": "code",
   "execution_count": 2,
   "metadata": {},
   "outputs": [],
   "source": [
    "import pandas as pd\n",
    "import numpy as np\n",
    "import matplotlib.pyplot as plt\n",
    "import seaborn as sns\n",
    "import pandas.util.testing as tm\n",
    "from scipy.stats import spearmanr"
   ]
  },
  {
   "cell_type": "code",
   "execution_count": 20,
   "metadata": {},
   "outputs": [
    {
     "data": {
      "text/html": [
       "<div>\n",
       "<style scoped>\n",
       "    .dataframe tbody tr th:only-of-type {\n",
       "        vertical-align: middle;\n",
       "    }\n",
       "\n",
       "    .dataframe tbody tr th {\n",
       "        vertical-align: top;\n",
       "    }\n",
       "\n",
       "    .dataframe thead th {\n",
       "        text-align: right;\n",
       "    }\n",
       "</style>\n",
       "<table border=\"1\" class=\"dataframe\">\n",
       "  <thead>\n",
       "    <tr style=\"text-align: right;\">\n",
       "      <th></th>\n",
       "      <th>State</th>\n",
       "      <th>Hispanic</th>\n",
       "      <th>White</th>\n",
       "      <th>Black or African American</th>\n",
       "      <th>American Indian and Alaska Native</th>\n",
       "      <th>Asian</th>\n",
       "      <th>Asian Indian</th>\n",
       "      <th>Asian Chinese</th>\n",
       "      <th>Asian Filipino</th>\n",
       "      <th>Asian Japanese</th>\n",
       "      <th>Asian Korean</th>\n",
       "      <th>Asian Vietnamese</th>\n",
       "      <th>Native Hawaiian and Other Pacific Islander</th>\n",
       "      <th>cases</th>\n",
       "      <th>deaths</th>\n",
       "    </tr>\n",
       "  </thead>\n",
       "  <tbody>\n",
       "    <tr>\n",
       "      <th>0</th>\n",
       "      <td>Alabama</td>\n",
       "      <td>204800</td>\n",
       "      <td>3306838</td>\n",
       "      <td>1307040</td>\n",
       "      <td>22063</td>\n",
       "      <td>65095</td>\n",
       "      <td>14401</td>\n",
       "      <td>9858</td>\n",
       "      <td>5941</td>\n",
       "      <td>2921</td>\n",
       "      <td>10238</td>\n",
       "      <td>10185</td>\n",
       "      <td>1797</td>\n",
       "      <td>26912.0</td>\n",
       "      <td>785.0</td>\n",
       "    </tr>\n",
       "    <tr>\n",
       "      <th>1</th>\n",
       "      <td>Alaska</td>\n",
       "      <td>50200</td>\n",
       "      <td>474555</td>\n",
       "      <td>25197</td>\n",
       "      <td>111371</td>\n",
       "      <td>46381</td>\n",
       "      <td>1376</td>\n",
       "      <td>2988</td>\n",
       "      <td>28497</td>\n",
       "      <td>749</td>\n",
       "      <td>3484</td>\n",
       "      <td>810</td>\n",
       "      <td>7958</td>\n",
       "      <td>751.0</td>\n",
       "      <td>10.0</td>\n",
       "    </tr>\n",
       "    <tr>\n",
       "      <th>2</th>\n",
       "      <td>Arizona</td>\n",
       "      <td>2213600</td>\n",
       "      <td>5590505</td>\n",
       "      <td>336340</td>\n",
       "      <td>330599</td>\n",
       "      <td>237873</td>\n",
       "      <td>58926</td>\n",
       "      <td>46853</td>\n",
       "      <td>44169</td>\n",
       "      <td>11983</td>\n",
       "      <td>15633</td>\n",
       "      <td>27751</td>\n",
       "      <td>15661</td>\n",
       "      <td>39298.0</td>\n",
       "      <td>1228.0</td>\n",
       "    </tr>\n",
       "    <tr>\n",
       "      <th>3</th>\n",
       "      <td>Arkansas</td>\n",
       "      <td>224900</td>\n",
       "      <td>2306096</td>\n",
       "      <td>456714</td>\n",
       "      <td>20951</td>\n",
       "      <td>47548</td>\n",
       "      <td>9581</td>\n",
       "      <td>5053</td>\n",
       "      <td>4696</td>\n",
       "      <td>1728</td>\n",
       "      <td>3178</td>\n",
       "      <td>8184</td>\n",
       "      <td>9398</td>\n",
       "      <td>13191.0</td>\n",
       "      <td>188.0</td>\n",
       "    </tr>\n",
       "    <tr>\n",
       "      <th>4</th>\n",
       "      <td>California</td>\n",
       "      <td>15261300</td>\n",
       "      <td>23535388</td>\n",
       "      <td>2283850</td>\n",
       "      <td>302792</td>\n",
       "      <td>5821585</td>\n",
       "      <td>815948</td>\n",
       "      <td>1617484</td>\n",
       "      <td>1299922</td>\n",
       "      <td>279888</td>\n",
       "      <td>470112</td>\n",
       "      <td>674243</td>\n",
       "      <td>155739</td>\n",
       "      <td>159098.0</td>\n",
       "      <td>5202.0</td>\n",
       "    </tr>\n",
       "  </tbody>\n",
       "</table>\n",
       "</div>"
      ],
      "text/plain": [
       "        State  Hispanic     White  Black or African American  \\\n",
       "0     Alabama    204800   3306838                    1307040   \n",
       "1      Alaska     50200    474555                      25197   \n",
       "2     Arizona   2213600   5590505                     336340   \n",
       "3    Arkansas    224900   2306096                     456714   \n",
       "4  California  15261300  23535388                    2283850   \n",
       "\n",
       "   American Indian and Alaska Native    Asian  Asian Indian  Asian Chinese  \\\n",
       "0                              22063    65095         14401           9858   \n",
       "1                             111371    46381          1376           2988   \n",
       "2                             330599   237873         58926          46853   \n",
       "3                              20951    47548          9581           5053   \n",
       "4                             302792  5821585        815948        1617484   \n",
       "\n",
       "   Asian Filipino  Asian Japanese  Asian Korean  Asian Vietnamese  \\\n",
       "0            5941            2921         10238             10185   \n",
       "1           28497             749          3484               810   \n",
       "2           44169           11983         15633             27751   \n",
       "3            4696            1728          3178              8184   \n",
       "4         1299922          279888        470112            674243   \n",
       "\n",
       "   Native Hawaiian and Other Pacific Islander     cases  deaths  \n",
       "0                                        1797   26912.0   785.0  \n",
       "1                                        7958     751.0    10.0  \n",
       "2                                       15661   39298.0  1228.0  \n",
       "3                                        9398   13191.0   188.0  \n",
       "4                                      155739  159098.0  5202.0  "
      ]
     },
     "execution_count": 20,
     "metadata": {},
     "output_type": "execute_result"
    }
   ],
   "source": [
    "fd = pd.read_csv(\"Final_Data\", index_col = 0)\n",
    "fd.head()"
   ]
  },
  {
   "cell_type": "code",
   "execution_count": 21,
   "metadata": {},
   "outputs": [
    {
     "data": {
      "text/plain": [
       "Index(['State', 'Hispanic', 'White', 'Black or African American',\n",
       "       'American Indian and Alaska Native', 'Asian', 'Asian Indian',\n",
       "       'Asian Chinese', 'Asian Filipino', 'Asian Japanese', 'Asian Korean',\n",
       "       'Asian Vietnamese', 'Native Hawaiian and Other Pacific Islander',\n",
       "       'cases', 'deaths'],\n",
       "      dtype='object')"
      ]
     },
     "execution_count": 21,
     "metadata": {},
     "output_type": "execute_result"
    }
   ],
   "source": [
    "fd.columns"
   ]
  },
  {
   "cell_type": "code",
   "execution_count": null,
   "metadata": {},
   "outputs": [],
   "source": []
  },
  {
   "cell_type": "markdown",
   "metadata": {},
   "source": [
    "# Traning a Linear Regression Model"
   ]
  },
  {
   "cell_type": "code",
   "execution_count": 76,
   "metadata": {},
   "outputs": [],
   "source": [
    "y = fd[['cases']]"
   ]
  },
  {
   "cell_type": "code",
   "execution_count": 77,
   "metadata": {},
   "outputs": [],
   "source": [
    "X = fd[['Hispanic', 'White', 'Black or African American',\n",
    "       'American Indian and Alaska Native', 'Asian', 'Asian Indian',\n",
    "       'Asian Chinese', 'Asian Filipino', 'Asian Japanese', 'Asian Korean',\n",
    "       'Asian Vietnamese', 'Native Hawaiian and Other Pacific Islander']]\n"
   ]
  },
  {
   "cell_type": "code",
   "execution_count": 78,
   "metadata": {},
   "outputs": [
    {
     "name": "stdout",
     "output_type": "stream",
     "text": [
      "[[2.0480000e+05 3.3068380e+06 1.3070400e+06 2.2063000e+04 6.5095000e+04\n",
      "  1.4401000e+04 9.8580000e+03 5.9410000e+03 2.9210000e+03 1.0238000e+04\n",
      "  1.0185000e+04 1.7970000e+03]\n",
      " [5.0200000e+04 4.7455500e+05 2.5197000e+04 1.1137100e+05 4.6381000e+04\n",
      "  1.3760000e+03 2.9880000e+03 2.8497000e+04 7.4900000e+02 3.4840000e+03\n",
      "  8.1000000e+02 7.9580000e+03]\n",
      " [2.2136000e+06 5.5905050e+06 3.3634000e+05 3.3059900e+05 2.3787300e+05\n",
      "  5.8926000e+04 4.6853000e+04 4.4169000e+04 1.1983000e+04 1.5633000e+04\n",
      "  2.7751000e+04 1.5661000e+04]\n",
      " [2.2490000e+05 2.3060960e+06 4.5671400e+05 2.0951000e+04 4.7548000e+04\n",
      "  9.5810000e+03 5.0530000e+03 4.6960000e+03 1.7280000e+03 3.1780000e+03\n",
      "  8.1840000e+03 9.3980000e+03]\n",
      " [1.5261300e+07 2.3535388e+07 2.2838500e+06 3.0279200e+05 5.8215850e+06\n",
      "  8.1594800e+05 1.6174840e+06 1.2999220e+06 2.7988800e+05 4.7011200e+05\n",
      "  6.7424300e+05 1.5573900e+05]\n",
      " [1.2009000e+06 4.7906770e+06 2.3757800e+05 5.5146000e+04 1.8027700e+05\n",
      "  3.5512000e+04 3.3422000e+04 1.9141000e+04 9.9120000e+03 2.2998000e+04\n",
      "  2.5088000e+04 7.5850000e+03]\n",
      " [5.7640000e+05 2.6881360e+06 3.9155200e+05 9.5070000e+03 1.6585500e+05\n",
      "  7.0961000e+04 3.7189000e+04 9.5470000e+03 3.9170000e+03 9.1290000e+03\n",
      "  8.7920000e+03 1.0170000e+03]\n",
      " [8.8900000e+04 6.5978100e+05 2.1759400e+05 4.3970000e+03 3.9023000e+04\n",
      "  1.5566000e+04 8.5210000e+03 3.5070000e+03 6.1200000e+02 2.0200000e+03\n",
      "  2.1520000e+03 8.9600000e+02]\n",
      " [7.5600000e+04 2.9674700e+05 3.1977700e+05 1.9320000e+03 2.7538000e+04\n",
      "  6.3170000e+03 8.5160000e+03 3.0060000e+03 1.6700000e+03 3.2730000e+03\n",
      "  1.6280000e+03 3.9700000e+02]\n",
      " [5.4884000e+06 1.5899574e+07 3.4107410e+06 5.9870000e+04 5.9363400e+05\n",
      "  1.7177800e+05 1.1299000e+05 1.0719900e+05 1.7542000e+04 3.0485000e+04\n",
      "  7.2431000e+04 1.2841000e+04]\n",
      " [9.9430000e+05 6.1276450e+06 3.3196910e+06 3.4485000e+04 4.3605100e+05\n",
      "  1.4191500e+05 6.8404000e+04 2.6109000e+04 9.1660000e+03 5.3227000e+04\n",
      "  6.0114000e+04 1.4049000e+04]\n",
      " [1.4210000e+05 3.4565200e+05 2.8325000e+04 3.2370000e+03 5.3447900e+05\n",
      "  2.2490000e+03 5.6584000e+04 2.2031500e+05 1.6317400e+05 2.4804000e+04\n",
      "  1.2213000e+04 1.4497100e+05]\n",
      " [2.1750000e+05 1.5768460e+06 1.2075000e+04 2.3026000e+04 2.7026000e+04\n",
      "  2.9420000e+03 5.8620000e+03 6.7030000e+03 2.9180000e+03 8.9500000e+02\n",
      "  3.3490000e+03 2.7630000e+03]\n",
      " [2.1738000e+06 9.1351450e+06 1.7930790e+06 3.5846000e+04 7.1793800e+05\n",
      "  2.5612200e+05 1.3244700e+05 1.2464900e+05 1.7958000e+04 5.6597000e+04\n",
      "  3.5367000e+04 5.3170000e+03]\n",
      " [4.6090000e+05 5.5399270e+06 6.3727700e+05 1.4040000e+04 1.5422000e+05\n",
      "  4.3709000e+04 3.3644000e+04 1.4346000e+04 5.5190000e+03 9.7800000e+03\n",
      "  1.0075000e+04 3.4700000e+03]\n",
      " [1.8640000e+05 2.8460990e+06 1.1513700e+05 1.1494000e+04 7.9971000e+04\n",
      "  1.2415000e+04 1.3121000e+04 5.0290000e+03 1.4940000e+03 6.7170000e+03\n",
      "  1.1705000e+04 3.4630000e+03]\n",
      " [3.3650000e+05 2.4468230e+06 1.7114100e+05 2.6829000e+04 8.2444000e+04\n",
      "  2.0564000e+04 1.1675000e+04 4.5050000e+03 1.7460000e+03 5.1360000e+03\n",
      "  1.7089000e+04 2.9290000e+03]\n",
      " [1.5500000e+05 3.8750230e+06 3.5476100e+05 8.4700000e+03 6.5300000e+04\n",
      "  1.4340000e+04 1.3302000e+04 6.2240000e+03 4.8060000e+03 5.1480000e+03\n",
      "  5.8190000e+03 4.9430000e+03]\n",
      " [2.2940000e+05 2.8771150e+06 1.5094070e+06 2.5657000e+04 7.6255000e+04\n",
      "  9.8580000e+03 1.1547000e+04 1.1479000e+04 1.1720000e+03 2.5340000e+03\n",
      "  2.9392000e+04 1.1330000e+03]\n",
      " [1.9500000e+04 1.2614530e+06 1.8954000e+04 8.5660000e+03 1.5683000e+04\n",
      "  2.6290000e+03 3.3050000e+03 2.5440000e+03 1.2590000e+03 1.8110000e+03\n",
      "  1.9300000e+03 4.6500000e+02]\n",
      " [6.1390000e+05 3.3050470e+06 1.8108850e+06 1.3433000e+04 3.7898500e+05\n",
      "  9.9035000e+04 8.9525000e+04 4.9140000e+04 6.5450000e+03 4.5273000e+04\n",
      "  2.8104000e+04 7.3110000e+03]\n",
      " [8.2480000e+05 5.3351750e+06 5.3752300e+05 1.6198000e+04 4.7240300e+05\n",
      "  1.2006300e+05 1.7971600e+05 1.5409000e+04 8.9330000e+03 2.3561000e+04\n",
      "  5.2771000e+04 2.7750000e+03]\n",
      " [5.0290000e+05 7.8252850e+06 1.3767510e+06 5.3012000e+04 3.2582800e+05\n",
      "  1.1798300e+05 6.0872000e+04 2.6962000e+04 1.3900000e+04 2.7174000e+04\n",
      "  2.1132000e+04 3.9070000e+03]\n",
      " [2.9610000e+05 4.6293750e+06 3.6765300e+05 6.0983000e+04 2.7312600e+05\n",
      "  4.3596000e+04 3.3553000e+04 1.3188000e+04 5.1260000e+03 1.6431000e+04\n",
      "  2.5404000e+04 2.3960000e+03]\n",
      " [8.1200000e+04 1.7354550e+06 1.1355990e+06 1.3234000e+04 2.6142000e+04\n",
      "  5.9060000e+03 4.6590000e+03 3.9300000e+03 5.8500000e+02 9.7800000e+02\n",
      "  6.0380000e+03 1.3720000e+03]\n",
      " [2.4040000e+05 5.0351970e+06 7.0432700e+05 2.7705000e+04 1.2141700e+05\n",
      "  3.0435000e+04 2.9621000e+04 1.1302000e+04 2.3880000e+03 1.1526000e+04\n",
      "  1.7208000e+04 7.3850000e+03]\n",
      " [4.0500000e+04 9.4143800e+05 5.0560000e+03 6.8013000e+04 8.5170000e+03\n",
      "  8.2200000e+02 1.5010000e+03 2.7710000e+03 6.9300000e+02 9.9800000e+02\n",
      "  8.3100000e+02 9.9000000e+02]\n",
      " [2.0680000e+05 1.6669900e+06 9.1221000e+04 1.8555000e+04 4.5779000e+04\n",
      "  8.3370000e+03 5.7100000e+03 4.8320000e+03 1.6320000e+03 3.8330000e+03\n",
      "  7.1320000e+03 1.2890000e+03]\n",
      " [8.6680000e+05 1.9249760e+06 2.8038500e+05 4.4666000e+04 2.5013700e+05\n",
      "  1.1123000e+04 3.9196000e+04 1.2973900e+05 1.1514000e+04 1.1750000e+04\n",
      "  1.7744000e+04 1.9612000e+04]\n",
      " [4.9900000e+04 1.2539310e+06 2.3432000e+04 3.5620000e+03 3.6048000e+04\n",
      "  9.7120000e+03 8.1410000e+03 2.9310000e+03 7.4400000e+02 1.8700000e+03\n",
      "  3.3610000e+03 5.1500000e+02]\n",
      " [1.8121000e+06 5.9565390e+06 1.2079950e+06 2.1131000e+04 8.6821300e+05\n",
      "  3.8724400e+05 1.5344700e+05 1.2022200e+05 1.2448000e+04 9.9165000e+04\n",
      "  1.9085000e+04 2.9090000e+03]\n",
      " [1.0048000e+06 1.5999380e+06 4.6064000e+04 2.0065900e+05 3.4155000e+04\n",
      "  6.6080000e+03 6.2220000e+03 7.9270000e+03 1.5180000e+03 2.4900000e+03\n",
      "  5.7790000e+03 2.4650000e+03]\n",
      " [3.6650000e+06 1.2375601e+07 3.0692590e+06 8.4312000e+04 1.6661130e+06\n",
      "  3.7943900e+05 7.0504700e+05 1.1145600e+05 3.8853000e+04 1.2350700e+05\n",
      "  2.9751000e+04 9.4240000e+03]\n",
      " [9.6260000e+05 7.0985690e+06 2.2225330e+06 1.2084500e+05 3.0668200e+05\n",
      "  1.0443800e+05 5.3510000e+04 2.0713000e+04 8.7520000e+03 2.2544000e+04\n",
      "  2.8006000e+04 1.0218000e+04]\n",
      " [2.5800000e+04 6.5168700e+05 2.5896000e+04 4.1270000e+04 1.3749000e+04\n",
      "  3.1890000e+03 7.9100000e+02 2.7630000e+03 3.1400000e+02 1.2330000e+03\n",
      "  7.7800000e+02 3.3900000e+02]\n",
      " [4.3490000e+05 9.4709400e+06 1.4463060e+06 2.5672000e+04 2.7176200e+05\n",
      "  9.5049000e+04 5.9617000e+04 1.8275000e+04 1.1629000e+04 1.7893000e+04\n",
      "  1.7619000e+04 4.2280000e+03]\n",
      " [4.1420000e+05 2.8459060e+06 2.8768000e+05 3.0718300e+05 8.4694000e+04\n",
      "  1.8453000e+04 1.1523000e+04 4.3140000e+03 2.0320000e+03 7.2440000e+03\n",
      "  2.0629000e+04 3.8590000e+03]\n",
      " [5.4530000e+05 3.5149830e+06 8.2046000e+04 4.9051000e+04 1.9068000e+05\n",
      "  2.6182000e+04 4.2189000e+04 2.4144000e+04 1.3293000e+04 1.7743000e+04\n",
      "  3.2447000e+04 1.8758000e+04]\n",
      " [9.3990000e+05 1.0256084e+07 1.4284060e+06 2.1418000e+04 4.5502700e+05\n",
      "  1.4353900e+05 1.1981700e+05 2.5128000e+04 5.0560000e+03 3.9144000e+04\n",
      "  4.0920000e+04 5.0080000e+03]\n",
      " [1.6270000e+05 8.5280500e+05 7.0749000e+04 4.3410000e+03 3.6064000e+04\n",
      "  8.3420000e+03 8.3350000e+03 1.8180000e+03 9.0300000e+02 1.5380000e+03\n",
      "  1.9160000e+03 8.8300000e+02]\n",
      " [2.8410000e+05 3.4077060e+06 1.3535990e+06 2.3672000e+04 8.0969000e+04\n",
      "  2.1145000e+04 1.5787000e+04 1.3260000e+04 3.3930000e+03 4.7410000e+03\n",
      "  1.3641000e+04 4.0040000e+03]\n",
      " [3.2100000e+04 7.4087000e+05 1.9057000e+04 7.8068000e+04 1.5023000e+04\n",
      "  3.5330000e+03 1.1070000e+03 1.4730000e+03 2.5000000e+02 7.6300000e+02\n",
      "  9.3000000e+02 5.1000000e+01]\n",
      " [3.6180000e+05 5.2355880e+06 1.1378010e+06 1.9136000e+04 1.1904600e+05\n",
      "  2.6391000e+04 2.1534000e+04 1.1865000e+04 5.1580000e+03 9.4880000e+03\n",
      "  1.4882000e+04 5.4940000e+03]\n",
      " [1.1163700e+07 2.1099066e+07 3.5270270e+06 1.4999700e+05 1.4308570e+06\n",
      "  4.5259800e+05 2.3309700e+05 1.4632000e+05 2.4311000e+04 8.0649000e+04\n",
      "  2.6799600e+05 2.1463000e+04]\n",
      " [4.3820000e+05 2.7081950e+06 4.0365000e+04 3.4678000e+04 7.5898000e+04\n",
      "  1.2079000e+04 1.4285000e+04 8.0340000e+03 6.2080000e+03 6.7560000e+03\n",
      "  9.6630000e+03 2.9362000e+04]\n",
      " [1.1000000e+04 5.8933700e+05 7.6210000e+03 1.7430000e+03 1.1859000e+04\n",
      "  9.2200000e+02 3.5870000e+03 1.4280000e+03 2.0800000e+02 1.6230000e+03\n",
      "  4.2700000e+02 1.3900000e+02]\n",
      " [7.7990000e+05 5.7375800e+06 1.6315120e+06 2.2265000e+04 5.5542200e+05\n",
      "  1.5360100e+05 7.8031000e+04 8.0656000e+04 1.0850000e+04 7.3411000e+04\n",
      "  6.8558000e+04 5.6590000e+03]\n",
      " [9.4970000e+05 5.6332630e+06 2.9180800e+05 9.7329000e+04 6.6178100e+05\n",
      "  1.2835600e+05 1.5034400e+05 1.0087700e+05 3.8846000e+04 6.6990000e+04\n",
      "  8.4125000e+04 5.3924000e+04]\n",
      " [2.2500000e+04 1.6797730e+06 6.8679000e+04 2.6290000e+03 1.3459000e+04\n",
      "  2.3310000e+03 3.8930000e+03 1.9940000e+03 6.8600000e+02 1.3960000e+03\n",
      "  1.1370000e+03 4.5100000e+02]\n",
      " [3.9360000e+05 4.9572430e+06 3.7063200e+05 5.0364000e+04 1.6538000e+05\n",
      "  3.3093000e+04 2.6627000e+04 8.9650000e+03 4.6630000e+03 8.9000000e+03\n",
      "  6.0240000e+03 1.9610000e+03]\n",
      " [5.6000000e+04 5.2845300e+05 3.6670000e+03 1.6185000e+04 5.8070000e+03\n",
      "  4.3500000e+02 1.8630000e+03 7.9600000e+02 1.2110000e+03 4.6800000e+02\n",
      "  4.0000000e+01 1.1110000e+03]]\n"
     ]
    }
   ],
   "source": [
    "from sklearn import preprocessing\n",
    "import numpy as np\n",
    "\n",
    "\n",
    "\n",
    "standardscaler = preprocessing.StandardScaler()\n",
    "X_scaler = standardscaler.fit_transform(X)\n",
    "# print(x_scaler)\n",
    "\n",
    "X_scaledback = standardscaler.inverse_transform(X_scaler)\n",
    "print(X_scaledback)\n"
   ]
  },
  {
   "cell_type": "markdown",
   "metadata": {},
   "source": [
    "You should scaled y_train"
   ]
  },
  {
   "cell_type": "code",
   "execution_count": 79,
   "metadata": {},
   "outputs": [
    {
     "name": "stdout",
     "output_type": "stream",
     "text": [
      "[[ 26912.]\n",
      " [   751.]\n",
      " [ 39298.]\n",
      " [ 13191.]\n",
      " [159098.]\n",
      " [ 29427.]\n",
      " [ 45349.]\n",
      " [ 10403.]\n",
      " [  9818.]\n",
      " [ 80101.]\n",
      " [ 56302.]\n",
      " [   728.]\n",
      " [  3543.]\n",
      " [134866.]\n",
      " [ 41780.]\n",
      " [ 24263.]\n",
      " [ 11569.]\n",
      " [ 12899.]\n",
      " [ 47818.]\n",
      " [  2819.]\n",
      " [ 63004.]\n",
      " [105885.]\n",
      " [ 66466.]\n",
      " [ 30913.]\n",
      " [ 20152.]\n",
      " [ 16930.]\n",
      " [   614.]\n",
      " [ 17031.]\n",
      " [ 11673.]\n",
      " [  5364.]\n",
      " [167426.]\n",
      " [  9933.]\n",
      " [389349.]\n",
      " [ 46105.]\n",
      " [  3127.]\n",
      " [ 42010.]\n",
      " [  8645.]\n",
      " [  6105.]\n",
      " [ 84077.]\n",
      " [ 16164.]\n",
      " [ 19990.]\n",
      " [  5966.]\n",
      " [ 31623.]\n",
      " [ 95973.]\n",
      " [ 15077.]\n",
      " [  1131.]\n",
      " [ 55331.]\n",
      " [ 27949.]\n",
      " [  2341.]\n",
      " [ 23328.]\n",
      " [  1089.]]\n"
     ]
    }
   ],
   "source": [
    "y_arr = np.array(y).reshape(-1,1)\n",
    "\n",
    "standardscaler = preprocessing.StandardScaler()\n",
    "y_scaler = standardscaler.fit_transform(y_arr)\n",
    "# print(y_scaler)\n",
    "\n",
    "y_scaledback = standardscaler.inverse_transform(y_scaler)\n",
    "print(y_scaledback)"
   ]
  },
  {
   "cell_type": "code",
   "execution_count": 80,
   "metadata": {},
   "outputs": [],
   "source": [
    "# from sklearn import preprocessing\n",
    "# import numpy as np\n",
    "\n",
    "# standardscaler = preprocessing.StandardScaler()\n",
    "# x_scaler = standardscaler.fit_transform(x)\n",
    "# # print(x_scaler)\n",
    "\n",
    "# x_scaledback = standardscaler.inverse_transform(x_scaler)\n",
    "# print(x_scaledback)"
   ]
  },
  {
   "cell_type": "code",
   "execution_count": 81,
   "metadata": {},
   "outputs": [],
   "source": [
    "# y_arr = np.array(y).reshape(-1,1)\n",
    "\n",
    "# standardscaler = preprocessing.StandardScaler()\n",
    "# y_scaler = standardscaler.fit_transform(y_arr)\n",
    "# # print(y_scaler)\n",
    "\n",
    "# y_scaledback = standardscaler.inverse_transform(y_scaler)\n",
    "# print(y_scaledback)"
   ]
  },
  {
   "cell_type": "markdown",
   "metadata": {},
   "source": [
    "# Train Test and Split the data\n"
   ]
  },
  {
   "cell_type": "code",
   "execution_count": 82,
   "metadata": {},
   "outputs": [],
   "source": [
    "from sklearn.model_selection import train_test_split"
   ]
  },
  {
   "cell_type": "code",
   "execution_count": 83,
   "metadata": {},
   "outputs": [],
   "source": [
    "X_train, X_test, y_train, y_test= train_test_split(X_scaler,y_scaler)"
   ]
  },
  {
   "cell_type": "markdown",
   "metadata": {},
   "source": [
    "# Creating and Training the Model"
   ]
  },
  {
   "cell_type": "code",
   "execution_count": 84,
   "metadata": {},
   "outputs": [],
   "source": [
    "from sklearn.linear_model import LinearRegression"
   ]
  },
  {
   "cell_type": "code",
   "execution_count": 85,
   "metadata": {},
   "outputs": [],
   "source": [
    "lm = LinearRegression()"
   ]
  },
  {
   "cell_type": "code",
   "execution_count": 86,
   "metadata": {},
   "outputs": [
    {
     "data": {
      "text/plain": [
       "LinearRegression(copy_X=True, fit_intercept=True, n_jobs=None, normalize=False)"
      ]
     },
     "execution_count": 86,
     "metadata": {},
     "output_type": "execute_result"
    }
   ],
   "source": [
    "lm.fit(X_train,y_train)"
   ]
  },
  {
   "cell_type": "markdown",
   "metadata": {},
   "source": [
    "Print out the coeff"
   ]
  },
  {
   "cell_type": "code",
   "execution_count": 87,
   "metadata": {},
   "outputs": [
    {
     "name": "stdout",
     "output_type": "stream",
     "text": [
      "Coefficients: \n",
      " [[-0.14187195  0.05916402  0.14317654  0.01446961  1.13389647  0.87040218\n",
      "   1.2464555  -0.50969851 -0.14557191 -0.98156308 -1.12345984  0.09838245]]\n"
     ]
    }
   ],
   "source": [
    "print('Coefficients: \\n', lm.coef_)"
   ]
  },
  {
   "cell_type": "code",
   "execution_count": 88,
   "metadata": {},
   "outputs": [],
   "source": [
    "predictions = lm.predict(X_test) # put x_test scale values"
   ]
  },
  {
   "cell_type": "code",
   "execution_count": 89,
   "metadata": {},
   "outputs": [
    {
     "data": {
      "text/plain": [
       "Text(0, 0.5, 'y_test')"
      ]
     },
     "execution_count": 89,
     "metadata": {},
     "output_type": "execute_result"
    },
    {
     "data": {
      "image/png": "[encoded data removed]",
      "text/plain": [
       "<Figure size 432x288 with 1 Axes>"
      ]
     },
     "metadata": {
      "needs_background": "light"
     },
     "output_type": "display_data"
    }
   ],
   "source": [
    "plt.scatter(predictions,y_test)\n",
    "plt.xlabel('Predicted Y')\n",
    "plt.ylabel('y_test')"
   ]
  },
  {
   "cell_type": "code",
   "execution_count": 90,
   "metadata": {},
   "outputs": [
    {
     "name": "stdout",
     "output_type": "stream",
     "text": [
      "MAE: 0.15775000563610866\n",
      "MSE: 0.04756115628108564\n",
      "RMSE: 0.2180852041773711\n"
     ]
    }
   ],
   "source": [
    "from sklearn import metrics\n",
    "\n",
    "print('MAE:', metrics.mean_absolute_error(y_test, predictions))\n",
    "print('MSE:' ,metrics.mean_squared_error(y_test, predictions))\n",
    "print('RMSE:',np.sqrt(metrics.mean_squared_error(y_test, predictions)))"
   ]
  },
  {
   "cell_type": "code",
   "execution_count": 91,
   "metadata": {},
   "outputs": [
    {
     "data": {
      "image/png": "[encoded data removed]",
      "text/plain": [
       "<Figure size 432x288 with 1 Axes>"
      ]
     },
     "metadata": {
      "needs_background": "light"
     },
     "output_type": "display_data"
    }
   ],
   "source": [
    "sns.distplot((y_test-predictions),bins=51);"
   ]
  },
  {
   "cell_type": "code",
   "execution_count": null,
   "metadata": {},
   "outputs": [],
   "source": []
  },
  {
   "cell_type": "code",
   "execution_count": 115,
   "metadata": {},
   "outputs": [
    {
     "data": {
      "text/plain": [
       "[[-0.14187194861781297,\n",
       "  0.05916402391439569,\n",
       "  0.14317654485751746,\n",
       "  0.014469610623387294,\n",
       "  1.1338964655197015,\n",
       "  0.8704021837161809,\n",
       "  1.2464555005007028,\n",
       "  -0.5096985064511561,\n",
       "  -0.14557190634702366,\n",
       "  -0.9815630832818203,\n",
       "  -1.1234598381759182,\n",
       "  0.09838244783798081]]"
      ]
     },
     "execution_count": 115,
     "metadata": {},
     "output_type": "execute_result"
    }
   ],
   "source": [
    "#type(lm.coef_)\n",
    "coeffecients = lm.coef_.tolist()\n",
    "coeffecients"
   ]
  },
  {
   "cell_type": "code",
   "execution_count": 116,
   "metadata": {},
   "outputs": [
    {
     "data": {
      "text/plain": [
       "1"
      ]
     },
     "execution_count": 116,
     "metadata": {},
     "output_type": "execute_result"
    }
   ],
   "source": [
    "len(coeffecients)"
   ]
  },
  {
   "cell_type": "code",
   "execution_count": 108,
   "metadata": {},
   "outputs": [
    {
     "data": {
      "text/plain": [
       "list"
      ]
     },
     "execution_count": 108,
     "metadata": {},
     "output_type": "execute_result"
    }
   ],
   "source": [
    "columns = X.columns.tolist()\n",
    "type(columns)        "
   ]
  },
  {
   "cell_type": "code",
   "execution_count": 117,
   "metadata": {},
   "outputs": [
    {
     "data": {
      "text/plain": [
       "12"
      ]
     },
     "execution_count": 117,
     "metadata": {},
     "output_type": "execute_result"
    }
   ],
   "source": [
    "len(columns)"
   ]
  },
  {
   "cell_type": "code",
   "execution_count": 118,
   "metadata": {},
   "outputs": [
    {
     "data": {
      "text/plain": [
       "['Hispanic',\n",
       " 'White',\n",
       " 'Black or African American',\n",
       " 'American Indian and Alaska Native',\n",
       " 'Asian',\n",
       " 'Asian Indian',\n",
       " 'Asian Chinese',\n",
       " 'Asian Filipino',\n",
       " 'Asian Japanese',\n",
       " 'Asian Korean',\n",
       " 'Asian Vietnamese',\n",
       " 'Native Hawaiian and Other Pacific Islander']"
      ]
     },
     "execution_count": 118,
     "metadata": {},
     "output_type": "execute_result"
    }
   ],
   "source": [
    "columns"
   ]
  },
  {
   "cell_type": "code",
   "execution_count": 109,
   "metadata": {},
   "outputs": [],
   "source": [
    "#coeffecients = pd.DataFrame(lm.coef_,X.columns)"
   ]
  },
  {
   "cell_type": "code",
   "execution_count": 111,
   "metadata": {},
   "outputs": [],
   "source": [
    "d = {'cols':columns,'coef':coeffecients}"
   ]
  },
  {
   "cell_type": "code",
   "execution_count": 113,
   "metadata": {},
   "outputs": [
    {
     "data": {
      "text/plain": [
       "12"
      ]
     },
     "execution_count": 113,
     "metadata": {},
     "output_type": "execute_result"
    }
   ],
   "source": [
    "len(columns)"
   ]
  },
  {
   "cell_type": "code",
   "execution_count": 114,
   "metadata": {},
   "outputs": [
    {
     "data": {
      "text/plain": [
       "1"
      ]
     },
     "execution_count": 114,
     "metadata": {},
     "output_type": "execute_result"
    }
   ],
   "source": [
    "len(coeffecients)"
   ]
  },
  {
   "cell_type": "code",
   "execution_count": 126,
   "metadata": {},
   "outputs": [],
   "source": [
    "# coeffecient = pd.DataFrame(coeffecients,columns)\n",
    "# coeffecient.columns = ['Coeffecient']\n",
    "# coeffecient"
   ]
  },
  {
   "cell_type": "code",
   "execution_count": 143,
   "metadata": {},
   "outputs": [
    {
     "data": {
      "text/html": [
       "<div>\n",
       "<style scoped>\n",
       "    .dataframe tbody tr th:only-of-type {\n",
       "        vertical-align: middle;\n",
       "    }\n",
       "\n",
       "    .dataframe tbody tr th {\n",
       "        vertical-align: top;\n",
       "    }\n",
       "\n",
       "    .dataframe thead th {\n",
       "        text-align: right;\n",
       "    }\n",
       "</style>\n",
       "<table border=\"1\" class=\"dataframe\">\n",
       "  <thead>\n",
       "    <tr style=\"text-align: right;\">\n",
       "      <th></th>\n",
       "      <th>0</th>\n",
       "      <th>1</th>\n",
       "      <th>2</th>\n",
       "      <th>3</th>\n",
       "      <th>4</th>\n",
       "      <th>5</th>\n",
       "      <th>6</th>\n",
       "      <th>7</th>\n",
       "      <th>8</th>\n",
       "      <th>9</th>\n",
       "      <th>10</th>\n",
       "      <th>11</th>\n",
       "    </tr>\n",
       "  </thead>\n",
       "  <tbody>\n",
       "    <tr>\n",
       "      <th>0</th>\n",
       "      <td>-0.141872</td>\n",
       "      <td>0.059164</td>\n",
       "      <td>0.143177</td>\n",
       "      <td>0.01447</td>\n",
       "      <td>1.133896</td>\n",
       "      <td>0.870402</td>\n",
       "      <td>1.246456</td>\n",
       "      <td>-0.509699</td>\n",
       "      <td>-0.145572</td>\n",
       "      <td>-0.981563</td>\n",
       "      <td>-1.12346</td>\n",
       "      <td>0.098382</td>\n",
       "    </tr>\n",
       "  </tbody>\n",
       "</table>\n",
       "</div>"
      ],
      "text/plain": [
       "          0         1         2        3         4         5         6  \\\n",
       "0 -0.141872  0.059164  0.143177  0.01447  1.133896  0.870402  1.246456   \n",
       "\n",
       "          7         8         9       10        11  \n",
       "0 -0.509699 -0.145572 -0.981563 -1.12346  0.098382  "
      ]
     },
     "execution_count": 143,
     "metadata": {},
     "output_type": "execute_result"
    }
   ],
   "source": [
    "coeffecients = pd.DataFrame(lm.coef_)\n",
    "# coeffecients.columns = ['Coeffecient']\n",
    "coeffecients"
   ]
  },
  {
   "cell_type": "code",
   "execution_count": 144,
   "metadata": {},
   "outputs": [
    {
     "data": {
      "text/html": [
       "<div>\n",
       "<style scoped>\n",
       "    .dataframe tbody tr th:only-of-type {\n",
       "        vertical-align: middle;\n",
       "    }\n",
       "\n",
       "    .dataframe tbody tr th {\n",
       "        vertical-align: top;\n",
       "    }\n",
       "\n",
       "    .dataframe thead th {\n",
       "        text-align: right;\n",
       "    }\n",
       "</style>\n",
       "<table border=\"1\" class=\"dataframe\">\n",
       "  <thead>\n",
       "    <tr style=\"text-align: right;\">\n",
       "      <th></th>\n",
       "      <th>0</th>\n",
       "    </tr>\n",
       "  </thead>\n",
       "  <tbody>\n",
       "    <tr>\n",
       "      <th>0</th>\n",
       "      <td>-0.141872</td>\n",
       "    </tr>\n",
       "    <tr>\n",
       "      <th>1</th>\n",
       "      <td>0.059164</td>\n",
       "    </tr>\n",
       "    <tr>\n",
       "      <th>2</th>\n",
       "      <td>0.143177</td>\n",
       "    </tr>\n",
       "    <tr>\n",
       "      <th>3</th>\n",
       "      <td>0.014470</td>\n",
       "    </tr>\n",
       "    <tr>\n",
       "      <th>4</th>\n",
       "      <td>1.133896</td>\n",
       "    </tr>\n",
       "    <tr>\n",
       "      <th>5</th>\n",
       "      <td>0.870402</td>\n",
       "    </tr>\n",
       "    <tr>\n",
       "      <th>6</th>\n",
       "      <td>1.246456</td>\n",
       "    </tr>\n",
       "    <tr>\n",
       "      <th>7</th>\n",
       "      <td>-0.509699</td>\n",
       "    </tr>\n",
       "    <tr>\n",
       "      <th>8</th>\n",
       "      <td>-0.145572</td>\n",
       "    </tr>\n",
       "    <tr>\n",
       "      <th>9</th>\n",
       "      <td>-0.981563</td>\n",
       "    </tr>\n",
       "    <tr>\n",
       "      <th>10</th>\n",
       "      <td>-1.123460</td>\n",
       "    </tr>\n",
       "    <tr>\n",
       "      <th>11</th>\n",
       "      <td>0.098382</td>\n",
       "    </tr>\n",
       "  </tbody>\n",
       "</table>\n",
       "</div>"
      ],
      "text/plain": [
       "           0\n",
       "0  -0.141872\n",
       "1   0.059164\n",
       "2   0.143177\n",
       "3   0.014470\n",
       "4   1.133896\n",
       "5   0.870402\n",
       "6   1.246456\n",
       "7  -0.509699\n",
       "8  -0.145572\n",
       "9  -0.981563\n",
       "10 -1.123460\n",
       "11  0.098382"
      ]
     },
     "execution_count": 144,
     "metadata": {},
     "output_type": "execute_result"
    }
   ],
   "source": [
    "coeffecients =coeffecients.transpose()\n",
    "coeffecients"
   ]
  },
  {
   "cell_type": "code",
   "execution_count": 146,
   "metadata": {},
   "outputs": [
    {
     "data": {
      "text/html": [
       "<div>\n",
       "<style scoped>\n",
       "    .dataframe tbody tr th:only-of-type {\n",
       "        vertical-align: middle;\n",
       "    }\n",
       "\n",
       "    .dataframe tbody tr th {\n",
       "        vertical-align: top;\n",
       "    }\n",
       "\n",
       "    .dataframe thead th {\n",
       "        text-align: right;\n",
       "    }\n",
       "</style>\n",
       "<table border=\"1\" class=\"dataframe\">\n",
       "  <thead>\n",
       "    <tr style=\"text-align: right;\">\n",
       "      <th></th>\n",
       "      <th>0</th>\n",
       "      <th>cols</th>\n",
       "    </tr>\n",
       "  </thead>\n",
       "  <tbody>\n",
       "    <tr>\n",
       "      <th>0</th>\n",
       "      <td>-0.141872</td>\n",
       "      <td>Hispanic</td>\n",
       "    </tr>\n",
       "    <tr>\n",
       "      <th>1</th>\n",
       "      <td>0.059164</td>\n",
       "      <td>White</td>\n",
       "    </tr>\n",
       "    <tr>\n",
       "      <th>2</th>\n",
       "      <td>0.143177</td>\n",
       "      <td>Black or African American</td>\n",
       "    </tr>\n",
       "    <tr>\n",
       "      <th>3</th>\n",
       "      <td>0.014470</td>\n",
       "      <td>American Indian and Alaska Native</td>\n",
       "    </tr>\n",
       "    <tr>\n",
       "      <th>4</th>\n",
       "      <td>1.133896</td>\n",
       "      <td>Asian</td>\n",
       "    </tr>\n",
       "    <tr>\n",
       "      <th>5</th>\n",
       "      <td>0.870402</td>\n",
       "      <td>Asian Indian</td>\n",
       "    </tr>\n",
       "    <tr>\n",
       "      <th>6</th>\n",
       "      <td>1.246456</td>\n",
       "      <td>Asian Chinese</td>\n",
       "    </tr>\n",
       "    <tr>\n",
       "      <th>7</th>\n",
       "      <td>-0.509699</td>\n",
       "      <td>Asian Filipino</td>\n",
       "    </tr>\n",
       "    <tr>\n",
       "      <th>8</th>\n",
       "      <td>-0.145572</td>\n",
       "      <td>Asian Japanese</td>\n",
       "    </tr>\n",
       "    <tr>\n",
       "      <th>9</th>\n",
       "      <td>-0.981563</td>\n",
       "      <td>Asian Korean</td>\n",
       "    </tr>\n",
       "    <tr>\n",
       "      <th>10</th>\n",
       "      <td>-1.123460</td>\n",
       "      <td>Asian Vietnamese</td>\n",
       "    </tr>\n",
       "    <tr>\n",
       "      <th>11</th>\n",
       "      <td>0.098382</td>\n",
       "      <td>Native Hawaiian and Other Pacific Islander</td>\n",
       "    </tr>\n",
       "  </tbody>\n",
       "</table>\n",
       "</div>"
      ],
      "text/plain": [
       "           0                                        cols\n",
       "0  -0.141872                                    Hispanic\n",
       "1   0.059164                                       White\n",
       "2   0.143177                   Black or African American\n",
       "3   0.014470           American Indian and Alaska Native\n",
       "4   1.133896                                       Asian\n",
       "5   0.870402                                Asian Indian\n",
       "6   1.246456                               Asian Chinese\n",
       "7  -0.509699                              Asian Filipino\n",
       "8  -0.145572                              Asian Japanese\n",
       "9  -0.981563                                Asian Korean\n",
       "10 -1.123460                            Asian Vietnamese\n",
       "11  0.098382  Native Hawaiian and Other Pacific Islander"
      ]
     },
     "execution_count": 146,
     "metadata": {},
     "output_type": "execute_result"
    }
   ],
   "source": [
    "coeffecients['cols']=columns\n",
    "coeffecients"
   ]
  },
  {
   "cell_type": "code",
   "execution_count": null,
   "metadata": {},
   "outputs": [],
   "source": []
  }
 ],
 "metadata": {
  "kernelspec": {
   "display_name": "Python 3",
   "language": "python",
   "name": "python3"
  },
  "language_info": {
   "codemirror_mode": {
    "name": "ipython",
    "version": 3
   },
   "file_extension": ".py",
   "mimetype": "text/x-python",
   "name": "python",
   "nbconvert_exporter": "python",
   "pygments_lexer": "ipython3",
   "version": "3.7.6"
  }
 },
 "nbformat": 4,
 "nbformat_minor": 2
}
