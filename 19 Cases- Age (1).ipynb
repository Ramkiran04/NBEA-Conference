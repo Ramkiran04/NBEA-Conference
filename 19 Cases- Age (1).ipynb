{
 "cells": [
  {
   "cell_type": "code",
   "execution_count": 2,
   "metadata": {},
   "outputs": [],
   "source": [
    "import numpy as np\n",
    "import pandas as pd\n",
    "import matplotlib.pyplot as plt\n",
    "from pylab import rcParams\n",
    "import seaborn as sns\n",
    "import scipy\n",
    "from scipy.stats.stats import pearsonr\n",
    "import pandas.util.testing as tm\n",
    "from scipy.stats import spearmanr\n",
    "import statsmodels.api as sm"
   ]
  },
  {
   "cell_type": "code",
   "execution_count": 3,
   "metadata": {},
   "outputs": [
    {
     "data": {
      "text/html": [
       "<div>\n",
       "<style scoped>\n",
       "    .dataframe tbody tr th:only-of-type {\n",
       "        vertical-align: middle;\n",
       "    }\n",
       "\n",
       "    .dataframe tbody tr th {\n",
       "        vertical-align: top;\n",
       "    }\n",
       "\n",
       "    .dataframe thead th {\n",
       "        text-align: right;\n",
       "    }\n",
       "</style>\n",
       "<table border=\"1\" class=\"dataframe\">\n",
       "  <thead>\n",
       "    <tr style=\"text-align: right;\">\n",
       "      <th></th>\n",
       "      <th>confirmed cases</th>\n",
       "      <th>(0-19)C</th>\n",
       "      <th>20-29</th>\n",
       "      <th>30-39</th>\n",
       "      <th>40-49</th>\n",
       "      <th>50-59</th>\n",
       "      <th>60-69</th>\n",
       "      <th>70-79</th>\n",
       "      <th>80+</th>\n",
       "      <th>(20-60)C</th>\n",
       "      <th>(60+)C</th>\n",
       "      <th>(0-19)P</th>\n",
       "      <th>(20-60)P</th>\n",
       "      <th>(60+)P</th>\n",
       "    </tr>\n",
       "    <tr>\n",
       "      <th>State</th>\n",
       "      <th></th>\n",
       "      <th></th>\n",
       "      <th></th>\n",
       "      <th></th>\n",
       "      <th></th>\n",
       "      <th></th>\n",
       "      <th></th>\n",
       "      <th></th>\n",
       "      <th></th>\n",
       "      <th></th>\n",
       "      <th></th>\n",
       "      <th></th>\n",
       "      <th></th>\n",
       "      <th></th>\n",
       "    </tr>\n",
       "  </thead>\n",
       "  <tbody>\n",
       "    <tr>\n",
       "      <td>California</td>\n",
       "      <td>329162</td>\n",
       "      <td>31015</td>\n",
       "      <td>74003</td>\n",
       "      <td>64870</td>\n",
       "      <td>53279</td>\n",
       "      <td>47498</td>\n",
       "      <td>29954</td>\n",
       "      <td>15033</td>\n",
       "      <td>13113</td>\n",
       "      <td>239650</td>\n",
       "      <td>58100</td>\n",
       "      <td>10030953</td>\n",
       "      <td>21562379</td>\n",
       "      <td>7963713</td>\n",
       "    </tr>\n",
       "    <tr>\n",
       "      <td>Colorado</td>\n",
       "      <td>37686</td>\n",
       "      <td>3369</td>\n",
       "      <td>7409</td>\n",
       "      <td>6621</td>\n",
       "      <td>6169</td>\n",
       "      <td>5608</td>\n",
       "      <td>3769</td>\n",
       "      <td>2321</td>\n",
       "      <td>2382</td>\n",
       "      <td>25807</td>\n",
       "      <td>8472</td>\n",
       "      <td>1421155</td>\n",
       "      <td>3117551</td>\n",
       "      <td>1156858</td>\n",
       "    </tr>\n",
       "    <tr>\n",
       "      <td>Connecticut</td>\n",
       "      <td>47287</td>\n",
       "      <td>2112</td>\n",
       "      <td>5807</td>\n",
       "      <td>6707</td>\n",
       "      <td>6655</td>\n",
       "      <td>7956</td>\n",
       "      <td>6589</td>\n",
       "      <td>4434</td>\n",
       "      <td>6971</td>\n",
       "      <td>27125</td>\n",
       "      <td>17994</td>\n",
       "      <td>839423</td>\n",
       "      <td>1867472</td>\n",
       "      <td>865770</td>\n",
       "    </tr>\n",
       "    <tr>\n",
       "      <td>Illinois</td>\n",
       "      <td>153916</td>\n",
       "      <td>12431</td>\n",
       "      <td>26577</td>\n",
       "      <td>25311</td>\n",
       "      <td>26633</td>\n",
       "      <td>25346</td>\n",
       "      <td>17643</td>\n",
       "      <td>9805</td>\n",
       "      <td>10114</td>\n",
       "      <td>103867</td>\n",
       "      <td>37562</td>\n",
       "      <td>3195678</td>\n",
       "      <td>6740603</td>\n",
       "      <td>2804799</td>\n",
       "    </tr>\n",
       "    <tr>\n",
       "      <td>Maryland</td>\n",
       "      <td>74260</td>\n",
       "      <td>6401</td>\n",
       "      <td>11590</td>\n",
       "      <td>13905</td>\n",
       "      <td>12952</td>\n",
       "      <td>11467</td>\n",
       "      <td>8130</td>\n",
       "      <td>5119</td>\n",
       "      <td>4686</td>\n",
       "      <td>49914</td>\n",
       "      <td>17935</td>\n",
       "      <td>1491211</td>\n",
       "      <td>3226587</td>\n",
       "      <td>1324920</td>\n",
       "    </tr>\n",
       "  </tbody>\n",
       "</table>\n",
       "</div>"
      ],
      "text/plain": [
       "             confirmed cases  (0-19)C  20-29  30-39  40-49  50-59  60-69  \\\n",
       "State                                                                      \n",
       "California            329162    31015  74003  64870  53279  47498  29954   \n",
       "Colorado               37686     3369   7409   6621   6169   5608   3769   \n",
       "Connecticut            47287     2112   5807   6707   6655   7956   6589   \n",
       "Illinois              153916    12431  26577  25311  26633  25346  17643   \n",
       "Maryland               74260     6401  11590  13905  12952  11467   8130   \n",
       "\n",
       "             70-79    80+  (20-60)C  (60+)C   (0-19)P  (20-60)P   (60+)P  \n",
       "State                                                                     \n",
       "California   15033  13113    239650   58100  10030953  21562379  7963713  \n",
       "Colorado      2321   2382     25807    8472   1421155   3117551  1156858  \n",
       "Connecticut   4434   6971     27125   17994    839423   1867472   865770  \n",
       "Illinois      9805  10114    103867   37562   3195678   6740603  2804799  \n",
       "Maryland      5119   4686     49914   17935   1491211   3226587  1324920  "
      ]
     },
     "execution_count": 3,
     "metadata": {},
     "output_type": "execute_result"
    }
   ],
   "source": [
    "df = pd.read_csv(\"19states_covidcases.csv\", index_col = 0)\n",
    "df.head()"
   ]
  },
  {
   "cell_type": "code",
   "execution_count": 5,
   "metadata": {},
   "outputs": [
    {
     "data": {
      "text/plain": [
       "Index(['confirmed cases', '(0-19)C', '20-29', '30-39', '40-49', '50-59',\n",
       "       '60-69', '70-79', '80+', '(20-60)C', '(60+)C', '(0-19)P', '(20-60)P',\n",
       "       '(60+)P'],\n",
       "      dtype='object')"
      ]
     },
     "execution_count": 5,
     "metadata": {},
     "output_type": "execute_result"
    }
   ],
   "source": [
    "df.columns"
   ]
  },
  {
   "cell_type": "code",
   "execution_count": 6,
   "metadata": {},
   "outputs": [
    {
     "data": {
      "text/html": [
       "<div>\n",
       "<style scoped>\n",
       "    .dataframe tbody tr th:only-of-type {\n",
       "        vertical-align: middle;\n",
       "    }\n",
       "\n",
       "    .dataframe tbody tr th {\n",
       "        vertical-align: top;\n",
       "    }\n",
       "\n",
       "    .dataframe thead th {\n",
       "        text-align: right;\n",
       "    }\n",
       "</style>\n",
       "<table border=\"1\" class=\"dataframe\">\n",
       "  <thead>\n",
       "    <tr style=\"text-align: right;\">\n",
       "      <th></th>\n",
       "      <th>tot_pop</th>\n",
       "      <th>case_per</th>\n",
       "    </tr>\n",
       "    <tr>\n",
       "      <th>State</th>\n",
       "      <th></th>\n",
       "      <th></th>\n",
       "    </tr>\n",
       "  </thead>\n",
       "  <tbody>\n",
       "    <tr>\n",
       "      <td>California</td>\n",
       "      <td>328765</td>\n",
       "      <td>100.120755</td>\n",
       "    </tr>\n",
       "    <tr>\n",
       "      <td>Colorado</td>\n",
       "      <td>37648</td>\n",
       "      <td>100.100935</td>\n",
       "    </tr>\n",
       "    <tr>\n",
       "      <td>Connecticut</td>\n",
       "      <td>47231</td>\n",
       "      <td>100.118566</td>\n",
       "    </tr>\n",
       "    <tr>\n",
       "      <td>Illinois</td>\n",
       "      <td>153860</td>\n",
       "      <td>100.036397</td>\n",
       "    </tr>\n",
       "    <tr>\n",
       "      <td>Maryland</td>\n",
       "      <td>74250</td>\n",
       "      <td>100.013468</td>\n",
       "    </tr>\n",
       "    <tr>\n",
       "      <td>Massachusetts</td>\n",
       "      <td>111323</td>\n",
       "      <td>94.885154</td>\n",
       "    </tr>\n",
       "    <tr>\n",
       "      <td>Michigan</td>\n",
       "      <td>67962</td>\n",
       "      <td>102.098231</td>\n",
       "    </tr>\n",
       "    <tr>\n",
       "      <td>Minnesota</td>\n",
       "      <td>42720</td>\n",
       "      <td>98.972378</td>\n",
       "    </tr>\n",
       "    <tr>\n",
       "      <td>Mississippi</td>\n",
       "      <td>36672</td>\n",
       "      <td>96.583224</td>\n",
       "    </tr>\n",
       "    <tr>\n",
       "      <td>Nebreska</td>\n",
       "      <td>21175</td>\n",
       "      <td>99.985832</td>\n",
       "    </tr>\n",
       "    <tr>\n",
       "      <td>Nevada</td>\n",
       "      <td>28083</td>\n",
       "      <td>98.575651</td>\n",
       "    </tr>\n",
       "    <tr>\n",
       "      <td>New jersey</td>\n",
       "      <td>174605</td>\n",
       "      <td>100.396896</td>\n",
       "    </tr>\n",
       "    <tr>\n",
       "      <td>Ohio</td>\n",
       "      <td>66793</td>\n",
       "      <td>100.089830</td>\n",
       "    </tr>\n",
       "    <tr>\n",
       "      <td>Oregon</td>\n",
       "      <td>12423</td>\n",
       "      <td>100.120744</td>\n",
       "    </tr>\n",
       "    <tr>\n",
       "      <td>Rhode Island</td>\n",
       "      <td>17488</td>\n",
       "      <td>99.994282</td>\n",
       "    </tr>\n",
       "    <tr>\n",
       "      <td>South Carolina</td>\n",
       "      <td>52844</td>\n",
       "      <td>107.198547</td>\n",
       "    </tr>\n",
       "    <tr>\n",
       "      <td>Tennesseeÿ</td>\n",
       "      <td>65105</td>\n",
       "      <td>100.259581</td>\n",
       "    </tr>\n",
       "    <tr>\n",
       "      <td>Washington</td>\n",
       "      <td>40064</td>\n",
       "      <td>97.888379</td>\n",
       "    </tr>\n",
       "    <tr>\n",
       "      <td>Wisconsin</td>\n",
       "      <td>33951</td>\n",
       "      <td>108.809755</td>\n",
       "    </tr>\n",
       "  </tbody>\n",
       "</table>\n",
       "</div>"
      ],
      "text/plain": [
       "                tot_pop    case_per\n",
       "State                              \n",
       "California       328765  100.120755\n",
       "Colorado          37648  100.100935\n",
       "Connecticut       47231  100.118566\n",
       "Illinois         153860  100.036397\n",
       "Maryland          74250  100.013468\n",
       "Massachusetts    111323   94.885154\n",
       "Michigan          67962  102.098231\n",
       "Minnesota         42720   98.972378\n",
       "Mississippi       36672   96.583224\n",
       "Nebreska          21175   99.985832\n",
       "Nevada            28083   98.575651\n",
       "New jersey       174605  100.396896\n",
       "Ohio              66793  100.089830\n",
       "Oregon            12423  100.120744\n",
       "Rhode Island      17488   99.994282\n",
       "South Carolina    52844  107.198547\n",
       "Tennesseeÿ        65105  100.259581\n",
       "Washington        40064   97.888379\n",
       "Wisconsin         33951  108.809755"
      ]
     },
     "execution_count": 6,
     "metadata": {},
     "output_type": "execute_result"
    }
   ],
   "source": [
    "per_df = pd.DataFrame()\n",
    "per_df['tot_pop'] = df['(0-19)C'] + df['(20-60)C']+df['(60+)C']\n",
    "per_df['case_per'] = (df['confirmed cases']/per_df['tot_pop']) * 100\n",
    "per_df"
   ]
  },
  {
   "cell_type": "code",
   "execution_count": 7,
   "metadata": {},
   "outputs": [
    {
     "data": {
      "text/html": [
       "<div>\n",
       "<style scoped>\n",
       "    .dataframe tbody tr th:only-of-type {\n",
       "        vertical-align: middle;\n",
       "    }\n",
       "\n",
       "    .dataframe tbody tr th {\n",
       "        vertical-align: top;\n",
       "    }\n",
       "\n",
       "    .dataframe thead th {\n",
       "        text-align: right;\n",
       "    }\n",
       "</style>\n",
       "<table border=\"1\" class=\"dataframe\">\n",
       "  <thead>\n",
       "    <tr style=\"text-align: right;\">\n",
       "      <th></th>\n",
       "      <th>tot_pop</th>\n",
       "      <th>case_per</th>\n",
       "      <th>0-19</th>\n",
       "      <th>20-60</th>\n",
       "      <th>60+</th>\n",
       "    </tr>\n",
       "    <tr>\n",
       "      <th>State</th>\n",
       "      <th></th>\n",
       "      <th></th>\n",
       "      <th></th>\n",
       "      <th></th>\n",
       "      <th></th>\n",
       "    </tr>\n",
       "  </thead>\n",
       "  <tbody>\n",
       "    <tr>\n",
       "      <td>California</td>\n",
       "      <td>328765</td>\n",
       "      <td>100.120755</td>\n",
       "      <td>0.003092</td>\n",
       "      <td>0.011114</td>\n",
       "      <td>0.007296</td>\n",
       "    </tr>\n",
       "    <tr>\n",
       "      <td>Colorado</td>\n",
       "      <td>37648</td>\n",
       "      <td>100.100935</td>\n",
       "      <td>0.002371</td>\n",
       "      <td>0.008278</td>\n",
       "      <td>0.007323</td>\n",
       "    </tr>\n",
       "    <tr>\n",
       "      <td>Connecticut</td>\n",
       "      <td>47231</td>\n",
       "      <td>100.118566</td>\n",
       "      <td>0.002516</td>\n",
       "      <td>0.014525</td>\n",
       "      <td>0.020784</td>\n",
       "    </tr>\n",
       "    <tr>\n",
       "      <td>Illinois</td>\n",
       "      <td>153860</td>\n",
       "      <td>100.036397</td>\n",
       "      <td>0.003890</td>\n",
       "      <td>0.015409</td>\n",
       "      <td>0.013392</td>\n",
       "    </tr>\n",
       "    <tr>\n",
       "      <td>Maryland</td>\n",
       "      <td>74250</td>\n",
       "      <td>100.013468</td>\n",
       "      <td>0.004292</td>\n",
       "      <td>0.015470</td>\n",
       "      <td>0.013537</td>\n",
       "    </tr>\n",
       "    <tr>\n",
       "      <td>Massachusetts</td>\n",
       "      <td>111323</td>\n",
       "      <td>94.885154</td>\n",
       "      <td>0.003872</td>\n",
       "      <td>0.017696</td>\n",
       "      <td>0.024606</td>\n",
       "    </tr>\n",
       "    <tr>\n",
       "      <td>Michigan</td>\n",
       "      <td>67962</td>\n",
       "      <td>102.098231</td>\n",
       "      <td>0.000561</td>\n",
       "      <td>0.006421</td>\n",
       "      <td>0.013876</td>\n",
       "    </tr>\n",
       "    <tr>\n",
       "      <td>Minnesota</td>\n",
       "      <td>42720</td>\n",
       "      <td>98.972378</td>\n",
       "      <td>0.003575</td>\n",
       "      <td>0.010220</td>\n",
       "      <td>0.006167</td>\n",
       "    </tr>\n",
       "    <tr>\n",
       "      <td>Mississippi</td>\n",
       "      <td>36672</td>\n",
       "      <td>96.583224</td>\n",
       "      <td>0.004287</td>\n",
       "      <td>0.016203</td>\n",
       "      <td>0.013009</td>\n",
       "    </tr>\n",
       "    <tr>\n",
       "      <td>Nebreska</td>\n",
       "      <td>21175</td>\n",
       "      <td>99.985832</td>\n",
       "      <td>0.004572</td>\n",
       "      <td>0.015832</td>\n",
       "      <td>0.007804</td>\n",
       "    </tr>\n",
       "    <tr>\n",
       "      <td>Nevada</td>\n",
       "      <td>28083</td>\n",
       "      <td>98.575651</td>\n",
       "      <td>0.003641</td>\n",
       "      <td>0.012254</td>\n",
       "      <td>0.008360</td>\n",
       "    </tr>\n",
       "    <tr>\n",
       "      <td>New jersey</td>\n",
       "      <td>174605</td>\n",
       "      <td>100.396896</td>\n",
       "      <td>0.004102</td>\n",
       "      <td>0.022443</td>\n",
       "      <td>0.029553</td>\n",
       "    </tr>\n",
       "    <tr>\n",
       "      <td>Ohio</td>\n",
       "      <td>66793</td>\n",
       "      <td>100.089830</td>\n",
       "      <td>0.001766</td>\n",
       "      <td>0.007341</td>\n",
       "      <td>0.006341</td>\n",
       "    </tr>\n",
       "    <tr>\n",
       "      <td>Oregon</td>\n",
       "      <td>12423</td>\n",
       "      <td>100.120744</td>\n",
       "      <td>0.001623</td>\n",
       "      <td>0.003887</td>\n",
       "      <td>0.002251</td>\n",
       "    </tr>\n",
       "    <tr>\n",
       "      <td>Rhode Island</td>\n",
       "      <td>17488</td>\n",
       "      <td>99.994282</td>\n",
       "      <td>0.005803</td>\n",
       "      <td>0.019736</td>\n",
       "      <td>0.019660</td>\n",
       "    </tr>\n",
       "    <tr>\n",
       "      <td>South Carolina</td>\n",
       "      <td>52844</td>\n",
       "      <td>107.198547</td>\n",
       "      <td>0.006234</td>\n",
       "      <td>0.013499</td>\n",
       "      <td>0.008093</td>\n",
       "    </tr>\n",
       "    <tr>\n",
       "      <td>Tennesseeÿ</td>\n",
       "      <td>65105</td>\n",
       "      <td>100.259581</td>\n",
       "      <td>0.005739</td>\n",
       "      <td>0.013297</td>\n",
       "      <td>0.005474</td>\n",
       "    </tr>\n",
       "    <tr>\n",
       "      <td>Washington</td>\n",
       "      <td>40064</td>\n",
       "      <td>97.888379</td>\n",
       "      <td>0.002203</td>\n",
       "      <td>0.006660</td>\n",
       "      <td>0.005500</td>\n",
       "    </tr>\n",
       "    <tr>\n",
       "      <td>Wisconsin</td>\n",
       "      <td>33951</td>\n",
       "      <td>108.809755</td>\n",
       "      <td>0.002848</td>\n",
       "      <td>0.008757</td>\n",
       "      <td>0.002628</td>\n",
       "    </tr>\n",
       "  </tbody>\n",
       "</table>\n",
       "</div>"
      ],
      "text/plain": [
       "                tot_pop    case_per      0-19     20-60       60+\n",
       "State                                                            \n",
       "California       328765  100.120755  0.003092  0.011114  0.007296\n",
       "Colorado          37648  100.100935  0.002371  0.008278  0.007323\n",
       "Connecticut       47231  100.118566  0.002516  0.014525  0.020784\n",
       "Illinois         153860  100.036397  0.003890  0.015409  0.013392\n",
       "Maryland          74250  100.013468  0.004292  0.015470  0.013537\n",
       "Massachusetts    111323   94.885154  0.003872  0.017696  0.024606\n",
       "Michigan          67962  102.098231  0.000561  0.006421  0.013876\n",
       "Minnesota         42720   98.972378  0.003575  0.010220  0.006167\n",
       "Mississippi       36672   96.583224  0.004287  0.016203  0.013009\n",
       "Nebreska          21175   99.985832  0.004572  0.015832  0.007804\n",
       "Nevada            28083   98.575651  0.003641  0.012254  0.008360\n",
       "New jersey       174605  100.396896  0.004102  0.022443  0.029553\n",
       "Ohio              66793  100.089830  0.001766  0.007341  0.006341\n",
       "Oregon            12423  100.120744  0.001623  0.003887  0.002251\n",
       "Rhode Island      17488   99.994282  0.005803  0.019736  0.019660\n",
       "South Carolina    52844  107.198547  0.006234  0.013499  0.008093\n",
       "Tennesseeÿ        65105  100.259581  0.005739  0.013297  0.005474\n",
       "Washington        40064   97.888379  0.002203  0.006660  0.005500\n",
       "Wisconsin         33951  108.809755  0.002848  0.008757  0.002628"
      ]
     },
     "execution_count": 7,
     "metadata": {},
     "output_type": "execute_result"
    }
   ],
   "source": [
    "per_df['0-19'] = df['(0-19)C']/df['(0-19)P']\n",
    "per_df['20-60'] = df['(20-60)C']/df['(20-60)P']\n",
    "per_df['60+'] = df['(60+)C']/df['(60+)P']\n",
    "\n",
    "per_df"
   ]
  },
  {
   "cell_type": "markdown",
   "metadata": {},
   "source": [
    "# Spearman Correlation"
   ]
  },
  {
   "cell_type": "code",
   "execution_count": 8,
   "metadata": {},
   "outputs": [
    {
     "data": {
      "text/plain": [
       "SpearmanrResult(correlation=-0.11228070175438597, pvalue=0.6472068934597522)"
      ]
     },
     "execution_count": 8,
     "metadata": {},
     "output_type": "execute_result"
    }
   ],
   "source": [
    "spearmanr(per_df['case_per'], per_df['0-19'])"
   ]
  },
  {
   "cell_type": "code",
   "execution_count": 9,
   "metadata": {},
   "outputs": [
    {
     "data": {
      "text/plain": [
       "SpearmanrResult(correlation=-0.28421052631578947, pvalue=0.23829623657568158)"
      ]
     },
     "execution_count": 9,
     "metadata": {},
     "output_type": "execute_result"
    }
   ],
   "source": [
    "spearmanr(per_df['case_per'], per_df['20-60'])"
   ]
  },
  {
   "cell_type": "code",
   "execution_count": 10,
   "metadata": {},
   "outputs": [
    {
     "data": {
      "text/plain": [
       "SpearmanrResult(correlation=-0.1701754385964912, pvalue=0.486099539787445)"
      ]
     },
     "execution_count": 10,
     "metadata": {},
     "output_type": "execute_result"
    }
   ],
   "source": [
    "spearmanr(per_df['case_per'], per_df['60+'])"
   ]
  },
  {
   "cell_type": "markdown",
   "metadata": {},
   "source": [
    "# Machine Learning"
   ]
  },
  {
   "cell_type": "markdown",
   "metadata": {},
   "source": [
    "# 0-19"
   ]
  },
  {
   "cell_type": "code",
   "execution_count": 6,
   "metadata": {},
   "outputs": [],
   "source": [
    "x = df[['(0-19)C']]\n",
    "y = df[['confirmed cases']]"
   ]
  },
  {
   "cell_type": "code",
   "execution_count": 7,
   "metadata": {},
   "outputs": [
    {
     "name": "stdout",
     "output_type": "stream",
     "text": [
      "[[31015.]\n",
      " [ 3369.]\n",
      " [ 2112.]\n",
      " [12431.]\n",
      " [ 6401.]\n",
      " [ 6104.]\n",
      " [ 1366.]\n",
      " [ 5156.]\n",
      " [ 3449.]\n",
      " [ 2425.]\n",
      " [ 2758.]\n",
      " [ 8880.]\n",
      " [ 5138.]\n",
      " [ 1580.]\n",
      " [ 1399.]\n",
      " [ 7848.]\n",
      " [ 9709.]\n",
      " [ 4065.]\n",
      " [ 4064.]]\n"
     ]
    }
   ],
   "source": [
    "from sklearn import preprocessing\n",
    "import numpy as np\n",
    "\n",
    "x_arr = np.array(x).reshape(-1,1)\n",
    "\n",
    "standardscaler = preprocessing.StandardScaler()\n",
    "x_scaler = standardscaler.fit_transform(x_arr)\n",
    "# print(x_scaler)\n",
    "\n",
    "x_scaledback = standardscaler.inverse_transform(x_scaler)\n",
    "print(x_scaledback)"
   ]
  },
  {
   "cell_type": "code",
   "execution_count": 8,
   "metadata": {},
   "outputs": [
    {
     "name": "stdout",
     "output_type": "stream",
     "text": [
      "[[329162.]\n",
      " [ 37686.]\n",
      " [ 47287.]\n",
      " [153916.]\n",
      " [ 74260.]\n",
      " [105629.]\n",
      " [ 69388.]\n",
      " [ 42281.]\n",
      " [ 35419.]\n",
      " [ 21172.]\n",
      " [ 27683.]\n",
      " [175298.]\n",
      " [ 66853.]\n",
      " [ 12438.]\n",
      " [ 17487.]\n",
      " [ 56648.]\n",
      " [ 65274.]\n",
      " [ 39218.]\n",
      " [ 36942.]]\n"
     ]
    }
   ],
   "source": [
    "y_arr = np.array(y).reshape(-1,1)\n",
    "\n",
    "standardscaler = preprocessing.StandardScaler()\n",
    "y_scaler = standardscaler.fit_transform(y_arr)\n",
    "# print(y_scaler)\n",
    "\n",
    "y_scaledback = standardscaler.inverse_transform(y_scaler)\n",
    "print(y_scaledback)"
   ]
  },
  {
   "cell_type": "markdown",
   "metadata": {},
   "source": [
    "# Train and Test Split"
   ]
  },
  {
   "cell_type": "code",
   "execution_count": 9,
   "metadata": {},
   "outputs": [],
   "source": [
    "from sklearn.model_selection import train_test_split"
   ]
  },
  {
   "cell_type": "code",
   "execution_count": 10,
   "metadata": {},
   "outputs": [],
   "source": [
    "x_train, x_test, y_train, y_test= train_test_split(x_scaler,y_scaler)"
   ]
  },
  {
   "cell_type": "markdown",
   "metadata": {},
   "source": [
    "# Modeling"
   ]
  },
  {
   "cell_type": "code",
   "execution_count": 11,
   "metadata": {},
   "outputs": [],
   "source": [
    "from sklearn.linear_model import LinearRegression"
   ]
  },
  {
   "cell_type": "code",
   "execution_count": 12,
   "metadata": {},
   "outputs": [],
   "source": [
    "lm = LinearRegression()"
   ]
  },
  {
   "cell_type": "code",
   "execution_count": 13,
   "metadata": {},
   "outputs": [
    {
     "data": {
      "text/plain": [
       "LinearRegression(copy_X=True, fit_intercept=True, n_jobs=None, normalize=False)"
      ]
     },
     "execution_count": 13,
     "metadata": {},
     "output_type": "execute_result"
    }
   ],
   "source": [
    "lm.fit(x_train, y_train)"
   ]
  },
  {
   "cell_type": "code",
   "execution_count": 14,
   "metadata": {},
   "outputs": [
    {
     "name": "stdout",
     "output_type": "stream",
     "text": [
      "Coefficients: \n",
      " [[0.92147628]]\n"
     ]
    }
   ],
   "source": [
    "print('Coefficients: \\n', lm.coef_)\n"
   ]
  },
  {
   "cell_type": "markdown",
   "metadata": {},
   "source": [
    "# Predicting Test Data"
   ]
  },
  {
   "cell_type": "code",
   "execution_count": 15,
   "metadata": {},
   "outputs": [],
   "source": [
    "predictions = lm.predict(x_test) # put x_test scale values"
   ]
  },
  {
   "cell_type": "code",
   "execution_count": 16,
   "metadata": {},
   "outputs": [
    {
     "data": {
      "text/plain": [
       "Text(0, 0.5, 'y_test')"
      ]
     },
     "execution_count": 16,
     "metadata": {},
     "output_type": "execute_result"
    },
    {
     "data": {
      "image/png": "[encoded data removed]",
      "text/plain": [
       "<Figure size 432x288 with 1 Axes>"
      ]
     },
     "metadata": {
      "needs_background": "light"
     },
     "output_type": "display_data"
    }
   ],
   "source": [
    "plt.scatter(predictions,y_test)\n",
    "plt.xlabel('Predicted Y')\n",
    "plt.ylabel('y_test')"
   ]
  },
  {
   "cell_type": "markdown",
   "metadata": {},
   "source": [
    "# Evaluating the model"
   ]
  },
  {
   "cell_type": "code",
   "execution_count": 17,
   "metadata": {},
   "outputs": [
    {
     "name": "stdout",
     "output_type": "stream",
     "text": [
      "MAE: 0.5117558289704527\n",
      "MSE: 0.34178221914089313\n",
      "RMSE: 0.5846214323311224\n"
     ]
    }
   ],
   "source": [
    "from sklearn import metrics\n",
    "\n",
    "print('MAE:', metrics.mean_absolute_error(y_test, predictions))\n",
    "print('MSE:' ,metrics.mean_squared_error(y_test, predictions))\n",
    "print('RMSE:',np.sqrt(metrics.mean_squared_error(y_test, predictions)))"
   ]
  },
  {
   "cell_type": "markdown",
   "metadata": {},
   "source": [
    "# Residuals"
   ]
  },
  {
   "cell_type": "code",
   "execution_count": 18,
   "metadata": {},
   "outputs": [
    {
     "data": {
      "image/png": "[encoded data removed]",
      "text/plain": [
       "<Figure size 432x288 with 1 Axes>"
      ]
     },
     "metadata": {
      "needs_background": "light"
     },
     "output_type": "display_data"
    }
   ],
   "source": [
    "sns.distplot((y_test-predictions),bins=51);"
   ]
  },
  {
   "cell_type": "markdown",
   "metadata": {},
   "source": [
    "# 20-60"
   ]
  },
  {
   "cell_type": "code",
   "execution_count": 19,
   "metadata": {},
   "outputs": [],
   "source": [
    "x = df[['(20-60)C']]\n",
    "y = df[['confirmed cases']]"
   ]
  },
  {
   "cell_type": "code",
   "execution_count": 20,
   "metadata": {},
   "outputs": [
    {
     "name": "stdout",
     "output_type": "stream",
     "text": [
      "[[239650.]\n",
      " [ 25807.]\n",
      " [ 27125.]\n",
      " [103867.]\n",
      " [ 49914.]\n",
      " [ 66142.]\n",
      " [ 32997.]\n",
      " [ 29893.]\n",
      " [ 24545.]\n",
      " [ 15448.]\n",
      " [ 19795.]\n",
      " [105961.]\n",
      " [ 43948.]\n",
      " [  8556.]\n",
      " [ 11017.]\n",
      " [ 35056.]\n",
      " [ 46908.]\n",
      " [ 26998.]\n",
      " [ 26229.]]\n"
     ]
    }
   ],
   "source": [
    "from sklearn import preprocessing\n",
    "import numpy as np\n",
    "\n",
    "x_arr = np.array(x).reshape(-1,1)\n",
    "\n",
    "standardscaler = preprocessing.StandardScaler()\n",
    "x_scaler = standardscaler.fit_transform(x_arr)\n",
    "# print(x_scaler)\n",
    "\n",
    "x_scaledback = standardscaler.inverse_transform(x_scaler)\n",
    "print(x_scaledback)"
   ]
  },
  {
   "cell_type": "code",
   "execution_count": 21,
   "metadata": {},
   "outputs": [
    {
     "name": "stdout",
     "output_type": "stream",
     "text": [
      "[[329162.]\n",
      " [ 37686.]\n",
      " [ 47287.]\n",
      " [153916.]\n",
      " [ 74260.]\n",
      " [105629.]\n",
      " [ 69388.]\n",
      " [ 42281.]\n",
      " [ 35419.]\n",
      " [ 21172.]\n",
      " [ 27683.]\n",
      " [175298.]\n",
      " [ 66853.]\n",
      " [ 12438.]\n",
      " [ 17487.]\n",
      " [ 56648.]\n",
      " [ 65274.]\n",
      " [ 39218.]\n",
      " [ 36942.]]\n"
     ]
    }
   ],
   "source": [
    "y_arr = np.array(y).reshape(-1,1)\n",
    "\n",
    "standardscaler = preprocessing.StandardScaler()\n",
    "y_scaler = standardscaler.fit_transform(y_arr)\n",
    "# print(y_scaler)\n",
    "\n",
    "y_scaledback = standardscaler.inverse_transform(y_scaler)\n",
    "print(y_scaledback)"
   ]
  },
  {
   "cell_type": "markdown",
   "metadata": {},
   "source": [
    "# Train and test split"
   ]
  },
  {
   "cell_type": "code",
   "execution_count": 22,
   "metadata": {},
   "outputs": [],
   "source": [
    "from sklearn.model_selection import train_test_split"
   ]
  },
  {
   "cell_type": "code",
   "execution_count": 23,
   "metadata": {},
   "outputs": [],
   "source": [
    "x_train, x_test, y_train, y_test= train_test_split(x_scaler,y_scaler)"
   ]
  },
  {
   "cell_type": "markdown",
   "metadata": {},
   "source": [
    "# Modeling"
   ]
  },
  {
   "cell_type": "code",
   "execution_count": 24,
   "metadata": {},
   "outputs": [],
   "source": [
    "from sklearn.linear_model import LinearRegression"
   ]
  },
  {
   "cell_type": "code",
   "execution_count": 25,
   "metadata": {},
   "outputs": [],
   "source": [
    "lm = LinearRegression()"
   ]
  },
  {
   "cell_type": "code",
   "execution_count": 26,
   "metadata": {},
   "outputs": [
    {
     "data": {
      "text/plain": [
       "LinearRegression(copy_X=True, fit_intercept=True, n_jobs=None, normalize=False)"
      ]
     },
     "execution_count": 26,
     "metadata": {},
     "output_type": "execute_result"
    }
   ],
   "source": [
    "lm.fit(x_train, y_train)"
   ]
  },
  {
   "cell_type": "code",
   "execution_count": 27,
   "metadata": {},
   "outputs": [
    {
     "name": "stdout",
     "output_type": "stream",
     "text": [
      "Coefficients: \n",
      " [[1.12314489]]\n"
     ]
    }
   ],
   "source": [
    "print('Coefficients: \\n', lm.coef_)"
   ]
  },
  {
   "cell_type": "markdown",
   "metadata": {},
   "source": [
    "# Predicting data"
   ]
  },
  {
   "cell_type": "code",
   "execution_count": 28,
   "metadata": {},
   "outputs": [],
   "source": [
    "predictions = lm.predict(x_test) # put x_test scale values"
   ]
  },
  {
   "cell_type": "code",
   "execution_count": 31,
   "metadata": {},
   "outputs": [
    {
     "data": {
      "text/plain": [
       "Text(0, 0.5, 'y_test')"
      ]
     },
     "execution_count": 31,
     "metadata": {},
     "output_type": "execute_result"
    },
    {
     "data": {
      "image/png": "[encoded data removed]",
      "text/plain": [
       "<Figure size 432x288 with 1 Axes>"
      ]
     },
     "metadata": {
      "needs_background": "light"
     },
     "output_type": "display_data"
    }
   ],
   "source": [
    "plt.scatter(predictions,y_test)\n",
    "plt.xlabel('Predicted Y')\n",
    "plt.ylabel('y_test')"
   ]
  },
  {
   "cell_type": "markdown",
   "metadata": {},
   "source": [
    "# Evaluating the model"
   ]
  },
  {
   "cell_type": "code",
   "execution_count": 30,
   "metadata": {},
   "outputs": [
    {
     "name": "stdout",
     "output_type": "stream",
     "text": [
      "MAE: 0.18910600571364314\n",
      "MSE: 0.0956482472304603\n",
      "RMSE: 0.30927050818088087\n"
     ]
    }
   ],
   "source": [
    "from sklearn import metrics\n",
    "\n",
    "print('MAE:', metrics.mean_absolute_error(y_test, predictions))\n",
    "print('MSE:' ,metrics.mean_squared_error(y_test, predictions))\n",
    "print('RMSE:',np.sqrt(metrics.mean_squared_error(y_test, predictions)))"
   ]
  },
  {
   "cell_type": "markdown",
   "metadata": {},
   "source": [
    "# Residuals"
   ]
  },
  {
   "cell_type": "code",
   "execution_count": 32,
   "metadata": {},
   "outputs": [
    {
     "data": {
      "image/png": "[encoded data removed]",
      "text/plain": [
       "<Figure size 432x288 with 1 Axes>"
      ]
     },
     "metadata": {
      "needs_background": "light"
     },
     "output_type": "display_data"
    }
   ],
   "source": [
    "sns.distplot((y_test-predictions),bins=51);"
   ]
  },
  {
   "cell_type": "markdown",
   "metadata": {},
   "source": [
    "# 60+"
   ]
  },
  {
   "cell_type": "code",
   "execution_count": 33,
   "metadata": {},
   "outputs": [],
   "source": [
    "x = df[['(60+)C']]\n",
    "y = df[['confirmed cases']]"
   ]
  },
  {
   "cell_type": "code",
   "execution_count": 34,
   "metadata": {},
   "outputs": [
    {
     "name": "stdout",
     "output_type": "stream",
     "text": [
      "[[58100.]\n",
      " [ 8472.]\n",
      " [17994.]\n",
      " [37562.]\n",
      " [17935.]\n",
      " [39077.]\n",
      " [33599.]\n",
      " [ 7671.]\n",
      " [ 8678.]\n",
      " [ 3302.]\n",
      " [ 5530.]\n",
      " [59764.]\n",
      " [17707.]\n",
      " [ 2287.]\n",
      " [ 5072.]\n",
      " [ 9940.]\n",
      " [ 8488.]\n",
      " [ 9001.]\n",
      " [ 3658.]]\n"
     ]
    }
   ],
   "source": [
    "from sklearn import preprocessing\n",
    "import numpy as np\n",
    "\n",
    "x_arr = np.array(x).reshape(-1,1)\n",
    "\n",
    "standardscaler = preprocessing.StandardScaler()\n",
    "x_scaler = standardscaler.fit_transform(x_arr)\n",
    "# print(x_scaler)\n",
    "\n",
    "x_scaledback = standardscaler.inverse_transform(x_scaler)\n",
    "print(x_scaledback)"
   ]
  },
  {
   "cell_type": "code",
   "execution_count": 35,
   "metadata": {},
   "outputs": [
    {
     "name": "stdout",
     "output_type": "stream",
     "text": [
      "[[329162.]\n",
      " [ 37686.]\n",
      " [ 47287.]\n",
      " [153916.]\n",
      " [ 74260.]\n",
      " [105629.]\n",
      " [ 69388.]\n",
      " [ 42281.]\n",
      " [ 35419.]\n",
      " [ 21172.]\n",
      " [ 27683.]\n",
      " [175298.]\n",
      " [ 66853.]\n",
      " [ 12438.]\n",
      " [ 17487.]\n",
      " [ 56648.]\n",
      " [ 65274.]\n",
      " [ 39218.]\n",
      " [ 36942.]]\n"
     ]
    }
   ],
   "source": [
    "y_arr = np.array(y).reshape(-1,1)\n",
    "\n",
    "standardscaler = preprocessing.StandardScaler()\n",
    "y_scaler = standardscaler.fit_transform(y_arr)\n",
    "# print(y_scaler)\n",
    "\n",
    "y_scaledback = standardscaler.inverse_transform(y_scaler)\n",
    "print(y_scaledback)"
   ]
  },
  {
   "cell_type": "markdown",
   "metadata": {},
   "source": [
    "# Train and Test Split"
   ]
  },
  {
   "cell_type": "code",
   "execution_count": 36,
   "metadata": {},
   "outputs": [],
   "source": [
    "from sklearn.model_selection import train_test_split"
   ]
  },
  {
   "cell_type": "code",
   "execution_count": 37,
   "metadata": {},
   "outputs": [],
   "source": [
    "x_train, x_test, y_train, y_test= train_test_split(x_scaler,y_scaler)"
   ]
  },
  {
   "cell_type": "markdown",
   "metadata": {},
   "source": [
    "# Moideling"
   ]
  },
  {
   "cell_type": "code",
   "execution_count": 38,
   "metadata": {},
   "outputs": [],
   "source": [
    "from sklearn.linear_model import LinearRegression"
   ]
  },
  {
   "cell_type": "code",
   "execution_count": 39,
   "metadata": {},
   "outputs": [],
   "source": [
    "lm = LinearRegression()"
   ]
  },
  {
   "cell_type": "code",
   "execution_count": 40,
   "metadata": {},
   "outputs": [
    {
     "data": {
      "text/plain": [
       "LinearRegression(copy_X=True, fit_intercept=True, n_jobs=None, normalize=False)"
      ]
     },
     "execution_count": 40,
     "metadata": {},
     "output_type": "execute_result"
    }
   ],
   "source": [
    "lm.fit(x_train, y_train)"
   ]
  },
  {
   "cell_type": "code",
   "execution_count": 41,
   "metadata": {},
   "outputs": [
    {
     "name": "stdout",
     "output_type": "stream",
     "text": [
      "Coefficients: \n",
      " [[0.9124599]]\n"
     ]
    }
   ],
   "source": [
    "print('Coefficients: \\n', lm.coef_)"
   ]
  },
  {
   "cell_type": "markdown",
   "metadata": {},
   "source": [
    "# Predicting the data"
   ]
  },
  {
   "cell_type": "code",
   "execution_count": 42,
   "metadata": {},
   "outputs": [],
   "source": [
    "predictions = lm.predict(x_test) # put x_test scale values"
   ]
  },
  {
   "cell_type": "code",
   "execution_count": 43,
   "metadata": {},
   "outputs": [
    {
     "data": {
      "text/plain": [
       "Text(0, 0.5, 'y_test')"
      ]
     },
     "execution_count": 43,
     "metadata": {},
     "output_type": "execute_result"
    },
    {
     "data": {
      "image/png": "[encoded data removed]",
      "text/plain": [
       "<Figure size 432x288 with 1 Axes>"
      ]
     },
     "metadata": {
      "needs_background": "light"
     },
     "output_type": "display_data"
    }
   ],
   "source": [
    "plt.scatter(predictions,y_test)\n",
    "plt.xlabel('Predicted Y')\n",
    "plt.ylabel('y_test')"
   ]
  },
  {
   "cell_type": "markdown",
   "metadata": {},
   "source": [
    "# Evaluating the model"
   ]
  },
  {
   "cell_type": "code",
   "execution_count": 44,
   "metadata": {},
   "outputs": [
    {
     "name": "stdout",
     "output_type": "stream",
     "text": [
      "MAE: 0.23570390197593755\n",
      "MSE: 0.16673275595051446\n",
      "RMSE: 0.40832922495275115\n"
     ]
    }
   ],
   "source": [
    "from sklearn import metrics\n",
    "\n",
    "print('MAE:', metrics.mean_absolute_error(y_test, predictions))\n",
    "print('MSE:' ,metrics.mean_squared_error(y_test, predictions))\n",
    "print('RMSE:',np.sqrt(metrics.mean_squared_error(y_test, predictions)))"
   ]
  },
  {
   "cell_type": "markdown",
   "metadata": {},
   "source": [
    "# Residuals"
   ]
  },
  {
   "cell_type": "code",
   "execution_count": 45,
   "metadata": {},
   "outputs": [
    {
     "data": {
      "image/png": "[encoded data removed]",
      "text/plain": [
       "<Figure size 432x288 with 1 Axes>"
      ]
     },
     "metadata": {
      "needs_background": "light"
     },
     "output_type": "display_data"
    }
   ],
   "source": [
    "sns.distplot((y_test-predictions),bins=51);"
   ]
  },
  {
   "cell_type": "markdown",
   "metadata": {},
   "source": [
    "# Spearmans Correlation"
   ]
  },
  {
   "cell_type": "code",
   "execution_count": 47,
   "metadata": {},
   "outputs": [
    {
     "data": {
      "text/plain": [
       "SpearmanrResult(correlation=0.7298245614035088, pvalue=0.00038977247878890325)"
      ]
     },
     "execution_count": 47,
     "metadata": {},
     "output_type": "execute_result"
    }
   ],
   "source": [
    "spearmanr(df['confirmed cases'], df['(0-19)C'])"
   ]
  },
  {
   "cell_type": "code",
   "execution_count": 48,
   "metadata": {},
   "outputs": [
    {
     "data": {
      "text/plain": [
       "SpearmanrResult(correlation=0.9842105263157893, pvalue=3.177817784867256e-14)"
      ]
     },
     "execution_count": 48,
     "metadata": {},
     "output_type": "execute_result"
    }
   ],
   "source": [
    "spearmanr(df['confirmed cases'], df['(20-60)C'])"
   ]
  },
  {
   "cell_type": "code",
   "execution_count": 49,
   "metadata": {},
   "outputs": [
    {
     "data": {
      "text/plain": [
       "SpearmanrResult(correlation=0.9245614035087718, pvalue=1.537993346223211e-08)"
      ]
     },
     "execution_count": 49,
     "metadata": {},
     "output_type": "execute_result"
    }
   ],
   "source": [
    "spearmanr(df['confirmed cases'], df['(60+)C'])"
   ]
  },
  {
   "cell_type": "markdown",
   "metadata": {},
   "source": [
    "# OLS"
   ]
  },
  {
   "cell_type": "code",
   "execution_count": 50,
   "metadata": {},
   "outputs": [],
   "source": [
    "import statsmodels.api as sm\n",
    "import numpy as np"
   ]
  },
  {
   "cell_type": "code",
   "execution_count": 52,
   "metadata": {},
   "outputs": [
    {
     "name": "stderr",
     "output_type": "stream",
     "text": [
      "C:\\Users\\apurv\\Anaconda3\\lib\\site-packages\\scipy\\stats\\stats.py:1450: UserWarning: kurtosistest only valid for n>=20 ... continuing anyway, n=19\n",
      "  \"anyway, n=%i\" % int(n))\n"
     ]
    },
    {
     "data": {
      "text/html": [
       "<table class=\"simpletable\">\n",
       "<caption>OLS Regression Results</caption>\n",
       "<tr>\n",
       "  <th>Dep. Variable:</th>     <td>confirmed cases</td> <th>  R-squared (uncentered):</th>      <td>   0.930</td>\n",
       "</tr>\n",
       "<tr>\n",
       "  <th>Model:</th>                   <td>OLS</td>       <th>  Adj. R-squared (uncentered):</th> <td>   0.926</td>\n",
       "</tr>\n",
       "<tr>\n",
       "  <th>Method:</th>             <td>Least Squares</td>  <th>  F-statistic:       </th>          <td>   238.5</td>\n",
       "</tr>\n",
       "<tr>\n",
       "  <th>Date:</th>             <td>Thu, 16 Jul 2020</td> <th>  Prob (F-statistic):</th>          <td>7.90e-12</td>\n",
       "</tr>\n",
       "<tr>\n",
       "  <th>Time:</th>                 <td>14:12:55</td>     <th>  Log-Likelihood:    </th>          <td> -221.30</td>\n",
       "</tr>\n",
       "<tr>\n",
       "  <th>No. Observations:</th>      <td>    19</td>      <th>  AIC:               </th>          <td>   444.6</td>\n",
       "</tr>\n",
       "<tr>\n",
       "  <th>Df Residuals:</th>          <td>    18</td>      <th>  BIC:               </th>          <td>   445.5</td>\n",
       "</tr>\n",
       "<tr>\n",
       "  <th>Df Model:</th>              <td>     1</td>      <th>                     </th>              <td> </td>   \n",
       "</tr>\n",
       "<tr>\n",
       "  <th>Covariance Type:</th>      <td>nonrobust</td>    <th>                     </th>              <td> </td>   \n",
       "</tr>\n",
       "</table>\n",
       "<table class=\"simpletable\">\n",
       "<tr>\n",
       "     <td></td>        <th>coef</th>     <th>std err</th>      <th>t</th>      <th>P>|t|</th>  <th>[0.025</th>    <th>0.975]</th>  \n",
       "</tr>\n",
       "<tr>\n",
       "  <th>(0-19)C</th> <td>   11.1098</td> <td>    0.719</td> <td>   15.444</td> <td> 0.000</td> <td>    9.599</td> <td>   12.621</td>\n",
       "</tr>\n",
       "</table>\n",
       "<table class=\"simpletable\">\n",
       "<tr>\n",
       "  <th>Omnibus:</th>       <td> 5.999</td> <th>  Durbin-Watson:     </th> <td>   1.448</td>\n",
       "</tr>\n",
       "<tr>\n",
       "  <th>Prob(Omnibus):</th> <td> 0.050</td> <th>  Jarque-Bera (JB):  </th> <td>   3.521</td>\n",
       "</tr>\n",
       "<tr>\n",
       "  <th>Skew:</th>          <td> 0.953</td> <th>  Prob(JB):          </th> <td>   0.172</td>\n",
       "</tr>\n",
       "<tr>\n",
       "  <th>Kurtosis:</th>      <td> 3.905</td> <th>  Cond. No.          </th> <td>    1.00</td>\n",
       "</tr>\n",
       "</table><br/><br/>Warnings:<br/>[1] Standard Errors assume that the covariance matrix of the errors is correctly specified."
      ],
      "text/plain": [
       "<class 'statsmodels.iolib.summary.Summary'>\n",
       "\"\"\"\n",
       "                                 OLS Regression Results                                \n",
       "=======================================================================================\n",
       "Dep. Variable:        confirmed cases   R-squared (uncentered):                   0.930\n",
       "Model:                            OLS   Adj. R-squared (uncentered):              0.926\n",
       "Method:                 Least Squares   F-statistic:                              238.5\n",
       "Date:                Thu, 16 Jul 2020   Prob (F-statistic):                    7.90e-12\n",
       "Time:                        14:12:55   Log-Likelihood:                         -221.30\n",
       "No. Observations:                  19   AIC:                                      444.6\n",
       "Df Residuals:                      18   BIC:                                      445.5\n",
       "Df Model:                           1                                                  \n",
       "Covariance Type:            nonrobust                                                  \n",
       "==============================================================================\n",
       "                 coef    std err          t      P>|t|      [0.025      0.975]\n",
       "------------------------------------------------------------------------------\n",
       "(0-19)C       11.1098      0.719     15.444      0.000       9.599      12.621\n",
       "==============================================================================\n",
       "Omnibus:                        5.999   Durbin-Watson:                   1.448\n",
       "Prob(Omnibus):                  0.050   Jarque-Bera (JB):                3.521\n",
       "Skew:                           0.953   Prob(JB):                        0.172\n",
       "Kurtosis:                       3.905   Cond. No.                         1.00\n",
       "==============================================================================\n",
       "\n",
       "Warnings:\n",
       "[1] Standard Errors assume that the covariance matrix of the errors is correctly specified.\n",
       "\"\"\""
      ]
     },
     "execution_count": 52,
     "metadata": {},
     "output_type": "execute_result"
    }
   ],
   "source": [
    "model = sm.OLS(df['confirmed cases'],df['(0-19)C'])\n",
    "results = model.fit()\n",
    "results.params\n",
    "results.summary()"
   ]
  },
  {
   "cell_type": "code",
   "execution_count": 53,
   "metadata": {},
   "outputs": [
    {
     "data": {
      "text/html": [
       "<table class=\"simpletable\">\n",
       "<caption>OLS Regression Results</caption>\n",
       "<tr>\n",
       "  <th>Dep. Variable:</th>     <td>confirmed cases</td> <th>  R-squared (uncentered):</th>      <td>   0.993</td>\n",
       "</tr>\n",
       "<tr>\n",
       "  <th>Model:</th>                   <td>OLS</td>       <th>  Adj. R-squared (uncentered):</th> <td>   0.992</td>\n",
       "</tr>\n",
       "<tr>\n",
       "  <th>Method:</th>             <td>Least Squares</td>  <th>  F-statistic:       </th>          <td>   2472.</td>\n",
       "</tr>\n",
       "<tr>\n",
       "  <th>Date:</th>             <td>Thu, 16 Jul 2020</td> <th>  Prob (F-statistic):</th>          <td>1.00e-20</td>\n",
       "</tr>\n",
       "<tr>\n",
       "  <th>Time:</th>                 <td>14:13:16</td>     <th>  Log-Likelihood:    </th>          <td> -199.71</td>\n",
       "</tr>\n",
       "<tr>\n",
       "  <th>No. Observations:</th>      <td>    19</td>      <th>  AIC:               </th>          <td>   401.4</td>\n",
       "</tr>\n",
       "<tr>\n",
       "  <th>Df Residuals:</th>          <td>    18</td>      <th>  BIC:               </th>          <td>   402.4</td>\n",
       "</tr>\n",
       "<tr>\n",
       "  <th>Df Model:</th>              <td>     1</td>      <th>                     </th>              <td> </td>   \n",
       "</tr>\n",
       "<tr>\n",
       "  <th>Covariance Type:</th>      <td>nonrobust</td>    <th>                     </th>              <td> </td>   \n",
       "</tr>\n",
       "</table>\n",
       "<table class=\"simpletable\">\n",
       "<tr>\n",
       "      <td></td>        <th>coef</th>     <th>std err</th>      <th>t</th>      <th>P>|t|</th>  <th>[0.025</th>    <th>0.975]</th>  \n",
       "</tr>\n",
       "<tr>\n",
       "  <th>(20-60)C</th> <td>    1.4504</td> <td>    0.029</td> <td>   49.720</td> <td> 0.000</td> <td>    1.389</td> <td>    1.512</td>\n",
       "</tr>\n",
       "</table>\n",
       "<table class=\"simpletable\">\n",
       "<tr>\n",
       "  <th>Omnibus:</th>       <td> 4.608</td> <th>  Durbin-Watson:     </th> <td>   1.410</td>\n",
       "</tr>\n",
       "<tr>\n",
       "  <th>Prob(Omnibus):</th> <td> 0.100</td> <th>  Jarque-Bera (JB):  </th> <td>   2.657</td>\n",
       "</tr>\n",
       "<tr>\n",
       "  <th>Skew:</th>          <td> 0.359</td> <th>  Prob(JB):          </th> <td>   0.265</td>\n",
       "</tr>\n",
       "<tr>\n",
       "  <th>Kurtosis:</th>      <td> 4.686</td> <th>  Cond. No.          </th> <td>    1.00</td>\n",
       "</tr>\n",
       "</table><br/><br/>Warnings:<br/>[1] Standard Errors assume that the covariance matrix of the errors is correctly specified."
      ],
      "text/plain": [
       "<class 'statsmodels.iolib.summary.Summary'>\n",
       "\"\"\"\n",
       "                                 OLS Regression Results                                \n",
       "=======================================================================================\n",
       "Dep. Variable:        confirmed cases   R-squared (uncentered):                   0.993\n",
       "Model:                            OLS   Adj. R-squared (uncentered):              0.992\n",
       "Method:                 Least Squares   F-statistic:                              2472.\n",
       "Date:                Thu, 16 Jul 2020   Prob (F-statistic):                    1.00e-20\n",
       "Time:                        14:13:16   Log-Likelihood:                         -199.71\n",
       "No. Observations:                  19   AIC:                                      401.4\n",
       "Df Residuals:                      18   BIC:                                      402.4\n",
       "Df Model:                           1                                                  \n",
       "Covariance Type:            nonrobust                                                  \n",
       "==============================================================================\n",
       "                 coef    std err          t      P>|t|      [0.025      0.975]\n",
       "------------------------------------------------------------------------------\n",
       "(20-60)C       1.4504      0.029     49.720      0.000       1.389       1.512\n",
       "==============================================================================\n",
       "Omnibus:                        4.608   Durbin-Watson:                   1.410\n",
       "Prob(Omnibus):                  0.100   Jarque-Bera (JB):                2.657\n",
       "Skew:                           0.359   Prob(JB):                        0.265\n",
       "Kurtosis:                       4.686   Cond. No.                         1.00\n",
       "==============================================================================\n",
       "\n",
       "Warnings:\n",
       "[1] Standard Errors assume that the covariance matrix of the errors is correctly specified.\n",
       "\"\"\""
      ]
     },
     "execution_count": 53,
     "metadata": {},
     "output_type": "execute_result"
    }
   ],
   "source": [
    "model = sm.OLS(df['confirmed cases'],df['(20-60)C'])\n",
    "results = model.fit()\n",
    "results.params\n",
    "results.summary()"
   ]
  },
  {
   "cell_type": "code",
   "execution_count": 54,
   "metadata": {},
   "outputs": [
    {
     "data": {
      "text/html": [
       "<table class=\"simpletable\">\n",
       "<caption>OLS Regression Results</caption>\n",
       "<tr>\n",
       "  <th>Dep. Variable:</th>     <td>confirmed cases</td> <th>  R-squared (uncentered):</th>      <td>   0.891</td>\n",
       "</tr>\n",
       "<tr>\n",
       "  <th>Model:</th>                   <td>OLS</td>       <th>  Adj. R-squared (uncentered):</th> <td>   0.885</td>\n",
       "</tr>\n",
       "<tr>\n",
       "  <th>Method:</th>             <td>Least Squares</td>  <th>  F-statistic:       </th>          <td>   147.3</td>\n",
       "</tr>\n",
       "<tr>\n",
       "  <th>Date:</th>             <td>Thu, 16 Jul 2020</td> <th>  Prob (F-statistic):</th>          <td>4.21e-10</td>\n",
       "</tr>\n",
       "<tr>\n",
       "  <th>Time:</th>                 <td>14:13:20</td>     <th>  Log-Likelihood:    </th>          <td> -225.48</td>\n",
       "</tr>\n",
       "<tr>\n",
       "  <th>No. Observations:</th>      <td>    19</td>      <th>  AIC:               </th>          <td>   453.0</td>\n",
       "</tr>\n",
       "<tr>\n",
       "  <th>Df Residuals:</th>          <td>    18</td>      <th>  BIC:               </th>          <td>   453.9</td>\n",
       "</tr>\n",
       "<tr>\n",
       "  <th>Df Model:</th>              <td>     1</td>      <th>                     </th>              <td> </td>   \n",
       "</tr>\n",
       "<tr>\n",
       "  <th>Covariance Type:</th>      <td>nonrobust</td>    <th>                     </th>              <td> </td>   \n",
       "</tr>\n",
       "</table>\n",
       "<table class=\"simpletable\">\n",
       "<tr>\n",
       "     <td></td>       <th>coef</th>     <th>std err</th>      <th>t</th>      <th>P>|t|</th>  <th>[0.025</th>    <th>0.975]</th>  \n",
       "</tr>\n",
       "<tr>\n",
       "  <th>(60+)C</th> <td>    3.8432</td> <td>    0.317</td> <td>   12.135</td> <td> 0.000</td> <td>    3.178</td> <td>    4.509</td>\n",
       "</tr>\n",
       "</table>\n",
       "<table class=\"simpletable\">\n",
       "<tr>\n",
       "  <th>Omnibus:</th>       <td> 8.263</td> <th>  Durbin-Watson:     </th> <td>   1.255</td>\n",
       "</tr>\n",
       "<tr>\n",
       "  <th>Prob(Omnibus):</th> <td> 0.016</td> <th>  Jarque-Bera (JB):  </th> <td>   6.639</td>\n",
       "</tr>\n",
       "<tr>\n",
       "  <th>Skew:</th>          <td> 0.750</td> <th>  Prob(JB):          </th> <td>  0.0362</td>\n",
       "</tr>\n",
       "<tr>\n",
       "  <th>Kurtosis:</th>      <td> 5.477</td> <th>  Cond. No.          </th> <td>    1.00</td>\n",
       "</tr>\n",
       "</table><br/><br/>Warnings:<br/>[1] Standard Errors assume that the covariance matrix of the errors is correctly specified."
      ],
      "text/plain": [
       "<class 'statsmodels.iolib.summary.Summary'>\n",
       "\"\"\"\n",
       "                                 OLS Regression Results                                \n",
       "=======================================================================================\n",
       "Dep. Variable:        confirmed cases   R-squared (uncentered):                   0.891\n",
       "Model:                            OLS   Adj. R-squared (uncentered):              0.885\n",
       "Method:                 Least Squares   F-statistic:                              147.3\n",
       "Date:                Thu, 16 Jul 2020   Prob (F-statistic):                    4.21e-10\n",
       "Time:                        14:13:20   Log-Likelihood:                         -225.48\n",
       "No. Observations:                  19   AIC:                                      453.0\n",
       "Df Residuals:                      18   BIC:                                      453.9\n",
       "Df Model:                           1                                                  \n",
       "Covariance Type:            nonrobust                                                  \n",
       "==============================================================================\n",
       "                 coef    std err          t      P>|t|      [0.025      0.975]\n",
       "------------------------------------------------------------------------------\n",
       "(60+)C         3.8432      0.317     12.135      0.000       3.178       4.509\n",
       "==============================================================================\n",
       "Omnibus:                        8.263   Durbin-Watson:                   1.255\n",
       "Prob(Omnibus):                  0.016   Jarque-Bera (JB):                6.639\n",
       "Skew:                           0.750   Prob(JB):                       0.0362\n",
       "Kurtosis:                       5.477   Cond. No.                         1.00\n",
       "==============================================================================\n",
       "\n",
       "Warnings:\n",
       "[1] Standard Errors assume that the covariance matrix of the errors is correctly specified.\n",
       "\"\"\""
      ]
     },
     "execution_count": 54,
     "metadata": {},
     "output_type": "execute_result"
    }
   ],
   "source": [
    "model = sm.OLS(df['confirmed cases'],df['(60+)C'])\n",
    "results = model.fit()\n",
    "results.params\n",
    "results.summary()"
   ]
  },
  {
   "cell_type": "raw",
   "metadata": {},
   "source": []
  }
 ],
 "metadata": {
  "kernelspec": {
   "display_name": "Python 3",
   "language": "python",
   "name": "python3"
  },
  "language_info": {
   "codemirror_mode": {
    "name": "ipython",
    "version": 3
   },
   "file_extension": ".py",
   "mimetype": "text/x-python",
   "name": "python",
   "nbconvert_exporter": "python",
   "pygments_lexer": "ipython3",
   "version": "3.7.4"
  }
 },
 "nbformat": 4,
 "nbformat_minor": 2
}
