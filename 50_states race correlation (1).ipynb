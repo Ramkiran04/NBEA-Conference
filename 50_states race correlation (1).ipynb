{
 "cells": [
  {
   "cell_type": "code",
   "execution_count": 47,
   "metadata": {},
   "outputs": [],
   "source": [
    "import numpy as np\n",
    "import pandas as pd\n",
    "import matplotlib.pyplot as plt\n",
    "from pylab import rcParams\n",
    "import seaborn as sns\n",
    "import scipy\n",
    "from scipy.stats.stats import pearsonr\n",
    "import pandas.util.testing as tm\n",
    "from scipy.stats import spearmanr\n",
    "import statsmodels.api as sm"
   ]
  },
  {
   "cell_type": "code",
   "execution_count": 48,
   "metadata": {},
   "outputs": [
    {
     "data": {
      "text/html": [
       "<div>\n",
       "<style scoped>\n",
       "    .dataframe tbody tr th:only-of-type {\n",
       "        vertical-align: middle;\n",
       "    }\n",
       "\n",
       "    .dataframe tbody tr th {\n",
       "        vertical-align: top;\n",
       "    }\n",
       "\n",
       "    .dataframe thead th {\n",
       "        text-align: right;\n",
       "    }\n",
       "</style>\n",
       "<table border=\"1\" class=\"dataframe\">\n",
       "  <thead>\n",
       "    <tr style=\"text-align: right;\">\n",
       "      <th></th>\n",
       "      <th>Total_confirmed</th>\n",
       "      <th>White_confirmed</th>\n",
       "      <th>Black or African American_confirmed</th>\n",
       "      <th>Hispanic_confirmed</th>\n",
       "      <th>Asian_confirmed</th>\n",
       "      <th>American Indian and Alaska Native_confirmed</th>\n",
       "      <th>Native Hawaiian and Other Pacific Islander_confirmed</th>\n",
       "      <th>Total population</th>\n",
       "      <th>Hispanic</th>\n",
       "      <th>White</th>\n",
       "      <th>Black or African American</th>\n",
       "      <th>American Indian and Alaska Native</th>\n",
       "      <th>Asian</th>\n",
       "      <th>Asian Indian</th>\n",
       "      <th>Native Hawaiian and Other Pacific Islander</th>\n",
       "    </tr>\n",
       "    <tr>\n",
       "      <th>State</th>\n",
       "      <th></th>\n",
       "      <th></th>\n",
       "      <th></th>\n",
       "      <th></th>\n",
       "      <th></th>\n",
       "      <th></th>\n",
       "      <th></th>\n",
       "      <th></th>\n",
       "      <th></th>\n",
       "      <th></th>\n",
       "      <th></th>\n",
       "      <th></th>\n",
       "      <th></th>\n",
       "      <th></th>\n",
       "      <th></th>\n",
       "    </tr>\n",
       "  </thead>\n",
       "  <tbody>\n",
       "    <tr>\n",
       "      <th>Alabama</th>\n",
       "      <td>53587</td>\n",
       "      <td>18094</td>\n",
       "      <td>17650</td>\n",
       "      <td>4846</td>\n",
       "      <td>216</td>\n",
       "      <td>0</td>\n",
       "      <td>0</td>\n",
       "      <td>4887871</td>\n",
       "      <td>204800</td>\n",
       "      <td>3306838</td>\n",
       "      <td>1307040</td>\n",
       "      <td>22063</td>\n",
       "      <td>65095</td>\n",
       "      <td>14401</td>\n",
       "      <td>1797</td>\n",
       "    </tr>\n",
       "    <tr>\n",
       "      <th>Alaska</th>\n",
       "      <td>1479</td>\n",
       "      <td>633</td>\n",
       "      <td>35</td>\n",
       "      <td>87</td>\n",
       "      <td>63</td>\n",
       "      <td>177</td>\n",
       "      <td>39</td>\n",
       "      <td>737438</td>\n",
       "      <td>50200</td>\n",
       "      <td>474555</td>\n",
       "      <td>25197</td>\n",
       "      <td>111371</td>\n",
       "      <td>46381</td>\n",
       "      <td>1376</td>\n",
       "      <td>7958</td>\n",
       "    </tr>\n",
       "    <tr>\n",
       "      <th>Arizona</th>\n",
       "      <td>122467</td>\n",
       "      <td>19895</td>\n",
       "      <td>2709</td>\n",
       "      <td>28514</td>\n",
       "      <td>913</td>\n",
       "      <td>7783</td>\n",
       "      <td>0</td>\n",
       "      <td>7171646</td>\n",
       "      <td>2213600</td>\n",
       "      <td>5590505</td>\n",
       "      <td>336340</td>\n",
       "      <td>330599</td>\n",
       "      <td>237873</td>\n",
       "      <td>58926</td>\n",
       "      <td>15661</td>\n",
       "    </tr>\n",
       "    <tr>\n",
       "      <th>Arkansas</th>\n",
       "      <td>28367</td>\n",
       "      <td>13542</td>\n",
       "      <td>6042</td>\n",
       "      <td>6851</td>\n",
       "      <td>395</td>\n",
       "      <td>74</td>\n",
       "      <td>1743</td>\n",
       "      <td>3013825</td>\n",
       "      <td>224900</td>\n",
       "      <td>2306096</td>\n",
       "      <td>456714</td>\n",
       "      <td>20951</td>\n",
       "      <td>47548</td>\n",
       "      <td>9581</td>\n",
       "      <td>9398</td>\n",
       "    </tr>\n",
       "    <tr>\n",
       "      <th>California</th>\n",
       "      <td>320804</td>\n",
       "      <td>36481</td>\n",
       "      <td>9021</td>\n",
       "      <td>112854</td>\n",
       "      <td>12473</td>\n",
       "      <td>446</td>\n",
       "      <td>1243</td>\n",
       "      <td>39557045</td>\n",
       "      <td>15261300</td>\n",
       "      <td>23535388</td>\n",
       "      <td>2283850</td>\n",
       "      <td>302792</td>\n",
       "      <td>5821585</td>\n",
       "      <td>815948</td>\n",
       "      <td>155739</td>\n",
       "    </tr>\n",
       "  </tbody>\n",
       "</table>\n",
       "</div>"
      ],
      "text/plain": [
       "            Total_confirmed  White_confirmed  \\\n",
       "State                                          \n",
       "Alabama               53587            18094   \n",
       "Alaska                 1479              633   \n",
       "Arizona              122467            19895   \n",
       "Arkansas              28367            13542   \n",
       "California           320804            36481   \n",
       "\n",
       "            Black or African American_confirmed  Hispanic_confirmed  \\\n",
       "State                                                                 \n",
       "Alabama                                   17650                4846   \n",
       "Alaska                                       35                  87   \n",
       "Arizona                                    2709               28514   \n",
       "Arkansas                                   6042                6851   \n",
       "California                                 9021              112854   \n",
       "\n",
       "            Asian_confirmed  American Indian and Alaska Native_confirmed  \\\n",
       "State                                                                      \n",
       "Alabama                 216                                            0   \n",
       "Alaska                   63                                          177   \n",
       "Arizona                 913                                         7783   \n",
       "Arkansas                395                                           74   \n",
       "California            12473                                          446   \n",
       "\n",
       "            Native Hawaiian and Other Pacific Islander_confirmed  \\\n",
       "State                                                              \n",
       "Alabama                                                     0      \n",
       "Alaska                                                     39      \n",
       "Arizona                                                     0      \n",
       "Arkansas                                                 1743      \n",
       "California                                               1243      \n",
       "\n",
       "            Total population  Hispanic     White  Black or African American  \\\n",
       "State                                                                         \n",
       "Alabama              4887871    204800   3306838                    1307040   \n",
       "Alaska                737438     50200    474555                      25197   \n",
       "Arizona              7171646   2213600   5590505                     336340   \n",
       "Arkansas             3013825    224900   2306096                     456714   \n",
       "California          39557045  15261300  23535388                    2283850   \n",
       "\n",
       "            American Indian and Alaska Native    Asian  Asian Indian  \\\n",
       "State                                                                  \n",
       "Alabama                                 22063    65095         14401   \n",
       "Alaska                                 111371    46381          1376   \n",
       "Arizona                                330599   237873         58926   \n",
       "Arkansas                                20951    47548          9581   \n",
       "California                             302792  5821585        815948   \n",
       "\n",
       "            Native Hawaiian and Other Pacific Islander  \n",
       "State                                                   \n",
       "Alabama                                           1797  \n",
       "Alaska                                            7958  \n",
       "Arizona                                          15661  \n",
       "Arkansas                                          9398  \n",
       "California                                      155739  "
      ]
     },
     "execution_count": 48,
     "metadata": {},
     "output_type": "execute_result"
    }
   ],
   "source": [
    "df = pd.read_csv(\"50states_covid-19 race data.csv\", index_col = 0)\n",
    "df.head()"
   ]
  },
  {
   "cell_type": "code",
   "execution_count": 49,
   "metadata": {},
   "outputs": [
    {
     "data": {
      "text/plain": [
       "Index(['Total_confirmed', 'White_confirmed',\n",
       "       'Black or African American_confirmed', 'Hispanic_confirmed',\n",
       "       'Asian_confirmed', 'American Indian and Alaska Native_confirmed',\n",
       "       'Native Hawaiian and Other Pacific Islander_confirmed',\n",
       "       'Total population', 'Hispanic', 'White', 'Black or African American',\n",
       "       'American Indian and Alaska Native', 'Asian', 'Asian Indian',\n",
       "       'Native Hawaiian and Other Pacific Islander'],\n",
       "      dtype='object')"
      ]
     },
     "execution_count": 49,
     "metadata": {},
     "output_type": "execute_result"
    }
   ],
   "source": [
    "df.columns"
   ]
  },
  {
   "cell_type": "code",
   "execution_count": 50,
   "metadata": {},
   "outputs": [],
   "source": [
    "df = df.fillna(0)"
   ]
  },
  {
   "cell_type": "code",
   "execution_count": 51,
   "metadata": {},
   "outputs": [
    {
     "data": {
      "text/plain": [
       "Total_confirmed                                         int64\n",
       "White_confirmed                                         int64\n",
       "Black or African American_confirmed                     int64\n",
       "Hispanic_confirmed                                      int64\n",
       "Asian_confirmed                                         int64\n",
       "American Indian and Alaska Native_confirmed             int64\n",
       "Native Hawaiian and Other Pacific Islander_confirmed    int64\n",
       "Total population                                        int64\n",
       "Hispanic                                                int64\n",
       "White                                                   int64\n",
       "Black or African American                               int64\n",
       "American Indian and Alaska Native                       int64\n",
       "Asian                                                   int64\n",
       "Asian Indian                                            int64\n",
       "Native Hawaiian and Other Pacific Islander              int64\n",
       "dtype: object"
      ]
     },
     "execution_count": 51,
     "metadata": {},
     "output_type": "execute_result"
    }
   ],
   "source": [
    "df.astype('int64').dtypes"
   ]
  },
  {
   "cell_type": "code",
   "execution_count": 188,
   "metadata": {},
   "outputs": [
    {
     "data": {
      "text/plain": [
       "SpearmanrResult(correlation=0.8940795559666975, pvalue=2.6470368929040484e-17)"
      ]
     },
     "execution_count": 188,
     "metadata": {},
     "output_type": "execute_result"
    }
   ],
   "source": [
    "spearmanr(df['Total_confirmed'], df['White_confirmed'])"
   ]
  },
  {
   "cell_type": "code",
   "execution_count": 53,
   "metadata": {},
   "outputs": [
    {
     "data": {
      "text/plain": [
       "SpearmanrResult(correlation=0.85395467160037, pvalue=2.351366915363841e-14)"
      ]
     },
     "execution_count": 53,
     "metadata": {},
     "output_type": "execute_result"
    }
   ],
   "source": [
    "spearmanr(df['Total_confirmed'], df['Black or African American_confirmed'])"
   ]
  },
  {
   "cell_type": "code",
   "execution_count": 54,
   "metadata": {},
   "outputs": [
    {
     "data": {
      "text/plain": [
       "SpearmanrResult(correlation=0.8641554165098161, pvalue=5.1587915468451e-15)"
      ]
     },
     "execution_count": 54,
     "metadata": {},
     "output_type": "execute_result"
    }
   ],
   "source": [
    "spearmanr(df['Total_confirmed'], df['Hispanic_confirmed'])"
   ]
  },
  {
   "cell_type": "code",
   "execution_count": 55,
   "metadata": {},
   "outputs": [
    {
     "data": {
      "text/plain": [
       "SpearmanrResult(correlation=0.6442658299550229, pvalue=1.0264866544989807e-06)"
      ]
     },
     "execution_count": 55,
     "metadata": {},
     "output_type": "execute_result"
    }
   ],
   "source": [
    "spearmanr(df['Total_confirmed'], df['Asian_confirmed'])"
   ]
  },
  {
   "cell_type": "code",
   "execution_count": 56,
   "metadata": {},
   "outputs": [
    {
     "data": {
      "text/plain": [
       "SpearmanrResult(correlation=-0.05713385711012333, pvalue=0.702865980344029)"
      ]
     },
     "execution_count": 56,
     "metadata": {},
     "output_type": "execute_result"
    }
   ],
   "source": [
    "spearmanr(df['Total_confirmed'], df['American Indian and Alaska Native_confirmed'])"
   ]
  },
  {
   "cell_type": "code",
   "execution_count": 57,
   "metadata": {},
   "outputs": [
    {
     "data": {
      "text/plain": [
       "SpearmanrResult(correlation=0.007449225891821669, pvalue=0.9603656056733734)"
      ]
     },
     "execution_count": 57,
     "metadata": {},
     "output_type": "execute_result"
    }
   ],
   "source": [
    "spearmanr(df['Total_confirmed'], df['Native Hawaiian and Other Pacific Islander_confirmed'])"
   ]
  },
  {
   "cell_type": "markdown",
   "metadata": {},
   "source": [
    "# cases per population"
   ]
  },
  {
   "cell_type": "code",
   "execution_count": 189,
   "metadata": {},
   "outputs": [
    {
     "data": {
      "text/html": [
       "<div>\n",
       "<style scoped>\n",
       "    .dataframe tbody tr th:only-of-type {\n",
       "        vertical-align: middle;\n",
       "    }\n",
       "\n",
       "    .dataframe tbody tr th {\n",
       "        vertical-align: top;\n",
       "    }\n",
       "\n",
       "    .dataframe thead th {\n",
       "        text-align: right;\n",
       "    }\n",
       "</style>\n",
       "<table border=\"1\" class=\"dataframe\">\n",
       "  <thead>\n",
       "    <tr style=\"text-align: right;\">\n",
       "      <th></th>\n",
       "      <th>tot_pop</th>\n",
       "      <th>Total_confirmed</th>\n",
       "    </tr>\n",
       "    <tr>\n",
       "      <th>State</th>\n",
       "      <th></th>\n",
       "      <th></th>\n",
       "    </tr>\n",
       "  </thead>\n",
       "  <tbody>\n",
       "    <tr>\n",
       "      <th>Alabama</th>\n",
       "      <td>4887871</td>\n",
       "      <td>1.096326</td>\n",
       "    </tr>\n",
       "    <tr>\n",
       "      <th>Alaska</th>\n",
       "      <td>737438</td>\n",
       "      <td>0.200559</td>\n",
       "    </tr>\n",
       "    <tr>\n",
       "      <th>Arizona</th>\n",
       "      <td>7171646</td>\n",
       "      <td>1.707655</td>\n",
       "    </tr>\n",
       "    <tr>\n",
       "      <th>Arkansas</th>\n",
       "      <td>3013825</td>\n",
       "      <td>0.941229</td>\n",
       "    </tr>\n",
       "    <tr>\n",
       "      <th>California</th>\n",
       "      <td>39557045</td>\n",
       "      <td>0.810991</td>\n",
       "    </tr>\n",
       "    <tr>\n",
       "      <th>Colorado</th>\n",
       "      <td>5695564</td>\n",
       "      <td>0.648101</td>\n",
       "    </tr>\n",
       "    <tr>\n",
       "      <th>Connecticut</th>\n",
       "      <td>3572665</td>\n",
       "      <td>1.323578</td>\n",
       "    </tr>\n",
       "    <tr>\n",
       "      <th>Delaware</th>\n",
       "      <td>967171</td>\n",
       "      <td>1.323861</td>\n",
       "    </tr>\n",
       "    <tr>\n",
       "      <th>Florida</th>\n",
       "      <td>21299325</td>\n",
       "      <td>1.266758</td>\n",
       "    </tr>\n",
       "    <tr>\n",
       "      <th>Georgia</th>\n",
       "      <td>10519475</td>\n",
       "      <td>1.111519</td>\n",
       "    </tr>\n",
       "    <tr>\n",
       "      <th>Hawaii</th>\n",
       "      <td>1420491</td>\n",
       "      <td>0.085886</td>\n",
       "    </tr>\n",
       "    <tr>\n",
       "      <th>Idaho</th>\n",
       "      <td>1754208</td>\n",
       "      <td>0.621477</td>\n",
       "    </tr>\n",
       "    <tr>\n",
       "      <th>Illinois</th>\n",
       "      <td>12741080</td>\n",
       "      <td>1.216914</td>\n",
       "    </tr>\n",
       "    <tr>\n",
       "      <th>Indiana</th>\n",
       "      <td>6691878</td>\n",
       "      <td>0.771263</td>\n",
       "    </tr>\n",
       "    <tr>\n",
       "      <th>Iowa</th>\n",
       "      <td>3156145</td>\n",
       "      <td>1.131507</td>\n",
       "    </tr>\n",
       "    <tr>\n",
       "      <th>Kansas</th>\n",
       "      <td>2911510</td>\n",
       "      <td>0.639222</td>\n",
       "    </tr>\n",
       "    <tr>\n",
       "      <th>Kentucky</th>\n",
       "      <td>4468402</td>\n",
       "      <td>0.433914</td>\n",
       "    </tr>\n",
       "    <tr>\n",
       "      <th>Maine</th>\n",
       "      <td>1338404</td>\n",
       "      <td>0.264419</td>\n",
       "    </tr>\n",
       "    <tr>\n",
       "      <th>Maryland</th>\n",
       "      <td>6042718</td>\n",
       "      <td>1.209869</td>\n",
       "    </tr>\n",
       "    <tr>\n",
       "      <th>Massachusetts</th>\n",
       "      <td>6902149</td>\n",
       "      <td>1.616844</td>\n",
       "    </tr>\n",
       "    <tr>\n",
       "      <th>Michigan</th>\n",
       "      <td>9995915</td>\n",
       "      <td>0.768074</td>\n",
       "    </tr>\n",
       "    <tr>\n",
       "      <th>Minnesota</th>\n",
       "      <td>5611179</td>\n",
       "      <td>0.753514</td>\n",
       "    </tr>\n",
       "    <tr>\n",
       "      <th>Mississippi</th>\n",
       "      <td>2986530</td>\n",
       "      <td>1.185958</td>\n",
       "    </tr>\n",
       "    <tr>\n",
       "      <th>Missouri</th>\n",
       "      <td>6126452</td>\n",
       "      <td>0.447780</td>\n",
       "    </tr>\n",
       "    <tr>\n",
       "      <th>Montana</th>\n",
       "      <td>1062305</td>\n",
       "      <td>0.165489</td>\n",
       "    </tr>\n",
       "    <tr>\n",
       "      <th>Nebraska</th>\n",
       "      <td>1929268</td>\n",
       "      <td>1.097411</td>\n",
       "    </tr>\n",
       "    <tr>\n",
       "      <th>Nevada</th>\n",
       "      <td>3034392</td>\n",
       "      <td>0.912308</td>\n",
       "    </tr>\n",
       "    <tr>\n",
       "      <th>New Hampshire</th>\n",
       "      <td>1356458</td>\n",
       "      <td>0.446309</td>\n",
       "    </tr>\n",
       "    <tr>\n",
       "      <th>New Jersey</th>\n",
       "      <td>8908520</td>\n",
       "      <td>1.967757</td>\n",
       "    </tr>\n",
       "    <tr>\n",
       "      <th>New Mexico</th>\n",
       "      <td>2095428</td>\n",
       "      <td>0.717180</td>\n",
       "    </tr>\n",
       "    <tr>\n",
       "      <th>North Carolina</th>\n",
       "      <td>10383620</td>\n",
       "      <td>0.825348</td>\n",
       "    </tr>\n",
       "    <tr>\n",
       "      <th>Ohio</th>\n",
       "      <td>11689442</td>\n",
       "      <td>0.561122</td>\n",
       "    </tr>\n",
       "    <tr>\n",
       "      <th>Oklahoma</th>\n",
       "      <td>3943079</td>\n",
       "      <td>0.513178</td>\n",
       "    </tr>\n",
       "    <tr>\n",
       "      <th>Oregon</th>\n",
       "      <td>4190713</td>\n",
       "      <td>0.273319</td>\n",
       "    </tr>\n",
       "    <tr>\n",
       "      <th>Pennsylvania</th>\n",
       "      <td>12807060</td>\n",
       "      <td>0.719509</td>\n",
       "    </tr>\n",
       "    <tr>\n",
       "      <th>Rhode Island</th>\n",
       "      <td>1057315</td>\n",
       "      <td>1.637355</td>\n",
       "    </tr>\n",
       "    <tr>\n",
       "      <th>South Carolina</th>\n",
       "      <td>5084127</td>\n",
       "      <td>1.114213</td>\n",
       "    </tr>\n",
       "    <tr>\n",
       "      <th>South Dakota</th>\n",
       "      <td>882235</td>\n",
       "      <td>0.850000</td>\n",
       "    </tr>\n",
       "    <tr>\n",
       "      <th>Tennessee</th>\n",
       "      <td>6770010</td>\n",
       "      <td>0.915213</td>\n",
       "    </tr>\n",
       "    <tr>\n",
       "      <th>Texas</th>\n",
       "      <td>28701845</td>\n",
       "      <td>0.901189</td>\n",
       "    </tr>\n",
       "    <tr>\n",
       "      <th>Utah</th>\n",
       "      <td>3161105</td>\n",
       "      <td>0.932712</td>\n",
       "    </tr>\n",
       "    <tr>\n",
       "      <th>Vermont</th>\n",
       "      <td>626299</td>\n",
       "      <td>0.206930</td>\n",
       "    </tr>\n",
       "    <tr>\n",
       "      <th>Virginia</th>\n",
       "      <td>8517685</td>\n",
       "      <td>0.829686</td>\n",
       "    </tr>\n",
       "    <tr>\n",
       "      <th>Washington</th>\n",
       "      <td>7535591</td>\n",
       "      <td>0.520437</td>\n",
       "    </tr>\n",
       "    <tr>\n",
       "      <th>West Virginia</th>\n",
       "      <td>1805832</td>\n",
       "      <td>0.235016</td>\n",
       "    </tr>\n",
       "    <tr>\n",
       "      <th>Wisconsin</th>\n",
       "      <td>5813568</td>\n",
       "      <td>0.685930</td>\n",
       "    </tr>\n",
       "    <tr>\n",
       "      <th>Wyoming</th>\n",
       "      <td>577737</td>\n",
       "      <td>0.322292</td>\n",
       "    </tr>\n",
       "  </tbody>\n",
       "</table>\n",
       "</div>"
      ],
      "text/plain": [
       "                 tot_pop  Total_confirmed\n",
       "State                                    \n",
       "Alabama          4887871         1.096326\n",
       "Alaska            737438         0.200559\n",
       "Arizona          7171646         1.707655\n",
       "Arkansas         3013825         0.941229\n",
       "California      39557045         0.810991\n",
       "Colorado         5695564         0.648101\n",
       "Connecticut      3572665         1.323578\n",
       "Delaware          967171         1.323861\n",
       "Florida         21299325         1.266758\n",
       "Georgia         10519475         1.111519\n",
       "Hawaii           1420491         0.085886\n",
       "Idaho            1754208         0.621477\n",
       "Illinois        12741080         1.216914\n",
       "Indiana          6691878         0.771263\n",
       "Iowa             3156145         1.131507\n",
       "Kansas           2911510         0.639222\n",
       "Kentucky         4468402         0.433914\n",
       "Maine            1338404         0.264419\n",
       "Maryland         6042718         1.209869\n",
       "Massachusetts    6902149         1.616844\n",
       "Michigan         9995915         0.768074\n",
       "Minnesota        5611179         0.753514\n",
       "Mississippi      2986530         1.185958\n",
       "Missouri         6126452         0.447780\n",
       "Montana          1062305         0.165489\n",
       "Nebraska         1929268         1.097411\n",
       "Nevada           3034392         0.912308\n",
       "New Hampshire    1356458         0.446309\n",
       "New Jersey       8908520         1.967757\n",
       "New Mexico       2095428         0.717180\n",
       "North Carolina  10383620         0.825348\n",
       "Ohio            11689442         0.561122\n",
       "Oklahoma         3943079         0.513178\n",
       "Oregon           4190713         0.273319\n",
       "Pennsylvania    12807060         0.719509\n",
       "Rhode Island     1057315         1.637355\n",
       "South Carolina   5084127         1.114213\n",
       "South Dakota      882235         0.850000\n",
       "Tennessee        6770010         0.915213\n",
       "Texas           28701845         0.901189\n",
       "Utah             3161105         0.932712\n",
       "Vermont           626299         0.206930\n",
       "Virginia         8517685         0.829686\n",
       "Washington       7535591         0.520437\n",
       "West Virginia    1805832         0.235016\n",
       "Wisconsin        5813568         0.685930\n",
       "Wyoming           577737         0.322292"
      ]
     },
     "execution_count": 189,
     "metadata": {},
     "output_type": "execute_result"
    }
   ],
   "source": [
    "per_df = pd.DataFrame()\n",
    "per_df['tot_pop'] = df['Total population']\n",
    "per_df['Total_confirmed'] = (df['Total_confirmed']/per_df['tot_pop']) * 100\n",
    "per_df"
   ]
  },
  {
   "cell_type": "code",
   "execution_count": 197,
   "metadata": {},
   "outputs": [],
   "source": [
    "per_df['White_confirmed'] = df['White_confirmed']/df['White']\n",
    "per_df['Hispanic_confirmed'] = df['Hispanic_confirmed']/df['Hispanic']\n",
    "per_df['Black or African American_confirmed'] = df['Black or African American_confirmed']/df['Black or African American']\n",
    "per_df['Asian_confirmed'] = df['Asian_confirmed']/df['Asian']\n",
    "per_df['American Indian and Alaska Native_confirmed'] = df['American Indian and Alaska Native_confirmed']/df['American Indian and Alaska Native']\n",
    "per_df['Native Hawaiian and Other Pacific Islander_confirmed'] =df['Native Hawaiian and Other Pacific Islander_confirmed']/ df['Native Hawaiian and Other Pacific Islander']"
   ]
  },
  {
   "cell_type": "code",
   "execution_count": 198,
   "metadata": {},
   "outputs": [
    {
     "data": {
      "text/plain": [
       "SpearmanrResult(correlation=0.7296484736355227, pvalue=5.949425555944898e-09)"
      ]
     },
     "execution_count": 198,
     "metadata": {},
     "output_type": "execute_result"
    }
   ],
   "source": [
    "spearmanr(per_df['Total_confirmed'], per_df['White_confirmed'])"
   ]
  },
  {
   "cell_type": "code",
   "execution_count": 199,
   "metadata": {},
   "outputs": [
    {
     "data": {
      "text/plain": [
       "SpearmanrResult(correlation=0.6553149665945575, pvalue=5.777616392203088e-07)"
      ]
     },
     "execution_count": 199,
     "metadata": {},
     "output_type": "execute_result"
    }
   ],
   "source": [
    "spearmanr(per_df['Total_confirmed'], per_df['Hispanic_confirmed'])"
   ]
  },
  {
   "cell_type": "code",
   "execution_count": 200,
   "metadata": {},
   "outputs": [
    {
     "data": {
      "text/plain": [
       "SpearmanrResult(correlation=0.4535152636447734, pvalue=0.0013671424812341175)"
      ]
     },
     "execution_count": 200,
     "metadata": {},
     "output_type": "execute_result"
    }
   ],
   "source": [
    "spearmanr(per_df['Total_confirmed'], per_df['Black or African American_confirmed'])"
   ]
  },
  {
   "cell_type": "code",
   "execution_count": 201,
   "metadata": {},
   "outputs": [
    {
     "data": {
      "text/plain": [
       "SpearmanrResult(correlation=0.2161818377353569, pvalue=0.14443275740502992)"
      ]
     },
     "execution_count": 201,
     "metadata": {},
     "output_type": "execute_result"
    }
   ],
   "source": [
    "spearmanr(per_df['Total_confirmed'], per_df['Asian_confirmed'])"
   ]
  },
  {
   "cell_type": "code",
   "execution_count": 202,
   "metadata": {},
   "outputs": [
    {
     "data": {
      "text/plain": [
       "SpearmanrResult(correlation=-0.007876007598645205, pvalue=0.9580968320718212)"
      ]
     },
     "execution_count": 202,
     "metadata": {},
     "output_type": "execute_result"
    }
   ],
   "source": [
    "spearmanr(per_df['Total_confirmed'], per_df['American Indian and Alaska Native_confirmed'])"
   ]
  },
  {
   "cell_type": "code",
   "execution_count": 203,
   "metadata": {},
   "outputs": [
    {
     "data": {
      "text/plain": [
       "SpearmanrResult(correlation=-0.11315117259818776, pvalue=0.44888582687425727)"
      ]
     },
     "execution_count": 203,
     "metadata": {},
     "output_type": "execute_result"
    }
   ],
   "source": [
    "spearmanr(per_df['Total_confirmed'], per_df['Native Hawaiian and Other Pacific Islander_confirmed'])"
   ]
  },
  {
   "cell_type": "markdown",
   "metadata": {},
   "source": [
    "# OLS - Ordinary Least Squares Method"
   ]
  },
  {
   "cell_type": "code",
   "execution_count": 72,
   "metadata": {},
   "outputs": [],
   "source": [
    "import statsmodels.api as sm\n",
    "import numpy as np"
   ]
  },
  {
   "cell_type": "code",
   "execution_count": 229,
   "metadata": {},
   "outputs": [
    {
     "data": {
      "text/html": [
       "<table class=\"simpletable\">\n",
       "<caption>OLS Regression Results</caption>\n",
       "<tr>\n",
       "  <th>Dep. Variable:</th>     <td>White_confirmed</td> <th>  R-squared (uncentered):</th>      <td>   0.882</td>\n",
       "</tr>\n",
       "<tr>\n",
       "  <th>Model:</th>                   <td>OLS</td>       <th>  Adj. R-squared (uncentered):</th> <td>   0.880</td>\n",
       "</tr>\n",
       "<tr>\n",
       "  <th>Method:</th>             <td>Least Squares</td>  <th>  F-statistic:       </th>          <td>   344.9</td>\n",
       "</tr>\n",
       "<tr>\n",
       "  <th>Date:</th>             <td>Fri, 17 Jul 2020</td> <th>  Prob (F-statistic):</th>          <td>5.26e-23</td>\n",
       "</tr>\n",
       "<tr>\n",
       "  <th>Time:</th>                 <td>19:02:35</td>     <th>  Log-Likelihood:    </th>          <td>  241.99</td>\n",
       "</tr>\n",
       "<tr>\n",
       "  <th>No. Observations:</th>      <td>    47</td>      <th>  AIC:               </th>          <td>  -482.0</td>\n",
       "</tr>\n",
       "<tr>\n",
       "  <th>Df Residuals:</th>          <td>    46</td>      <th>  BIC:               </th>          <td>  -480.1</td>\n",
       "</tr>\n",
       "<tr>\n",
       "  <th>Df Model:</th>              <td>     1</td>      <th>                     </th>              <td> </td>   \n",
       "</tr>\n",
       "<tr>\n",
       "  <th>Covariance Type:</th>      <td>nonrobust</td>    <th>                     </th>              <td> </td>   \n",
       "</tr>\n",
       "</table>\n",
       "<table class=\"simpletable\">\n",
       "<tr>\n",
       "         <td></td>            <th>coef</th>     <th>std err</th>      <th>t</th>      <th>P>|t|</th>  <th>[0.025</th>    <th>0.975]</th>  \n",
       "</tr>\n",
       "<tr>\n",
       "  <th>Total_confirmed</th> <td>    0.0041</td> <td>    0.000</td> <td>   18.571</td> <td> 0.000</td> <td>    0.004</td> <td>    0.005</td>\n",
       "</tr>\n",
       "</table>\n",
       "<table class=\"simpletable\">\n",
       "<tr>\n",
       "  <th>Omnibus:</th>       <td> 4.933</td> <th>  Durbin-Watson:     </th> <td>   2.100</td>\n",
       "</tr>\n",
       "<tr>\n",
       "  <th>Prob(Omnibus):</th> <td> 0.085</td> <th>  Jarque-Bera (JB):  </th> <td>   3.737</td>\n",
       "</tr>\n",
       "<tr>\n",
       "  <th>Skew:</th>          <td>-0.610</td> <th>  Prob(JB):          </th> <td>   0.154</td>\n",
       "</tr>\n",
       "<tr>\n",
       "  <th>Kurtosis:</th>      <td> 3.647</td> <th>  Cond. No.          </th> <td>    1.00</td>\n",
       "</tr>\n",
       "</table><br/><br/>Warnings:<br/>[1] Standard Errors assume that the covariance matrix of the errors is correctly specified."
      ],
      "text/plain": [
       "<class 'statsmodels.iolib.summary.Summary'>\n",
       "\"\"\"\n",
       "                                 OLS Regression Results                                \n",
       "=======================================================================================\n",
       "Dep. Variable:        White_confirmed   R-squared (uncentered):                   0.882\n",
       "Model:                            OLS   Adj. R-squared (uncentered):              0.880\n",
       "Method:                 Least Squares   F-statistic:                              344.9\n",
       "Date:                Fri, 17 Jul 2020   Prob (F-statistic):                    5.26e-23\n",
       "Time:                        19:02:35   Log-Likelihood:                          241.99\n",
       "No. Observations:                  47   AIC:                                     -482.0\n",
       "Df Residuals:                      46   BIC:                                     -480.1\n",
       "Df Model:                           1                                                  \n",
       "Covariance Type:            nonrobust                                                  \n",
       "===================================================================================\n",
       "                      coef    std err          t      P>|t|      [0.025      0.975]\n",
       "-----------------------------------------------------------------------------------\n",
       "Total_confirmed     0.0041      0.000     18.571      0.000       0.004       0.005\n",
       "==============================================================================\n",
       "Omnibus:                        4.933   Durbin-Watson:                   2.100\n",
       "Prob(Omnibus):                  0.085   Jarque-Bera (JB):                3.737\n",
       "Skew:                          -0.610   Prob(JB):                        0.154\n",
       "Kurtosis:                       3.647   Cond. No.                         1.00\n",
       "==============================================================================\n",
       "\n",
       "Warnings:\n",
       "[1] Standard Errors assume that the covariance matrix of the errors is correctly specified.\n",
       "\"\"\""
      ]
     },
     "execution_count": 229,
     "metadata": {},
     "output_type": "execute_result"
    }
   ],
   "source": [
    "# Y = per_df['case_per']\n",
    "# X = per_df['white']\n",
    "# X = sm.add_constant(X)\n",
    "model = sm.OLS(per_df['Total_confirmed'],per_df['White_confirmed'])\n",
    "results = model.fit()\n",
    "results.params\n",
    "results.summary()"
   ]
  },
  {
   "cell_type": "code",
   "execution_count": 205,
   "metadata": {},
   "outputs": [
    {
     "data": {
      "text/html": [
       "<table class=\"simpletable\">\n",
       "<caption>OLS Regression Results</caption>\n",
       "<tr>\n",
       "  <th>Dep. Variable:</th>     <td>Total_confirmed</td> <th>  R-squared (uncentered):</th>      <td>   0.770</td>\n",
       "</tr>\n",
       "<tr>\n",
       "  <th>Model:</th>                   <td>OLS</td>       <th>  Adj. R-squared (uncentered):</th> <td>   0.765</td>\n",
       "</tr>\n",
       "<tr>\n",
       "  <th>Method:</th>             <td>Least Squares</td>  <th>  F-statistic:       </th>          <td>   154.3</td>\n",
       "</tr>\n",
       "<tr>\n",
       "  <th>Date:</th>             <td>Fri, 17 Jul 2020</td> <th>  Prob (F-statistic):</th>          <td>2.66e-16</td>\n",
       "</tr>\n",
       "<tr>\n",
       "  <th>Time:</th>                 <td>18:56:00</td>     <th>  Log-Likelihood:    </th>          <td> -28.916</td>\n",
       "</tr>\n",
       "<tr>\n",
       "  <th>No. Observations:</th>      <td>    47</td>      <th>  AIC:               </th>          <td>   59.83</td>\n",
       "</tr>\n",
       "<tr>\n",
       "  <th>Df Residuals:</th>          <td>    46</td>      <th>  BIC:               </th>          <td>   61.68</td>\n",
       "</tr>\n",
       "<tr>\n",
       "  <th>Df Model:</th>              <td>     1</td>      <th>                     </th>              <td> </td>   \n",
       "</tr>\n",
       "<tr>\n",
       "  <th>Covariance Type:</th>      <td>nonrobust</td>    <th>                     </th>              <td> </td>   \n",
       "</tr>\n",
       "</table>\n",
       "<table class=\"simpletable\">\n",
       "<tr>\n",
       "           <td></td>             <th>coef</th>     <th>std err</th>      <th>t</th>      <th>P>|t|</th>  <th>[0.025</th>    <th>0.975]</th>  \n",
       "</tr>\n",
       "<tr>\n",
       "  <th>Hispanic_confirmed</th> <td>   38.7403</td> <td>    3.118</td> <td>   12.424</td> <td> 0.000</td> <td>   32.464</td> <td>   45.017</td>\n",
       "</tr>\n",
       "</table>\n",
       "<table class=\"simpletable\">\n",
       "<tr>\n",
       "  <th>Omnibus:</th>       <td> 3.018</td> <th>  Durbin-Watson:     </th> <td>   2.054</td>\n",
       "</tr>\n",
       "<tr>\n",
       "  <th>Prob(Omnibus):</th> <td> 0.221</td> <th>  Jarque-Bera (JB):  </th> <td>   2.169</td>\n",
       "</tr>\n",
       "<tr>\n",
       "  <th>Skew:</th>          <td> 0.511</td> <th>  Prob(JB):          </th> <td>   0.338</td>\n",
       "</tr>\n",
       "<tr>\n",
       "  <th>Kurtosis:</th>      <td> 3.249</td> <th>  Cond. No.          </th> <td>    1.00</td>\n",
       "</tr>\n",
       "</table><br/><br/>Warnings:<br/>[1] Standard Errors assume that the covariance matrix of the errors is correctly specified."
      ],
      "text/plain": [
       "<class 'statsmodels.iolib.summary.Summary'>\n",
       "\"\"\"\n",
       "                                 OLS Regression Results                                \n",
       "=======================================================================================\n",
       "Dep. Variable:        Total_confirmed   R-squared (uncentered):                   0.770\n",
       "Model:                            OLS   Adj. R-squared (uncentered):              0.765\n",
       "Method:                 Least Squares   F-statistic:                              154.3\n",
       "Date:                Fri, 17 Jul 2020   Prob (F-statistic):                    2.66e-16\n",
       "Time:                        18:56:00   Log-Likelihood:                         -28.916\n",
       "No. Observations:                  47   AIC:                                      59.83\n",
       "Df Residuals:                      46   BIC:                                      61.68\n",
       "Df Model:                           1                                                  \n",
       "Covariance Type:            nonrobust                                                  \n",
       "======================================================================================\n",
       "                         coef    std err          t      P>|t|      [0.025      0.975]\n",
       "--------------------------------------------------------------------------------------\n",
       "Hispanic_confirmed    38.7403      3.118     12.424      0.000      32.464      45.017\n",
       "==============================================================================\n",
       "Omnibus:                        3.018   Durbin-Watson:                   2.054\n",
       "Prob(Omnibus):                  0.221   Jarque-Bera (JB):                2.169\n",
       "Skew:                           0.511   Prob(JB):                        0.338\n",
       "Kurtosis:                       3.249   Cond. No.                         1.00\n",
       "==============================================================================\n",
       "\n",
       "Warnings:\n",
       "[1] Standard Errors assume that the covariance matrix of the errors is correctly specified.\n",
       "\"\"\""
      ]
     },
     "execution_count": 205,
     "metadata": {},
     "output_type": "execute_result"
    }
   ],
   "source": [
    "model = sm.OLS(per_df['Total_confirmed'],per_df['Hispanic_confirmed'])\n",
    "results = model.fit()\n",
    "results.params\n",
    "results.summary()"
   ]
  },
  {
   "cell_type": "code",
   "execution_count": 206,
   "metadata": {},
   "outputs": [
    {
     "data": {
      "text/html": [
       "<table class=\"simpletable\">\n",
       "<caption>OLS Regression Results</caption>\n",
       "<tr>\n",
       "  <th>Dep. Variable:</th>     <td>Total_confirmed</td> <th>  R-squared (uncentered):</th>      <td>   0.581</td>\n",
       "</tr>\n",
       "<tr>\n",
       "  <th>Model:</th>                   <td>OLS</td>       <th>  Adj. R-squared (uncentered):</th> <td>   0.572</td>\n",
       "</tr>\n",
       "<tr>\n",
       "  <th>Method:</th>             <td>Least Squares</td>  <th>  F-statistic:       </th>          <td>   63.90</td>\n",
       "</tr>\n",
       "<tr>\n",
       "  <th>Date:</th>             <td>Fri, 17 Jul 2020</td> <th>  Prob (F-statistic):</th>          <td>3.02e-10</td>\n",
       "</tr>\n",
       "<tr>\n",
       "  <th>Time:</th>                 <td>18:56:06</td>     <th>  Log-Likelihood:    </th>          <td> -43.027</td>\n",
       "</tr>\n",
       "<tr>\n",
       "  <th>No. Observations:</th>      <td>    47</td>      <th>  AIC:               </th>          <td>   88.05</td>\n",
       "</tr>\n",
       "<tr>\n",
       "  <th>Df Residuals:</th>          <td>    46</td>      <th>  BIC:               </th>          <td>   89.90</td>\n",
       "</tr>\n",
       "<tr>\n",
       "  <th>Df Model:</th>              <td>     1</td>      <th>                     </th>              <td> </td>   \n",
       "</tr>\n",
       "<tr>\n",
       "  <th>Covariance Type:</th>      <td>nonrobust</td>    <th>                     </th>              <td> </td>   \n",
       "</tr>\n",
       "</table>\n",
       "<table class=\"simpletable\">\n",
       "<tr>\n",
       "                   <td></td>                      <th>coef</th>     <th>std err</th>      <th>t</th>      <th>P>|t|</th>  <th>[0.025</th>    <th>0.975]</th>  \n",
       "</tr>\n",
       "<tr>\n",
       "  <th>Black or African American_confirmed</th> <td>   45.6124</td> <td>    5.706</td> <td>    7.994</td> <td> 0.000</td> <td>   34.127</td> <td>   57.098</td>\n",
       "</tr>\n",
       "</table>\n",
       "<table class=\"simpletable\">\n",
       "<tr>\n",
       "  <th>Omnibus:</th>       <td>24.787</td> <th>  Durbin-Watson:     </th> <td>   1.776</td>\n",
       "</tr>\n",
       "<tr>\n",
       "  <th>Prob(Omnibus):</th> <td> 0.000</td> <th>  Jarque-Bera (JB):  </th> <td>  49.139</td>\n",
       "</tr>\n",
       "<tr>\n",
       "  <th>Skew:</th>          <td>-1.483</td> <th>  Prob(JB):          </th> <td>2.14e-11</td>\n",
       "</tr>\n",
       "<tr>\n",
       "  <th>Kurtosis:</th>      <td> 7.037</td> <th>  Cond. No.          </th> <td>    1.00</td>\n",
       "</tr>\n",
       "</table><br/><br/>Warnings:<br/>[1] Standard Errors assume that the covariance matrix of the errors is correctly specified."
      ],
      "text/plain": [
       "<class 'statsmodels.iolib.summary.Summary'>\n",
       "\"\"\"\n",
       "                                 OLS Regression Results                                \n",
       "=======================================================================================\n",
       "Dep. Variable:        Total_confirmed   R-squared (uncentered):                   0.581\n",
       "Model:                            OLS   Adj. R-squared (uncentered):              0.572\n",
       "Method:                 Least Squares   F-statistic:                              63.90\n",
       "Date:                Fri, 17 Jul 2020   Prob (F-statistic):                    3.02e-10\n",
       "Time:                        18:56:06   Log-Likelihood:                         -43.027\n",
       "No. Observations:                  47   AIC:                                      88.05\n",
       "Df Residuals:                      46   BIC:                                      89.90\n",
       "Df Model:                           1                                                  \n",
       "Covariance Type:            nonrobust                                                  \n",
       "=======================================================================================================\n",
       "                                          coef    std err          t      P>|t|      [0.025      0.975]\n",
       "-------------------------------------------------------------------------------------------------------\n",
       "Black or African American_confirmed    45.6124      5.706      7.994      0.000      34.127      57.098\n",
       "==============================================================================\n",
       "Omnibus:                       24.787   Durbin-Watson:                   1.776\n",
       "Prob(Omnibus):                  0.000   Jarque-Bera (JB):               49.139\n",
       "Skew:                          -1.483   Prob(JB):                     2.14e-11\n",
       "Kurtosis:                       7.037   Cond. No.                         1.00\n",
       "==============================================================================\n",
       "\n",
       "Warnings:\n",
       "[1] Standard Errors assume that the covariance matrix of the errors is correctly specified.\n",
       "\"\"\""
      ]
     },
     "execution_count": 206,
     "metadata": {},
     "output_type": "execute_result"
    }
   ],
   "source": [
    "model = sm.OLS(per_df['Total_confirmed'],per_df['Black or African American_confirmed'])\n",
    "results = model.fit()\n",
    "results.params\n",
    "results.summary()"
   ]
  },
  {
   "cell_type": "code",
   "execution_count": 207,
   "metadata": {},
   "outputs": [
    {
     "data": {
      "text/html": [
       "<table class=\"simpletable\">\n",
       "<caption>OLS Regression Results</caption>\n",
       "<tr>\n",
       "  <th>Dep. Variable:</th>     <td>Total_confirmed</td> <th>  R-squared (uncentered):</th>      <td>   0.334</td>\n",
       "</tr>\n",
       "<tr>\n",
       "  <th>Model:</th>                   <td>OLS</td>       <th>  Adj. R-squared (uncentered):</th> <td>   0.320</td>\n",
       "</tr>\n",
       "<tr>\n",
       "  <th>Method:</th>             <td>Least Squares</td>  <th>  F-statistic:       </th>          <td>   23.10</td>\n",
       "</tr>\n",
       "<tr>\n",
       "  <th>Date:</th>             <td>Fri, 17 Jul 2020</td> <th>  Prob (F-statistic):</th>          <td>1.68e-05</td>\n",
       "</tr>\n",
       "<tr>\n",
       "  <th>Time:</th>                 <td>18:56:31</td>     <th>  Log-Likelihood:    </th>          <td> -53.932</td>\n",
       "</tr>\n",
       "<tr>\n",
       "  <th>No. Observations:</th>      <td>    47</td>      <th>  AIC:               </th>          <td>   109.9</td>\n",
       "</tr>\n",
       "<tr>\n",
       "  <th>Df Residuals:</th>          <td>    46</td>      <th>  BIC:               </th>          <td>   111.7</td>\n",
       "</tr>\n",
       "<tr>\n",
       "  <th>Df Model:</th>              <td>     1</td>      <th>                     </th>              <td> </td>   \n",
       "</tr>\n",
       "<tr>\n",
       "  <th>Covariance Type:</th>      <td>nonrobust</td>    <th>                     </th>              <td> </td>   \n",
       "</tr>\n",
       "</table>\n",
       "<table class=\"simpletable\">\n",
       "<tr>\n",
       "         <td></td>            <th>coef</th>     <th>std err</th>      <th>t</th>      <th>P>|t|</th>  <th>[0.025</th>    <th>0.975]</th>  \n",
       "</tr>\n",
       "<tr>\n",
       "  <th>Asian_confirmed</th> <td>   52.5928</td> <td>   10.943</td> <td>    4.806</td> <td> 0.000</td> <td>   30.566</td> <td>   74.620</td>\n",
       "</tr>\n",
       "</table>\n",
       "<table class=\"simpletable\">\n",
       "<tr>\n",
       "  <th>Omnibus:</th>       <td>11.558</td> <th>  Durbin-Watson:     </th> <td>   1.055</td>\n",
       "</tr>\n",
       "<tr>\n",
       "  <th>Prob(Omnibus):</th> <td> 0.003</td> <th>  Jarque-Bera (JB):  </th> <td>  17.264</td>\n",
       "</tr>\n",
       "<tr>\n",
       "  <th>Skew:</th>          <td>-0.699</td> <th>  Prob(JB):          </th> <td>0.000178</td>\n",
       "</tr>\n",
       "<tr>\n",
       "  <th>Kurtosis:</th>      <td> 5.619</td> <th>  Cond. No.          </th> <td>    1.00</td>\n",
       "</tr>\n",
       "</table><br/><br/>Warnings:<br/>[1] Standard Errors assume that the covariance matrix of the errors is correctly specified."
      ],
      "text/plain": [
       "<class 'statsmodels.iolib.summary.Summary'>\n",
       "\"\"\"\n",
       "                                 OLS Regression Results                                \n",
       "=======================================================================================\n",
       "Dep. Variable:        Total_confirmed   R-squared (uncentered):                   0.334\n",
       "Model:                            OLS   Adj. R-squared (uncentered):              0.320\n",
       "Method:                 Least Squares   F-statistic:                              23.10\n",
       "Date:                Fri, 17 Jul 2020   Prob (F-statistic):                    1.68e-05\n",
       "Time:                        18:56:31   Log-Likelihood:                         -53.932\n",
       "No. Observations:                  47   AIC:                                      109.9\n",
       "Df Residuals:                      46   BIC:                                      111.7\n",
       "Df Model:                           1                                                  \n",
       "Covariance Type:            nonrobust                                                  \n",
       "===================================================================================\n",
       "                      coef    std err          t      P>|t|      [0.025      0.975]\n",
       "-----------------------------------------------------------------------------------\n",
       "Asian_confirmed    52.5928     10.943      4.806      0.000      30.566      74.620\n",
       "==============================================================================\n",
       "Omnibus:                       11.558   Durbin-Watson:                   1.055\n",
       "Prob(Omnibus):                  0.003   Jarque-Bera (JB):               17.264\n",
       "Skew:                          -0.699   Prob(JB):                     0.000178\n",
       "Kurtosis:                       5.619   Cond. No.                         1.00\n",
       "==============================================================================\n",
       "\n",
       "Warnings:\n",
       "[1] Standard Errors assume that the covariance matrix of the errors is correctly specified.\n",
       "\"\"\""
      ]
     },
     "execution_count": 207,
     "metadata": {},
     "output_type": "execute_result"
    }
   ],
   "source": [
    "model = sm.OLS(per_df['Total_confirmed'],per_df['Asian_confirmed'])\n",
    "results = model.fit()\n",
    "results.params\n",
    "results.summary()"
   ]
  },
  {
   "cell_type": "code",
   "execution_count": 208,
   "metadata": {},
   "outputs": [
    {
     "data": {
      "text/html": [
       "<table class=\"simpletable\">\n",
       "<caption>OLS Regression Results</caption>\n",
       "<tr>\n",
       "  <th>Dep. Variable:</th>     <td>Total_confirmed</td> <th>  R-squared (uncentered):</th>      <td>   0.219</td>\n",
       "</tr>\n",
       "<tr>\n",
       "  <th>Model:</th>                   <td>OLS</td>       <th>  Adj. R-squared (uncentered):</th> <td>   0.202</td>\n",
       "</tr>\n",
       "<tr>\n",
       "  <th>Method:</th>             <td>Least Squares</td>  <th>  F-statistic:       </th>          <td>   12.86</td>\n",
       "</tr>\n",
       "<tr>\n",
       "  <th>Date:</th>             <td>Fri, 17 Jul 2020</td> <th>  Prob (F-statistic):</th>          <td>0.000808</td>\n",
       "</tr>\n",
       "<tr>\n",
       "  <th>Time:</th>                 <td>18:56:43</td>     <th>  Log-Likelihood:    </th>          <td> -57.699</td>\n",
       "</tr>\n",
       "<tr>\n",
       "  <th>No. Observations:</th>      <td>    47</td>      <th>  AIC:               </th>          <td>   117.4</td>\n",
       "</tr>\n",
       "<tr>\n",
       "  <th>Df Residuals:</th>          <td>    46</td>      <th>  BIC:               </th>          <td>   119.2</td>\n",
       "</tr>\n",
       "<tr>\n",
       "  <th>Df Model:</th>              <td>     1</td>      <th>                     </th>              <td> </td>   \n",
       "</tr>\n",
       "<tr>\n",
       "  <th>Covariance Type:</th>      <td>nonrobust</td>    <th>                     </th>              <td> </td>   \n",
       "</tr>\n",
       "</table>\n",
       "<table class=\"simpletable\">\n",
       "<tr>\n",
       "                       <td></td>                          <th>coef</th>     <th>std err</th>      <th>t</th>      <th>P>|t|</th>  <th>[0.025</th>    <th>0.975]</th>  \n",
       "</tr>\n",
       "<tr>\n",
       "  <th>American Indian and Alaska Native_confirmed</th> <td>   28.2056</td> <td>    7.864</td> <td>    3.587</td> <td> 0.001</td> <td>   12.377</td> <td>   44.035</td>\n",
       "</tr>\n",
       "</table>\n",
       "<table class=\"simpletable\">\n",
       "<tr>\n",
       "  <th>Omnibus:</th>       <td> 5.291</td> <th>  Durbin-Watson:     </th> <td>   0.754</td>\n",
       "</tr>\n",
       "<tr>\n",
       "  <th>Prob(Omnibus):</th> <td> 0.071</td> <th>  Jarque-Bera (JB):  </th> <td>   5.680</td>\n",
       "</tr>\n",
       "<tr>\n",
       "  <th>Skew:</th>          <td>-0.297</td> <th>  Prob(JB):          </th> <td>  0.0584</td>\n",
       "</tr>\n",
       "<tr>\n",
       "  <th>Kurtosis:</th>      <td> 4.596</td> <th>  Cond. No.          </th> <td>    1.00</td>\n",
       "</tr>\n",
       "</table><br/><br/>Warnings:<br/>[1] Standard Errors assume that the covariance matrix of the errors is correctly specified."
      ],
      "text/plain": [
       "<class 'statsmodels.iolib.summary.Summary'>\n",
       "\"\"\"\n",
       "                                 OLS Regression Results                                \n",
       "=======================================================================================\n",
       "Dep. Variable:        Total_confirmed   R-squared (uncentered):                   0.219\n",
       "Model:                            OLS   Adj. R-squared (uncentered):              0.202\n",
       "Method:                 Least Squares   F-statistic:                              12.86\n",
       "Date:                Fri, 17 Jul 2020   Prob (F-statistic):                    0.000808\n",
       "Time:                        18:56:43   Log-Likelihood:                         -57.699\n",
       "No. Observations:                  47   AIC:                                      117.4\n",
       "Df Residuals:                      46   BIC:                                      119.2\n",
       "Df Model:                           1                                                  \n",
       "Covariance Type:            nonrobust                                                  \n",
       "===============================================================================================================\n",
       "                                                  coef    std err          t      P>|t|      [0.025      0.975]\n",
       "---------------------------------------------------------------------------------------------------------------\n",
       "American Indian and Alaska Native_confirmed    28.2056      7.864      3.587      0.001      12.377      44.035\n",
       "==============================================================================\n",
       "Omnibus:                        5.291   Durbin-Watson:                   0.754\n",
       "Prob(Omnibus):                  0.071   Jarque-Bera (JB):                5.680\n",
       "Skew:                          -0.297   Prob(JB):                       0.0584\n",
       "Kurtosis:                       4.596   Cond. No.                         1.00\n",
       "==============================================================================\n",
       "\n",
       "Warnings:\n",
       "[1] Standard Errors assume that the covariance matrix of the errors is correctly specified.\n",
       "\"\"\""
      ]
     },
     "execution_count": 208,
     "metadata": {},
     "output_type": "execute_result"
    }
   ],
   "source": [
    "model = sm.OLS(per_df['Total_confirmed'],per_df['American Indian and Alaska Native_confirmed'])\n",
    "results = model.fit()\n",
    "results.params\n",
    "results.summary()"
   ]
  },
  {
   "cell_type": "code",
   "execution_count": 209,
   "metadata": {},
   "outputs": [
    {
     "data": {
      "text/html": [
       "<table class=\"simpletable\">\n",
       "<caption>OLS Regression Results</caption>\n",
       "<tr>\n",
       "  <th>Dep. Variable:</th>     <td>Total_confirmed</td> <th>  R-squared (uncentered):</th>      <td>   0.138</td>\n",
       "</tr>\n",
       "<tr>\n",
       "  <th>Model:</th>                   <td>OLS</td>       <th>  Adj. R-squared (uncentered):</th> <td>   0.120</td>\n",
       "</tr>\n",
       "<tr>\n",
       "  <th>Method:</th>             <td>Least Squares</td>  <th>  F-statistic:       </th>          <td>   7.382</td>\n",
       "</tr>\n",
       "<tr>\n",
       "  <th>Date:</th>             <td>Fri, 17 Jul 2020</td> <th>  Prob (F-statistic):</th>           <td>0.00925</td>\n",
       "</tr>\n",
       "<tr>\n",
       "  <th>Time:</th>                 <td>18:56:52</td>     <th>  Log-Likelihood:    </th>          <td> -59.996</td>\n",
       "</tr>\n",
       "<tr>\n",
       "  <th>No. Observations:</th>      <td>    47</td>      <th>  AIC:               </th>          <td>   122.0</td>\n",
       "</tr>\n",
       "<tr>\n",
       "  <th>Df Residuals:</th>          <td>    46</td>      <th>  BIC:               </th>          <td>   123.8</td>\n",
       "</tr>\n",
       "<tr>\n",
       "  <th>Df Model:</th>              <td>     1</td>      <th>                     </th>              <td> </td>   \n",
       "</tr>\n",
       "<tr>\n",
       "  <th>Covariance Type:</th>      <td>nonrobust</td>    <th>                     </th>              <td> </td>   \n",
       "</tr>\n",
       "</table>\n",
       "<table class=\"simpletable\">\n",
       "<tr>\n",
       "                            <td></td>                              <th>coef</th>     <th>std err</th>      <th>t</th>      <th>P>|t|</th>  <th>[0.025</th>    <th>0.975]</th>  \n",
       "</tr>\n",
       "<tr>\n",
       "  <th>Native Hawaiian and Other Pacific Islander_confirmed</th> <td>   10.0471</td> <td>    3.698</td> <td>    2.717</td> <td> 0.009</td> <td>    2.604</td> <td>   17.491</td>\n",
       "</tr>\n",
       "</table>\n",
       "<table class=\"simpletable\">\n",
       "<tr>\n",
       "  <th>Omnibus:</th>       <td> 2.634</td> <th>  Durbin-Watson:     </th> <td>   0.761</td>\n",
       "</tr>\n",
       "<tr>\n",
       "  <th>Prob(Omnibus):</th> <td> 0.268</td> <th>  Jarque-Bera (JB):  </th> <td>   1.918</td>\n",
       "</tr>\n",
       "<tr>\n",
       "  <th>Skew:</th>          <td>-0.001</td> <th>  Prob(JB):          </th> <td>   0.383</td>\n",
       "</tr>\n",
       "<tr>\n",
       "  <th>Kurtosis:</th>      <td> 3.990</td> <th>  Cond. No.          </th> <td>    1.00</td>\n",
       "</tr>\n",
       "</table><br/><br/>Warnings:<br/>[1] Standard Errors assume that the covariance matrix of the errors is correctly specified."
      ],
      "text/plain": [
       "<class 'statsmodels.iolib.summary.Summary'>\n",
       "\"\"\"\n",
       "                                 OLS Regression Results                                \n",
       "=======================================================================================\n",
       "Dep. Variable:        Total_confirmed   R-squared (uncentered):                   0.138\n",
       "Model:                            OLS   Adj. R-squared (uncentered):              0.120\n",
       "Method:                 Least Squares   F-statistic:                              7.382\n",
       "Date:                Fri, 17 Jul 2020   Prob (F-statistic):                     0.00925\n",
       "Time:                        18:56:52   Log-Likelihood:                         -59.996\n",
       "No. Observations:                  47   AIC:                                      122.0\n",
       "Df Residuals:                      46   BIC:                                      123.8\n",
       "Df Model:                           1                                                  \n",
       "Covariance Type:            nonrobust                                                  \n",
       "========================================================================================================================\n",
       "                                                           coef    std err          t      P>|t|      [0.025      0.975]\n",
       "------------------------------------------------------------------------------------------------------------------------\n",
       "Native Hawaiian and Other Pacific Islander_confirmed    10.0471      3.698      2.717      0.009       2.604      17.491\n",
       "==============================================================================\n",
       "Omnibus:                        2.634   Durbin-Watson:                   0.761\n",
       "Prob(Omnibus):                  0.268   Jarque-Bera (JB):                1.918\n",
       "Skew:                          -0.001   Prob(JB):                        0.383\n",
       "Kurtosis:                       3.990   Cond. No.                         1.00\n",
       "==============================================================================\n",
       "\n",
       "Warnings:\n",
       "[1] Standard Errors assume that the covariance matrix of the errors is correctly specified.\n",
       "\"\"\""
      ]
     },
     "execution_count": 209,
     "metadata": {},
     "output_type": "execute_result"
    }
   ],
   "source": [
    "model = sm.OLS(per_df['Total_confirmed'],per_df['Native Hawaiian and Other Pacific Islander_confirmed'])\n",
    "results = model.fit()\n",
    "results.params\n",
    "results.summary()"
   ]
  },
  {
   "cell_type": "markdown",
   "metadata": {},
   "source": [
    "# Traning a Linear Regression Model for White race"
   ]
  },
  {
   "cell_type": "code",
   "execution_count": 99,
   "metadata": {},
   "outputs": [],
   "source": [
    "df=df.astype({'White_confirmed': 'int32', 'White_confirmed': 'int32'})"
   ]
  },
  {
   "cell_type": "code",
   "execution_count": 211,
   "metadata": {},
   "outputs": [
    {
     "data": {
      "text/plain": [
       "(array([15.,  7.,  7.,  5.,  5.,  4.,  3.,  0.,  0.,  1.]),\n",
       " array([  205. ,  5817.1, 11429.2, 17041.3, 22653.4, 28265.5, 33877.6,\n",
       "        39489.7, 45101.8, 50713.9, 56326. ]),\n",
       " <a list of 10 Patch objects>)"
      ]
     },
     "execution_count": 211,
     "metadata": {},
     "output_type": "execute_result"
    },
    {
     "data": {
      "image/png": "[encoded data removed]",
      "text/plain": [
       "<Figure size 432x288 with 1 Axes>"
      ]
     },
     "metadata": {
      "needs_background": "light"
     },
     "output_type": "display_data"
    }
   ],
   "source": [
    " plt.hist(x = df[\"White_confirmed\"])"
   ]
  },
  {
   "cell_type": "code",
   "execution_count": 210,
   "metadata": {},
   "outputs": [
    {
     "data": {
      "text/plain": [
       "(array([22., 11.,  6.,  3.,  1.,  1.,  0.,  0.,  2.,  1.]),\n",
       " array([  1220. ,  33178.4,  65136.8,  97095.2, 129053.6, 161012. ,\n",
       "        192970.4, 224928.8, 256887.2, 288845.6, 320804. ]),\n",
       " <a list of 10 Patch objects>)"
      ]
     },
     "execution_count": 210,
     "metadata": {},
     "output_type": "execute_result"
    },
    {
     "data": {
      "image/png": "[encoded data removed]",
      "text/plain": [
       "<Figure size 432x288 with 1 Axes>"
      ]
     },
     "metadata": {
      "needs_background": "light"
     },
     "output_type": "display_data"
    }
   ],
   "source": [
    " plt.hist(x = df['Total_confirmed'])"
   ]
  },
  {
   "cell_type": "code",
   "execution_count": 275,
   "metadata": {},
   "outputs": [],
   "source": [
    "x= df[['White_confirmed']]\n",
    "y= df[['Total_confirmed']]"
   ]
  },
  {
   "cell_type": "code",
   "execution_count": 276,
   "metadata": {},
   "outputs": [
    {
     "data": {
      "text/plain": [
       "Index(['White_confirmed'], dtype='object')"
      ]
     },
     "execution_count": 276,
     "metadata": {},
     "output_type": "execute_result"
    }
   ],
   "source": [
    "x.columns"
   ]
  },
  {
   "cell_type": "code",
   "execution_count": 277,
   "metadata": {},
   "outputs": [
    {
     "name": "stdout",
     "output_type": "stream",
     "text": [
      "[[18094.]\n",
      " [  633.]\n",
      " [19895.]\n",
      " [13542.]\n",
      " [36481.]\n",
      " [11400.]\n",
      " [16610.]\n",
      " [ 4135.]\n",
      " [56326.]\n",
      " [27669.]\n",
      " [  205.]\n",
      " [ 5355.]\n",
      " [33468.]\n",
      " [23494.]\n",
      " [22632.]\n",
      " [11964.]\n",
      " [ 9876.]\n",
      " [ 2127.]\n",
      " [14797.]\n",
      " [34076.]\n",
      " [30909.]\n",
      " [17997.]\n",
      " [ 9752.]\n",
      " [12322.]\n",
      " [ 1057.]\n",
      " [12100.]\n",
      " [ 4480.]\n",
      " [ 3740.]\n",
      " [37558.]\n",
      " [ 1911.]\n",
      " [32417.]\n",
      " [31118.]\n",
      " [11379.]\n",
      " [ 4760.]\n",
      " [28200.]\n",
      " [ 4616.]\n",
      " [18552.]\n",
      " [ 2716.]\n",
      " [25886.]\n",
      " [ 6335.]\n",
      " [10959.]\n",
      " [ 1068.]\n",
      " [15385.]\n",
      " [10048.]\n",
      " [ 3343.]\n",
      " [23372.]\n",
      " [  864.]]\n"
     ]
    }
   ],
   "source": [
    "from sklearn import preprocessing\n",
    "import numpy as np\n",
    "\n",
    "x_arr = np.array(x).reshape(-1,1)\n",
    "\n",
    "standardscaler = preprocessing.StandardScaler()\n",
    "x_scaler = standardscaler.fit_transform(x_arr)\n",
    "# print(x_scaler)\n",
    "\n",
    "x_scaledback = standardscaler.inverse_transform(x_scaler)\n",
    "print(x_scaledback)"
   ]
  },
  {
   "cell_type": "code",
   "execution_count": 278,
   "metadata": {},
   "outputs": [
    {
     "name": "stdout",
     "output_type": "stream",
     "text": [
      "[[ 53587.]\n",
      " [  1479.]\n",
      " [122467.]\n",
      " [ 28367.]\n",
      " [320804.]\n",
      " [ 36913.]\n",
      " [ 47287.]\n",
      " [ 12804.]\n",
      " [269811.]\n",
      " [116926.]\n",
      " [  1220.]\n",
      " [ 10902.]\n",
      " [155048.]\n",
      " [ 51612.]\n",
      " [ 35712.]\n",
      " [ 18611.]\n",
      " [ 19389.]\n",
      " [  3539.]\n",
      " [ 73109.]\n",
      " [111597.]\n",
      " [ 76776.]\n",
      " [ 42281.]\n",
      " [ 35419.]\n",
      " [ 27433.]\n",
      " [  1758.]\n",
      " [ 21172.]\n",
      " [ 27683.]\n",
      " [  6054.]\n",
      " [175298.]\n",
      " [ 15028.]\n",
      " [ 85701.]\n",
      " [ 65592.]\n",
      " [ 20235.]\n",
      " [ 11454.]\n",
      " [ 92148.]\n",
      " [ 17312.]\n",
      " [ 56648.]\n",
      " [  7499.]\n",
      " [ 61960.]\n",
      " [258658.]\n",
      " [ 29484.]\n",
      " [  1296.]\n",
      " [ 70670.]\n",
      " [ 39218.]\n",
      " [  4244.]\n",
      " [ 39877.]\n",
      " [  1862.]]\n"
     ]
    }
   ],
   "source": [
    "y_arr = np.array(y).reshape(-1,1)\n",
    "\n",
    "standardscaler = preprocessing.StandardScaler()\n",
    "y_scaler = standardscaler.fit_transform(y_arr)\n",
    "# print(y_scaler)\n",
    "\n",
    "y_scaledback = standardscaler.inverse_transform(y_scaler)\n",
    "print(y_scaledback)"
   ]
  },
  {
   "cell_type": "markdown",
   "metadata": {},
   "source": [
    "# Train Test and Split the data"
   ]
  },
  {
   "cell_type": "code",
   "execution_count": 279,
   "metadata": {},
   "outputs": [],
   "source": [
    "from sklearn.model_selection import train_test_split"
   ]
  },
  {
   "cell_type": "code",
   "execution_count": 280,
   "metadata": {},
   "outputs": [],
   "source": [
    "x_train, x_test, y_train, y_test= train_test_split(x_scaler,y_scaler)"
   ]
  },
  {
   "cell_type": "markdown",
   "metadata": {},
   "source": [
    "# Creating and Training the Model"
   ]
  },
  {
   "cell_type": "code",
   "execution_count": 281,
   "metadata": {},
   "outputs": [],
   "source": [
    "from sklearn.linear_model import LinearRegression"
   ]
  },
  {
   "cell_type": "code",
   "execution_count": 282,
   "metadata": {},
   "outputs": [],
   "source": [
    "lm = LinearRegression()"
   ]
  },
  {
   "cell_type": "code",
   "execution_count": 283,
   "metadata": {},
   "outputs": [
    {
     "data": {
      "text/plain": [
       "LinearRegression(copy_X=True, fit_intercept=True, n_jobs=None, normalize=False)"
      ]
     },
     "execution_count": 283,
     "metadata": {},
     "output_type": "execute_result"
    }
   ],
   "source": [
    "lm.fit(x_train, y_train)"
   ]
  },
  {
   "cell_type": "markdown",
   "metadata": {},
   "source": [
    "# Print out the coefficients of the model"
   ]
  },
  {
   "cell_type": "code",
   "execution_count": 284,
   "metadata": {},
   "outputs": [
    {
     "name": "stdout",
     "output_type": "stream",
     "text": [
      "Coefficients: \n",
      " [[0.60823392]]\n"
     ]
    }
   ],
   "source": [
    "print('Coefficients: \\n', lm.coef_)"
   ]
  },
  {
   "cell_type": "markdown",
   "metadata": {},
   "source": [
    "# Predicting Test Data"
   ]
  },
  {
   "cell_type": "code",
   "execution_count": 285,
   "metadata": {},
   "outputs": [],
   "source": [
    "predictions = lm.predict(x_test)"
   ]
  },
  {
   "cell_type": "code",
   "execution_count": 286,
   "metadata": {},
   "outputs": [
    {
     "data": {
      "text/plain": [
       "Text(0, 0.5, 'y_test')"
      ]
     },
     "execution_count": 286,
     "metadata": {},
     "output_type": "execute_result"
    },
    {
     "data": {
      "image/png": "[encoded data removed]",
      "text/plain": [
       "<Figure size 432x288 with 1 Axes>"
      ]
     },
     "metadata": {
      "needs_background": "light"
     },
     "output_type": "display_data"
    }
   ],
   "source": [
    "plt.scatter(predictions,y_test)\n",
    "plt.xlabel('Predicted Y')\n",
    "plt.ylabel('y_test')"
   ]
  },
  {
   "cell_type": "markdown",
   "metadata": {},
   "source": [
    "# Evaluating the Model"
   ]
  },
  {
   "cell_type": "code",
   "execution_count": 287,
   "metadata": {},
   "outputs": [
    {
     "name": "stdout",
     "output_type": "stream",
     "text": [
      "MAE: 0.5159982320933759\n",
      "MSE: 0.7436138888793652\n",
      "RMSE: 0.8623304986369004\n"
     ]
    }
   ],
   "source": [
    "from sklearn import metrics\n",
    "\n",
    "print('MAE:', metrics.mean_absolute_error(y_test, predictions))\n",
    "print('MSE:' ,metrics.mean_squared_error(y_test, predictions))\n",
    "print('RMSE:',np.sqrt(metrics.mean_squared_error(y_test, predictions)))"
   ]
  },
  {
   "cell_type": "markdown",
   "metadata": {},
   "source": [
    "# Residuals"
   ]
  },
  {
   "cell_type": "code",
   "execution_count": 288,
   "metadata": {},
   "outputs": [
    {
     "data": {
      "image/png": "[encoded data removed]",
      "text/plain": [
       "<Figure size 432x288 with 1 Axes>"
      ]
     },
     "metadata": {
      "needs_background": "light"
     },
     "output_type": "display_data"
    }
   ],
   "source": [
    "sns.distplot((y_test-predictions),bins=51);"
   ]
  },
  {
   "cell_type": "code",
   "execution_count": 289,
   "metadata": {},
   "outputs": [
    {
     "data": {
      "text/html": [
       "<div>\n",
       "<style scoped>\n",
       "    .dataframe tbody tr th:only-of-type {\n",
       "        vertical-align: middle;\n",
       "    }\n",
       "\n",
       "    .dataframe tbody tr th {\n",
       "        vertical-align: top;\n",
       "    }\n",
       "\n",
       "    .dataframe thead th {\n",
       "        text-align: right;\n",
       "    }\n",
       "</style>\n",
       "<table border=\"1\" class=\"dataframe\">\n",
       "  <thead>\n",
       "    <tr style=\"text-align: right;\">\n",
       "      <th></th>\n",
       "      <th>Coeffecients</th>\n",
       "    </tr>\n",
       "  </thead>\n",
       "  <tbody>\n",
       "    <tr>\n",
       "      <th>White_confirmed</th>\n",
       "      <td>0.608234</td>\n",
       "    </tr>\n",
       "  </tbody>\n",
       "</table>\n",
       "</div>"
      ],
      "text/plain": [
       "                 Coeffecients\n",
       "White_confirmed      0.608234"
      ]
     },
     "execution_count": 289,
     "metadata": {},
     "output_type": "execute_result"
    }
   ],
   "source": [
    "coeffecients = pd.DataFrame(lm.coef_,x.columns)\n",
    "coeffecients.columns = ['Coeffecients']\n",
    "coeffecients"
   ]
  },
  {
   "cell_type": "code",
   "execution_count": 117,
   "metadata": {},
   "outputs": [
    {
     "data": {
      "text/plain": [
       "Index(['Total_confirmed', 'White_confirmed',\n",
       "       'Black or African American_confirmed', 'Hispanic_confirmed',\n",
       "       'Asian_confirmed', 'American Indian and Alaska Native_confirmed',\n",
       "       'Native Hawaiian and Other Pacific Islander_confirmed',\n",
       "       'Total population', 'Hispanic', 'White', 'Black or African American',\n",
       "       'American Indian and Alaska Native', 'Asian', 'Asian Indian',\n",
       "       'Native Hawaiian and Other Pacific Islander'],\n",
       "      dtype='object')"
      ]
     },
     "execution_count": 117,
     "metadata": {},
     "output_type": "execute_result"
    }
   ],
   "source": [
    "df.columns"
   ]
  },
  {
   "cell_type": "markdown",
   "metadata": {},
   "source": [
    "# Linear Regression Model for Black or African American race"
   ]
  },
  {
   "cell_type": "code",
   "execution_count": 441,
   "metadata": {},
   "outputs": [],
   "source": [
    " df=df.astype({'Black or African American_confirmed': 'int32', 'Black or African American_confirmed': 'int32'})"
   ]
  },
  {
   "cell_type": "code",
   "execution_count": 442,
   "metadata": {},
   "outputs": [
    {
     "data": {
      "text/plain": [
       "(array([25.,  5.,  4.,  4.,  4.,  2.,  1.,  0.,  1.,  1.]),\n",
       " array([7.00000e+00, 3.83980e+03, 7.67260e+03, 1.15054e+04, 1.53382e+04,\n",
       "        1.91710e+04, 2.30038e+04, 2.68366e+04, 3.06694e+04, 3.45022e+04,\n",
       "        3.83350e+04]),\n",
       " <a list of 10 Patch objects>)"
      ]
     },
     "execution_count": 442,
     "metadata": {},
     "output_type": "execute_result"
    },
    {
     "data": {
      "image/png": "[encoded data removed]",
      "text/plain": [
       "<Figure size 432x288 with 1 Axes>"
      ]
     },
     "metadata": {
      "needs_background": "light"
     },
     "output_type": "display_data"
    }
   ],
   "source": [
    "plt.hist(x = df[\"Black or African American_confirmed\"])"
   ]
  },
  {
   "cell_type": "code",
   "execution_count": 443,
   "metadata": {},
   "outputs": [
    {
     "data": {
      "text/plain": [
       "(array([22., 11.,  6.,  3.,  1.,  1.,  0.,  0.,  2.,  1.]),\n",
       " array([  1220. ,  33178.4,  65136.8,  97095.2, 129053.6, 161012. ,\n",
       "        192970.4, 224928.8, 256887.2, 288845.6, 320804. ]),\n",
       " <a list of 10 Patch objects>)"
      ]
     },
     "execution_count": 443,
     "metadata": {},
     "output_type": "execute_result"
    },
    {
     "data": {
      "image/png": "[encoded data removed]",
      "text/plain": [
       "<Figure size 432x288 with 1 Axes>"
      ]
     },
     "metadata": {
      "needs_background": "light"
     },
     "output_type": "display_data"
    }
   ],
   "source": [
    "plt.hist(x = df[\"Total_confirmed\"])"
   ]
  },
  {
   "cell_type": "code",
   "execution_count": 444,
   "metadata": {},
   "outputs": [],
   "source": [
    "x = df[['Black or African American_confirmed']]\n",
    "y = df[['Total_confirmed']]"
   ]
  },
  {
   "cell_type": "code",
   "execution_count": 445,
   "metadata": {},
   "outputs": [
    {
     "data": {
      "text/plain": [
       "Index(['Black or African American_confirmed'], dtype='object')"
      ]
     },
     "execution_count": 445,
     "metadata": {},
     "output_type": "execute_result"
    }
   ],
   "source": [
    "x.columns"
   ]
  },
  {
   "cell_type": "code",
   "execution_count": 446,
   "metadata": {},
   "outputs": [
    {
     "name": "stdout",
     "output_type": "stream",
     "text": [
      "[[1.7650e+04]\n",
      " [3.5000e+01]\n",
      " [2.7090e+03]\n",
      " [6.0420e+03]\n",
      " [9.0210e+03]\n",
      " [1.7360e+03]\n",
      " [6.1890e+03]\n",
      " [3.2660e+03]\n",
      " [3.8335e+04]\n",
      " [3.0945e+04]\n",
      " [1.0000e+01]\n",
      " [1.5000e+02]\n",
      " [2.5828e+04]\n",
      " [6.0990e+03]\n",
      " [3.1820e+03]\n",
      " [1.4740e+03]\n",
      " [1.8010e+03]\n",
      " [8.1600e+02]\n",
      " [2.1160e+04]\n",
      " [1.0493e+04]\n",
      " [2.1485e+04]\n",
      " [8.6650e+03]\n",
      " [1.6759e+04]\n",
      " [6.9950e+03]\n",
      " [7.0000e+00]\n",
      " [1.3000e+03]\n",
      " [1.2610e+03]\n",
      " [3.0900e+02]\n",
      " [1.7880e+04]\n",
      " [2.8400e+02]\n",
      " [1.3921e+04]\n",
      " [1.7437e+04]\n",
      " [1.5300e+03]\n",
      " [4.8500e+02]\n",
      " [1.1900e+04]\n",
      " [1.5920e+03]\n",
      " [1.2905e+04]\n",
      " [9.8500e+02]\n",
      " [1.2551e+04]\n",
      " [2.9140e+03]\n",
      " [7.4700e+02]\n",
      " [1.4300e+02]\n",
      " [1.0773e+04]\n",
      " [1.5200e+03]\n",
      " [2.9800e+02]\n",
      " [6.4620e+03]\n",
      " [1.9000e+01]]\n"
     ]
    }
   ],
   "source": [
    "from sklearn import preprocessing\n",
    "import numpy as np\n",
    "\n",
    "x_arr = np.array(x).reshape(-1,1)\n",
    "\n",
    "standardscaler = preprocessing.StandardScaler()\n",
    "x_scaler = standardscaler.fit_transform(x_arr)\n",
    "# print(x_scaler)\n",
    "\n",
    "x_scaledback = standardscaler.inverse_transform(x_scaler)\n",
    "print(x_scaledback)"
   ]
  },
  {
   "cell_type": "code",
   "execution_count": 447,
   "metadata": {},
   "outputs": [
    {
     "name": "stdout",
     "output_type": "stream",
     "text": [
      "[[1.7650e+04]\n",
      " [3.5000e+01]\n",
      " [2.7090e+03]\n",
      " [6.0420e+03]\n",
      " [9.0210e+03]\n",
      " [1.7360e+03]\n",
      " [6.1890e+03]\n",
      " [3.2660e+03]\n",
      " [3.8335e+04]\n",
      " [3.0945e+04]\n",
      " [1.0000e+01]\n",
      " [1.5000e+02]\n",
      " [2.5828e+04]\n",
      " [6.0990e+03]\n",
      " [3.1820e+03]\n",
      " [1.4740e+03]\n",
      " [1.8010e+03]\n",
      " [8.1600e+02]\n",
      " [2.1160e+04]\n",
      " [1.0493e+04]\n",
      " [2.1485e+04]\n",
      " [8.6650e+03]\n",
      " [1.6759e+04]\n",
      " [6.9950e+03]\n",
      " [7.0000e+00]\n",
      " [1.3000e+03]\n",
      " [1.2610e+03]\n",
      " [3.0900e+02]\n",
      " [1.7880e+04]\n",
      " [2.8400e+02]\n",
      " [1.3921e+04]\n",
      " [1.7437e+04]\n",
      " [1.5300e+03]\n",
      " [4.8500e+02]\n",
      " [1.1900e+04]\n",
      " [1.5920e+03]\n",
      " [1.2905e+04]\n",
      " [9.8500e+02]\n",
      " [1.2551e+04]\n",
      " [2.9140e+03]\n",
      " [7.4700e+02]\n",
      " [1.4300e+02]\n",
      " [1.0773e+04]\n",
      " [1.5200e+03]\n",
      " [2.9800e+02]\n",
      " [6.4620e+03]\n",
      " [1.9000e+01]]\n"
     ]
    }
   ],
   "source": [
    "from sklearn import preprocessing\n",
    "import numpy as np\n",
    "\n",
    "x_arr = np.array(x).reshape(-1,1)\n",
    "\n",
    "standardscaler = preprocessing.StandardScaler()\n",
    "x_scaler = standardscaler.fit_transform(x_arr)\n",
    "# print(x_scaler)\n",
    "\n",
    "x_scaledback = standardscaler.inverse_transform(x_scaler)\n",
    "print(x_scaledback)"
   ]
  },
  {
   "cell_type": "markdown",
   "metadata": {},
   "source": [
    "# Train Test and Split the data"
   ]
  },
  {
   "cell_type": "code",
   "execution_count": 1,
   "metadata": {},
   "outputs": [],
   "source": [
    "from sklearn.model_selection import train_test_split"
   ]
  },
  {
   "cell_type": "code",
   "execution_count": 448,
   "metadata": {},
   "outputs": [],
   "source": [
    "x_train, x_test, y_train, y_test= train_test_split(x_scaler,y_scaler)"
   ]
  },
  {
   "cell_type": "markdown",
   "metadata": {},
   "source": [
    "# Creating and Training the Model"
   ]
  },
  {
   "cell_type": "code",
   "execution_count": 449,
   "metadata": {},
   "outputs": [],
   "source": [
    "lm = LinearRegression()"
   ]
  },
  {
   "cell_type": "code",
   "execution_count": 450,
   "metadata": {},
   "outputs": [
    {
     "data": {
      "text/plain": [
       "LinearRegression(copy_X=True, fit_intercept=True, n_jobs=None, normalize=False)"
      ]
     },
     "execution_count": 450,
     "metadata": {},
     "output_type": "execute_result"
    }
   ],
   "source": [
    "lm.fit(x_train, y_train)"
   ]
  },
  {
   "cell_type": "code",
   "execution_count": 451,
   "metadata": {},
   "outputs": [
    {
     "name": "stdout",
     "output_type": "stream",
     "text": [
      "Coefficients: \n",
      " [[0.66835434]]\n"
     ]
    }
   ],
   "source": [
    "print('Coefficients: \\n', lm.coef_)"
   ]
  },
  {
   "cell_type": "markdown",
   "metadata": {},
   "source": [
    "# Predicting Test Data"
   ]
  },
  {
   "cell_type": "code",
   "execution_count": 452,
   "metadata": {},
   "outputs": [],
   "source": [
    "predictions = lm.predict(x_test)"
   ]
  },
  {
   "cell_type": "code",
   "execution_count": 453,
   "metadata": {},
   "outputs": [
    {
     "data": {
      "text/plain": [
       "Text(0, 0.5, 'y_test')"
      ]
     },
     "execution_count": 453,
     "metadata": {},
     "output_type": "execute_result"
    },
    {
     "data": {
      "image/png": "[encoded data removed]",
      "text/plain": [
       "<Figure size 432x288 with 1 Axes>"
      ]
     },
     "metadata": {
      "needs_background": "light"
     },
     "output_type": "display_data"
    }
   ],
   "source": [
    "plt.scatter(predictions,y_test)\n",
    "plt.xlabel('Predicted Y')\n",
    "plt.ylabel('y_test')"
   ]
  },
  {
   "cell_type": "markdown",
   "metadata": {},
   "source": [
    "# Evaluating The Model"
   ]
  },
  {
   "cell_type": "code",
   "execution_count": 454,
   "metadata": {},
   "outputs": [
    {
     "name": "stdout",
     "output_type": "stream",
     "text": [
      "MAE: 0.59512227557715\n",
      "MSE: 0.9991078174247042\n",
      "RMSE: 0.9995538091692234\n"
     ]
    }
   ],
   "source": [
    "print('MAE:', metrics.mean_absolute_error(y_test, predictions))\n",
    "print('MSE:' ,metrics.mean_squared_error(y_test, predictions))\n",
    "print('RMSE:',np.sqrt(metrics.mean_squared_error(y_test, predictions)))"
   ]
  },
  {
   "cell_type": "markdown",
   "metadata": {},
   "source": [
    "# Residuals"
   ]
  },
  {
   "cell_type": "code",
   "execution_count": 318,
   "metadata": {},
   "outputs": [
    {
     "data": {
      "image/png": "[encoded data removed]",
      "text/plain": [
       "<Figure size 432x288 with 1 Axes>"
      ]
     },
     "metadata": {
      "needs_background": "light"
     },
     "output_type": "display_data"
    }
   ],
   "source": [
    "sns.distplot((y_test-predictions),bins=51);"
   ]
  },
  {
   "cell_type": "code",
   "execution_count": 319,
   "metadata": {},
   "outputs": [
    {
     "data": {
      "text/html": [
       "<div>\n",
       "<style scoped>\n",
       "    .dataframe tbody tr th:only-of-type {\n",
       "        vertical-align: middle;\n",
       "    }\n",
       "\n",
       "    .dataframe tbody tr th {\n",
       "        vertical-align: top;\n",
       "    }\n",
       "\n",
       "    .dataframe thead th {\n",
       "        text-align: right;\n",
       "    }\n",
       "</style>\n",
       "<table border=\"1\" class=\"dataframe\">\n",
       "  <thead>\n",
       "    <tr style=\"text-align: right;\">\n",
       "      <th></th>\n",
       "      <th>Coeffecients</th>\n",
       "    </tr>\n",
       "  </thead>\n",
       "  <tbody>\n",
       "    <tr>\n",
       "      <th>Black or African American_confirmed</th>\n",
       "      <td>0.456494</td>\n",
       "    </tr>\n",
       "  </tbody>\n",
       "</table>\n",
       "</div>"
      ],
      "text/plain": [
       "                                     Coeffecients\n",
       "Black or African American_confirmed      0.456494"
      ]
     },
     "execution_count": 319,
     "metadata": {},
     "output_type": "execute_result"
    }
   ],
   "source": [
    "coeffecients = pd.DataFrame(lm.coef_,x.columns)\n",
    "coeffecients.columns = ['Coeffecients']\n",
    "coeffecients"
   ]
  },
  {
   "cell_type": "markdown",
   "metadata": {},
   "source": [
    "# Linear Regression Model for Hispanic race"
   ]
  },
  {
   "cell_type": "code",
   "execution_count": 335,
   "metadata": {},
   "outputs": [],
   "source": [
    " df=df.astype({'Hispanic_confirmed': 'int32', 'Hispanic_confirmed': 'int32'})"
   ]
  },
  {
   "cell_type": "code",
   "execution_count": 337,
   "metadata": {},
   "outputs": [
    {
     "data": {
      "text/plain": [
       "(array([33.,  7.,  4.,  0.,  1.,  0.,  1.,  0.,  0.,  1.]),\n",
       " array([     0. ,  11285.4,  22570.8,  33856.2,  45141.6,  56427. ,\n",
       "         67712.4,  78997.8,  90283.2, 101568.6, 112854. ]),\n",
       " <a list of 10 Patch objects>)"
      ]
     },
     "execution_count": 337,
     "metadata": {},
     "output_type": "execute_result"
    },
    {
     "data": {
      "image/png": "[encoded data removed]",
      "text/plain": [
       "<Figure size 432x288 with 1 Axes>"
      ]
     },
     "metadata": {
      "needs_background": "light"
     },
     "output_type": "display_data"
    }
   ],
   "source": [
    " plt.hist(x = df[\"Hispanic_confirmed\"])"
   ]
  },
  {
   "cell_type": "code",
   "execution_count": 338,
   "metadata": {},
   "outputs": [
    {
     "data": {
      "text/plain": [
       "(array([22., 11.,  6.,  3.,  1.,  1.,  0.,  0.,  2.,  1.]),\n",
       " array([  1220. ,  33178.4,  65136.8,  97095.2, 129053.6, 161012. ,\n",
       "        192970.4, 224928.8, 256887.2, 288845.6, 320804. ]),\n",
       " <a list of 10 Patch objects>)"
      ]
     },
     "execution_count": 338,
     "metadata": {},
     "output_type": "execute_result"
    },
    {
     "data": {
      "image/png": "[encoded data removed]",
      "text/plain": [
       "<Figure size 432x288 with 1 Axes>"
      ]
     },
     "metadata": {
      "needs_background": "light"
     },
     "output_type": "display_data"
    }
   ],
   "source": [
    " plt.hist(x = df['Total_confirmed'])"
   ]
  },
  {
   "cell_type": "code",
   "execution_count": 339,
   "metadata": {},
   "outputs": [],
   "source": [
    "x = df[['Hispanic_confirmed']]\n",
    "y = df[['Total_confirmed']]\n"
   ]
  },
  {
   "cell_type": "code",
   "execution_count": 340,
   "metadata": {},
   "outputs": [
    {
     "data": {
      "text/plain": [
       "Index(['Hispanic_confirmed'], dtype='object')"
      ]
     },
     "execution_count": 340,
     "metadata": {},
     "output_type": "execute_result"
    }
   ],
   "source": [
    "x.columns"
   ]
  },
  {
   "cell_type": "code",
   "execution_count": 341,
   "metadata": {},
   "outputs": [
    {
     "name": "stdout",
     "output_type": "stream",
     "text": [
      "[[4.84600e+03]\n",
      " [8.70000e+01]\n",
      " [2.85140e+04]\n",
      " [6.85100e+03]\n",
      " [1.12854e+05]\n",
      " [1.26040e+04]\n",
      " [8.97300e+03]\n",
      " [3.44700e+03]\n",
      " [6.94730e+04]\n",
      " [1.71790e+04]\n",
      " [0.00000e+00]\n",
      " [2.09100e+03]\n",
      " [4.89990e+04]\n",
      " [5.80500e+03]\n",
      " [7.77900e+03]\n",
      " [6.89200e+03]\n",
      " [2.10100e+03]\n",
      " [1.38000e+02]\n",
      " [1.94520e+04]\n",
      " [2.18030e+04]\n",
      " [6.14200e+03]\n",
      " [8.93900e+03]\n",
      " [1.63600e+03]\n",
      " [4.18000e+03]\n",
      " [9.90000e+01]\n",
      " [9.00000e+03]\n",
      " [6.12900e+03]\n",
      " [5.87000e+02]\n",
      " [3.19460e+04]\n",
      " [5.20200e+03]\n",
      " [2.49990e+04]\n",
      " [4.70200e+03]\n",
      " [4.18900e+03]\n",
      " [4.20800e+03]\n",
      " [7.40000e+03]\n",
      " [5.89900e+03]\n",
      " [5.30500e+03]\n",
      " [1.12600e+03]\n",
      " [1.38460e+04]\n",
      " [1.00900e+04]\n",
      " [1.20720e+04]\n",
      " [4.40000e+01]\n",
      " [2.33430e+04]\n",
      " [1.22950e+04]\n",
      " [0.00000e+00]\n",
      " [1.07790e+04]\n",
      " [2.36000e+02]]\n"
     ]
    }
   ],
   "source": [
    "from sklearn import preprocessing\n",
    "import numpy as np\n",
    "\n",
    "x_arr = np.array(x).reshape(-1,1)\n",
    "\n",
    "standardscaler = preprocessing.StandardScaler()\n",
    "x_scaler = standardscaler.fit_transform(x_arr)\n",
    "# print(x_scaler)\n",
    "\n",
    "x_scaledback = standardscaler.inverse_transform(x_scaler)\n",
    "print(x_scaledback)"
   ]
  },
  {
   "cell_type": "code",
   "execution_count": 342,
   "metadata": {},
   "outputs": [
    {
     "name": "stdout",
     "output_type": "stream",
     "text": [
      "[[ 53587.]\n",
      " [  1479.]\n",
      " [122467.]\n",
      " [ 28367.]\n",
      " [320804.]\n",
      " [ 36913.]\n",
      " [ 47287.]\n",
      " [ 12804.]\n",
      " [269811.]\n",
      " [116926.]\n",
      " [  1220.]\n",
      " [ 10902.]\n",
      " [155048.]\n",
      " [ 51612.]\n",
      " [ 35712.]\n",
      " [ 18611.]\n",
      " [ 19389.]\n",
      " [  3539.]\n",
      " [ 73109.]\n",
      " [111597.]\n",
      " [ 76776.]\n",
      " [ 42281.]\n",
      " [ 35419.]\n",
      " [ 27433.]\n",
      " [  1758.]\n",
      " [ 21172.]\n",
      " [ 27683.]\n",
      " [  6054.]\n",
      " [175298.]\n",
      " [ 15028.]\n",
      " [ 85701.]\n",
      " [ 65592.]\n",
      " [ 20235.]\n",
      " [ 11454.]\n",
      " [ 92148.]\n",
      " [ 17312.]\n",
      " [ 56648.]\n",
      " [  7499.]\n",
      " [ 61960.]\n",
      " [258658.]\n",
      " [ 29484.]\n",
      " [  1296.]\n",
      " [ 70670.]\n",
      " [ 39218.]\n",
      " [  4244.]\n",
      " [ 39877.]\n",
      " [  1862.]]\n"
     ]
    }
   ],
   "source": [
    "y_arr = np.array(y).reshape(-1,1)\n",
    "\n",
    "standardscaler = preprocessing.StandardScaler()\n",
    "y_scaler = standardscaler.fit_transform(y_arr)\n",
    "# print(y_scaler)\n",
    "\n",
    "y_scaledback = standardscaler.inverse_transform(y_scaler)\n",
    "print(y_scaledback)"
   ]
  },
  {
   "cell_type": "markdown",
   "metadata": {},
   "source": [
    "# Train Test and Split the data"
   ]
  },
  {
   "cell_type": "code",
   "execution_count": 343,
   "metadata": {},
   "outputs": [],
   "source": [
    "from sklearn.model_selection import train_test_split"
   ]
  },
  {
   "cell_type": "code",
   "execution_count": 344,
   "metadata": {},
   "outputs": [],
   "source": [
    "x_train, x_test, y_train, y_test= train_test_split(x_scaler,y_scaler)"
   ]
  },
  {
   "cell_type": "markdown",
   "metadata": {},
   "source": [
    "# Creating and Training the Model"
   ]
  },
  {
   "cell_type": "code",
   "execution_count": 345,
   "metadata": {},
   "outputs": [],
   "source": [
    "from sklearn.linear_model import LinearRegression"
   ]
  },
  {
   "cell_type": "code",
   "execution_count": 346,
   "metadata": {},
   "outputs": [],
   "source": [
    "lm = LinearRegression()"
   ]
  },
  {
   "cell_type": "code",
   "execution_count": 347,
   "metadata": {},
   "outputs": [
    {
     "data": {
      "text/plain": [
       "LinearRegression(copy_X=True, fit_intercept=True, n_jobs=None, normalize=False)"
      ]
     },
     "execution_count": 347,
     "metadata": {},
     "output_type": "execute_result"
    }
   ],
   "source": [
    "lm.fit(x_train, y_train)"
   ]
  },
  {
   "cell_type": "code",
   "execution_count": 348,
   "metadata": {},
   "outputs": [
    {
     "name": "stdout",
     "output_type": "stream",
     "text": [
      "Coefficients: \n",
      " [[0.82984395]]\n"
     ]
    }
   ],
   "source": [
    "print('Coefficients: \\n', lm.coef_)"
   ]
  },
  {
   "cell_type": "markdown",
   "metadata": {},
   "source": [
    "# Predicting Test Data"
   ]
  },
  {
   "cell_type": "code",
   "execution_count": 349,
   "metadata": {},
   "outputs": [],
   "source": [
    "predictions = lm.predict(x_test)"
   ]
  },
  {
   "cell_type": "code",
   "execution_count": 350,
   "metadata": {},
   "outputs": [
    {
     "data": {
      "text/plain": [
       "Text(0, 0.5, 'y_test')"
      ]
     },
     "execution_count": 350,
     "metadata": {},
     "output_type": "execute_result"
    },
    {
     "data": {
      "image/png": "[encoded data removed]",
      "text/plain": [
       "<Figure size 432x288 with 1 Axes>"
      ]
     },
     "metadata": {
      "needs_background": "light"
     },
     "output_type": "display_data"
    }
   ],
   "source": [
    "plt.scatter(predictions,y_test)\n",
    "plt.xlabel('Predicted Y')\n",
    "plt.ylabel('y_test')"
   ]
  },
  {
   "cell_type": "markdown",
   "metadata": {},
   "source": [
    "# Evaluating the Model"
   ]
  },
  {
   "cell_type": "code",
   "execution_count": 351,
   "metadata": {},
   "outputs": [
    {
     "name": "stdout",
     "output_type": "stream",
     "text": [
      "MAE: 0.5744621719910393\n",
      "MSE: 0.9342131203971419\n",
      "RMSE: 0.9665470088915189\n"
     ]
    }
   ],
   "source": [
    "from sklearn import metrics\n",
    "\n",
    "print('MAE:', metrics.mean_absolute_error(y_test, predictions))\n",
    "print('MSE:' ,metrics.mean_squared_error(y_test, predictions))\n",
    "print('RMSE:',np.sqrt(metrics.mean_squared_error(y_test, predictions)))"
   ]
  },
  {
   "cell_type": "markdown",
   "metadata": {},
   "source": [
    "# Residuals"
   ]
  },
  {
   "cell_type": "code",
   "execution_count": 352,
   "metadata": {},
   "outputs": [
    {
     "data": {
      "image/png": "[encoded data removed]",
      "text/plain": [
       "<Figure size 432x288 with 1 Axes>"
      ]
     },
     "metadata": {
      "needs_background": "light"
     },
     "output_type": "display_data"
    }
   ],
   "source": [
    "sns.distplot((y_test-predictions),bins=51);"
   ]
  },
  {
   "cell_type": "code",
   "execution_count": 353,
   "metadata": {},
   "outputs": [
    {
     "data": {
      "text/html": [
       "<div>\n",
       "<style scoped>\n",
       "    .dataframe tbody tr th:only-of-type {\n",
       "        vertical-align: middle;\n",
       "    }\n",
       "\n",
       "    .dataframe tbody tr th {\n",
       "        vertical-align: top;\n",
       "    }\n",
       "\n",
       "    .dataframe thead th {\n",
       "        text-align: right;\n",
       "    }\n",
       "</style>\n",
       "<table border=\"1\" class=\"dataframe\">\n",
       "  <thead>\n",
       "    <tr style=\"text-align: right;\">\n",
       "      <th></th>\n",
       "      <th>Coeffecients</th>\n",
       "    </tr>\n",
       "  </thead>\n",
       "  <tbody>\n",
       "    <tr>\n",
       "      <th>Hispanic_confirmed</th>\n",
       "      <td>0.829844</td>\n",
       "    </tr>\n",
       "  </tbody>\n",
       "</table>\n",
       "</div>"
      ],
      "text/plain": [
       "                    Coeffecients\n",
       "Hispanic_confirmed      0.829844"
      ]
     },
     "execution_count": 353,
     "metadata": {},
     "output_type": "execute_result"
    }
   ],
   "source": [
    "coeffecients = pd.DataFrame(lm.coef_,x.columns)\n",
    "coeffecients.columns = ['Coeffecients']\n",
    "coeffecients"
   ]
  },
  {
   "cell_type": "markdown",
   "metadata": {},
   "source": [
    "# Linear Regression Model for Asian race"
   ]
  },
  {
   "cell_type": "code",
   "execution_count": 354,
   "metadata": {},
   "outputs": [],
   "source": [
    " df=df.astype({'Asian_confirmed': 'int32', 'Asian_confirmed': 'int32'})"
   ]
  },
  {
   "cell_type": "code",
   "execution_count": 356,
   "metadata": {},
   "outputs": [
    {
     "data": {
      "text/plain": [
       "(array([32., 11.,  1.,  1.,  1.,  0.,  0.,  0.,  0.,  1.]),\n",
       " array([    0. ,  1247.3,  2494.6,  3741.9,  4989.2,  6236.5,  7483.8,\n",
       "         8731.1,  9978.4, 11225.7, 12473. ]),\n",
       " <a list of 10 Patch objects>)"
      ]
     },
     "execution_count": 356,
     "metadata": {},
     "output_type": "execute_result"
    },
    {
     "data": {
      "image/png": "[encoded data removed]",
      "text/plain": [
       "<Figure size 432x288 with 1 Axes>"
      ]
     },
     "metadata": {
      "needs_background": "light"
     },
     "output_type": "display_data"
    }
   ],
   "source": [
    " plt.hist(x = df[\"Asian_confirmed\"])"
   ]
  },
  {
   "cell_type": "code",
   "execution_count": 357,
   "metadata": {},
   "outputs": [
    {
     "data": {
      "text/plain": [
       "(array([22., 11.,  6.,  3.,  1.,  1.,  0.,  0.,  2.,  1.]),\n",
       " array([  1220. ,  33178.4,  65136.8,  97095.2, 129053.6, 161012. ,\n",
       "        192970.4, 224928.8, 256887.2, 288845.6, 320804. ]),\n",
       " <a list of 10 Patch objects>)"
      ]
     },
     "execution_count": 357,
     "metadata": {},
     "output_type": "execute_result"
    },
    {
     "data": {
      "image/png": "[encoded data removed]",
      "text/plain": [
       "<Figure size 432x288 with 1 Axes>"
      ]
     },
     "metadata": {
      "needs_background": "light"
     },
     "output_type": "display_data"
    }
   ],
   "source": [
    "plt.hist(x= df[\"Total_confirmed\"])"
   ]
  },
  {
   "cell_type": "code",
   "execution_count": 358,
   "metadata": {},
   "outputs": [],
   "source": [
    "x = df[['Asian_confirmed']]\n",
    "y = df[['Total_confirmed']]"
   ]
  },
  {
   "cell_type": "code",
   "execution_count": 359,
   "metadata": {},
   "outputs": [
    {
     "data": {
      "text/plain": [
       "Index(['Asian_confirmed'], dtype='object')"
      ]
     },
     "execution_count": 359,
     "metadata": {},
     "output_type": "execute_result"
    }
   ],
   "source": [
    "x.columns"
   ]
  },
  {
   "cell_type": "code",
   "execution_count": 360,
   "metadata": {},
   "outputs": [
    {
     "name": "stdout",
     "output_type": "stream",
     "text": [
      "[[2.1600e+02]\n",
      " [6.3000e+01]\n",
      " [9.1300e+02]\n",
      " [3.9500e+02]\n",
      " [1.2473e+04]\n",
      " [7.8300e+02]\n",
      " [6.8400e+02]\n",
      " [1.8200e+02]\n",
      " [0.0000e+00]\n",
      " [1.5420e+03]\n",
      " [3.4000e+02]\n",
      " [9.5000e+01]\n",
      " [4.3170e+03]\n",
      " [7.3800e+02]\n",
      " [2.1210e+03]\n",
      " [8.1700e+02]\n",
      " [4.6100e+02]\n",
      " [8.4000e+01]\n",
      " [1.4260e+03]\n",
      " [2.3340e+03]\n",
      " [1.6300e+03]\n",
      " [2.9330e+03]\n",
      " [1.1100e+02]\n",
      " [0.0000e+00]\n",
      " [2.0000e+00]\n",
      " [1.2000e+03]\n",
      " [1.1640e+03]\n",
      " [1.5300e+02]\n",
      " [5.2380e+03]\n",
      " [1.0500e+02]\n",
      " [1.1310e+03]\n",
      " [1.9040e+03]\n",
      " [1.4080e+03]\n",
      " [3.9400e+02]\n",
      " [1.3000e+03]\n",
      " [0.0000e+00]\n",
      " [4.0300e+02]\n",
      " [7.1500e+02]\n",
      " [7.1000e+02]\n",
      " [6.4100e+02]\n",
      " [6.5000e+02]\n",
      " [5.3000e+01]\n",
      " [2.2750e+03]\n",
      " [1.5450e+03]\n",
      " [0.0000e+00]\n",
      " [1.3820e+03]\n",
      " [9.0000e+00]]\n"
     ]
    }
   ],
   "source": [
    "from sklearn import preprocessing\n",
    "import numpy as np\n",
    "\n",
    "x_arr = np.array(x).reshape(-1,1)\n",
    "\n",
    "standardscaler = preprocessing.StandardScaler()\n",
    "x_scaler = standardscaler.fit_transform(x_arr)\n",
    "# print(x_scaler)\n",
    "\n",
    "x_scaledback = standardscaler.inverse_transform(x_scaler)\n",
    "print(x_scaledback)"
   ]
  },
  {
   "cell_type": "code",
   "execution_count": 361,
   "metadata": {},
   "outputs": [
    {
     "name": "stdout",
     "output_type": "stream",
     "text": [
      "[[ 53587.]\n",
      " [  1479.]\n",
      " [122467.]\n",
      " [ 28367.]\n",
      " [320804.]\n",
      " [ 36913.]\n",
      " [ 47287.]\n",
      " [ 12804.]\n",
      " [269811.]\n",
      " [116926.]\n",
      " [  1220.]\n",
      " [ 10902.]\n",
      " [155048.]\n",
      " [ 51612.]\n",
      " [ 35712.]\n",
      " [ 18611.]\n",
      " [ 19389.]\n",
      " [  3539.]\n",
      " [ 73109.]\n",
      " [111597.]\n",
      " [ 76776.]\n",
      " [ 42281.]\n",
      " [ 35419.]\n",
      " [ 27433.]\n",
      " [  1758.]\n",
      " [ 21172.]\n",
      " [ 27683.]\n",
      " [  6054.]\n",
      " [175298.]\n",
      " [ 15028.]\n",
      " [ 85701.]\n",
      " [ 65592.]\n",
      " [ 20235.]\n",
      " [ 11454.]\n",
      " [ 92148.]\n",
      " [ 17312.]\n",
      " [ 56648.]\n",
      " [  7499.]\n",
      " [ 61960.]\n",
      " [258658.]\n",
      " [ 29484.]\n",
      " [  1296.]\n",
      " [ 70670.]\n",
      " [ 39218.]\n",
      " [  4244.]\n",
      " [ 39877.]\n",
      " [  1862.]]\n"
     ]
    }
   ],
   "source": [
    "y_arr = np.array(y).reshape(-1,1)\n",
    "\n",
    "standardscaler = preprocessing.StandardScaler()\n",
    "y_scaler = standardscaler.fit_transform(y_arr)\n",
    "# print(y_scaler)\n",
    "\n",
    "y_scaledback = standardscaler.inverse_transform(y_scaler)\n",
    "print(y_scaledback)"
   ]
  },
  {
   "cell_type": "markdown",
   "metadata": {},
   "source": [
    "# Train Test and Split the data"
   ]
  },
  {
   "cell_type": "code",
   "execution_count": 362,
   "metadata": {},
   "outputs": [],
   "source": [
    "x_train, x_test, y_train, y_test= train_test_split(x_scaler,y_scaler)"
   ]
  },
  {
   "cell_type": "markdown",
   "metadata": {},
   "source": [
    "# Creating and Training the Model"
   ]
  },
  {
   "cell_type": "code",
   "execution_count": 363,
   "metadata": {},
   "outputs": [],
   "source": [
    "lm = LinearRegression()"
   ]
  },
  {
   "cell_type": "code",
   "execution_count": 364,
   "metadata": {},
   "outputs": [
    {
     "data": {
      "text/plain": [
       "LinearRegression(copy_X=True, fit_intercept=True, n_jobs=None, normalize=False)"
      ]
     },
     "execution_count": 364,
     "metadata": {},
     "output_type": "execute_result"
    }
   ],
   "source": [
    "lm.fit(x_train, y_train)"
   ]
  },
  {
   "cell_type": "code",
   "execution_count": 365,
   "metadata": {},
   "outputs": [
    {
     "name": "stdout",
     "output_type": "stream",
     "text": [
      "Coefficients: \n",
      " [[0.63876029]]\n"
     ]
    }
   ],
   "source": [
    "print('Coefficients: \\n', lm.coef_)"
   ]
  },
  {
   "cell_type": "markdown",
   "metadata": {},
   "source": [
    "# Predicting Test Data"
   ]
  },
  {
   "cell_type": "code",
   "execution_count": 366,
   "metadata": {},
   "outputs": [],
   "source": [
    "predictions = lm.predict(x_test)"
   ]
  },
  {
   "cell_type": "code",
   "execution_count": 367,
   "metadata": {},
   "outputs": [
    {
     "data": {
      "text/plain": [
       "Text(0, 0.5, 'y_test')"
      ]
     },
     "execution_count": 367,
     "metadata": {},
     "output_type": "execute_result"
    },
    {
     "data": {
      "image/png": "[encoded data removed]",
      "text/plain": [
       "<Figure size 432x288 with 1 Axes>"
      ]
     },
     "metadata": {
      "needs_background": "light"
     },
     "output_type": "display_data"
    }
   ],
   "source": [
    "plt.scatter(predictions,y_test)\n",
    "plt.xlabel('Predicted Y')\n",
    "plt.ylabel('y_test')"
   ]
  },
  {
   "cell_type": "markdown",
   "metadata": {},
   "source": [
    "# Evaluating The Model"
   ]
  },
  {
   "cell_type": "code",
   "execution_count": 368,
   "metadata": {},
   "outputs": [
    {
     "name": "stdout",
     "output_type": "stream",
     "text": [
      "MAE: 0.5952334306442756\n",
      "MSE: 0.9290836498823022\n",
      "RMSE: 0.96388985360481\n"
     ]
    }
   ],
   "source": [
    "print('MAE:', metrics.mean_absolute_error(y_test, predictions))\n",
    "print('MSE:' ,metrics.mean_squared_error(y_test, predictions))\n",
    "print('RMSE:',np.sqrt(metrics.mean_squared_error(y_test, predictions)))"
   ]
  },
  {
   "cell_type": "markdown",
   "metadata": {},
   "source": [
    "# Residuals"
   ]
  },
  {
   "cell_type": "code",
   "execution_count": 369,
   "metadata": {},
   "outputs": [
    {
     "data": {
      "image/png": "[encoded data removed]",
      "text/plain": [
       "<Figure size 432x288 with 1 Axes>"
      ]
     },
     "metadata": {
      "needs_background": "light"
     },
     "output_type": "display_data"
    }
   ],
   "source": [
    "sns.distplot((y_test-predictions),bins=51);"
   ]
  },
  {
   "cell_type": "code",
   "execution_count": 370,
   "metadata": {},
   "outputs": [
    {
     "data": {
      "text/html": [
       "<div>\n",
       "<style scoped>\n",
       "    .dataframe tbody tr th:only-of-type {\n",
       "        vertical-align: middle;\n",
       "    }\n",
       "\n",
       "    .dataframe tbody tr th {\n",
       "        vertical-align: top;\n",
       "    }\n",
       "\n",
       "    .dataframe thead th {\n",
       "        text-align: right;\n",
       "    }\n",
       "</style>\n",
       "<table border=\"1\" class=\"dataframe\">\n",
       "  <thead>\n",
       "    <tr style=\"text-align: right;\">\n",
       "      <th></th>\n",
       "      <th>Coeffecients</th>\n",
       "    </tr>\n",
       "  </thead>\n",
       "  <tbody>\n",
       "    <tr>\n",
       "      <th>Asian_confirmed</th>\n",
       "      <td>0.63876</td>\n",
       "    </tr>\n",
       "  </tbody>\n",
       "</table>\n",
       "</div>"
      ],
      "text/plain": [
       "                 Coeffecients\n",
       "Asian_confirmed       0.63876"
      ]
     },
     "execution_count": 370,
     "metadata": {},
     "output_type": "execute_result"
    }
   ],
   "source": [
    "coeffecients = pd.DataFrame(lm.coef_,x.columns)\n",
    "coeffecients.columns = ['Coeffecients']\n",
    "coeffecients"
   ]
  },
  {
   "cell_type": "markdown",
   "metadata": {},
   "source": [
    "# Linear Regression Model for American Indian and Alaska Native"
   ]
  },
  {
   "cell_type": "code",
   "execution_count": 390,
   "metadata": {},
   "outputs": [],
   "source": [
    "df=df.astype({'American Indian and Alaska Native_confirmed': 'int32', 'American Indian and Alaska Native_confirmed': 'int32'})"
   ]
  },
  {
   "cell_type": "code",
   "execution_count": 392,
   "metadata": {},
   "outputs": [
    {
     "data": {
      "text/plain": [
       "(array([42.,  3.,  0.,  0.,  0.,  0.,  0.,  0.,  1.,  1.]),\n",
       " array([   0. ,  778.3, 1556.6, 2334.9, 3113.2, 3891.5, 4669.8, 5448.1,\n",
       "        6226.4, 7004.7, 7783. ]),\n",
       " <a list of 10 Patch objects>)"
      ]
     },
     "execution_count": 392,
     "metadata": {},
     "output_type": "execute_result"
    },
    {
     "data": {
      "image/png": "[encoded data removed]",
      "text/plain": [
       "<Figure size 432x288 with 1 Axes>"
      ]
     },
     "metadata": {
      "needs_background": "light"
     },
     "output_type": "display_data"
    }
   ],
   "source": [
    "plt.hist(x = df['American Indian and Alaska Native_confirmed'])"
   ]
  },
  {
   "cell_type": "code",
   "execution_count": 393,
   "metadata": {},
   "outputs": [
    {
     "data": {
      "text/plain": [
       "(array([22., 11.,  6.,  3.,  1.,  1.,  0.,  0.,  2.,  1.]),\n",
       " array([  1220. ,  33178.4,  65136.8,  97095.2, 129053.6, 161012. ,\n",
       "        192970.4, 224928.8, 256887.2, 288845.6, 320804. ]),\n",
       " <a list of 10 Patch objects>)"
      ]
     },
     "execution_count": 393,
     "metadata": {},
     "output_type": "execute_result"
    },
    {
     "data": {
      "image/png": "[encoded data removed]",
      "text/plain": [
       "<Figure size 432x288 with 1 Axes>"
      ]
     },
     "metadata": {
      "needs_background": "light"
     },
     "output_type": "display_data"
    }
   ],
   "source": [
    " plt.hist(x = df[\"Total_confirmed\"])"
   ]
  },
  {
   "cell_type": "code",
   "execution_count": 394,
   "metadata": {},
   "outputs": [],
   "source": [
    "x = df[['American Indian and Alaska Native_confirmed']]\n",
    "y = df[['Total_confirmed']]"
   ]
  },
  {
   "cell_type": "code",
   "execution_count": 395,
   "metadata": {},
   "outputs": [
    {
     "data": {
      "text/plain": [
       "Index(['American Indian and Alaska Native_confirmed'], dtype='object')"
      ]
     },
     "execution_count": 395,
     "metadata": {},
     "output_type": "execute_result"
    }
   ],
   "source": [
    "x.columns"
   ]
  },
  {
   "cell_type": "code",
   "execution_count": 396,
   "metadata": {},
   "outputs": [
    {
     "name": "stdout",
     "output_type": "stream",
     "text": [
      "[[0.000e+00]\n",
      " [1.770e+02]\n",
      " [7.783e+03]\n",
      " [7.400e+01]\n",
      " [4.460e+02]\n",
      " [1.830e+02]\n",
      " [4.500e+01]\n",
      " [0.000e+00]\n",
      " [0.000e+00]\n",
      " [6.700e+01]\n",
      " [0.000e+00]\n",
      " [9.500e+01]\n",
      " [2.260e+02]\n",
      " [0.000e+00]\n",
      " [3.530e+02]\n",
      " [1.220e+02]\n",
      " [6.700e+01]\n",
      " [6.000e+00]\n",
      " [0.000e+00]\n",
      " [0.000e+00]\n",
      " [2.960e+02]\n",
      " [3.450e+02]\n",
      " [1.105e+03]\n",
      " [0.000e+00]\n",
      " [1.870e+02]\n",
      " [2.430e+02]\n",
      " [8.700e+01]\n",
      " [0.000e+00]\n",
      " [0.000e+00]\n",
      " [6.661e+03]\n",
      " [6.520e+02]\n",
      " [7.800e+01]\n",
      " [1.429e+03]\n",
      " [2.620e+02]\n",
      " [0.000e+00]\n",
      " [0.000e+00]\n",
      " [0.000e+00]\n",
      " [1.206e+03]\n",
      " [7.800e+01]\n",
      " [0.000e+00]\n",
      " [6.860e+02]\n",
      " [2.000e+00]\n",
      " [8.400e+01]\n",
      " [4.570e+02]\n",
      " [0.000e+00]\n",
      " [3.610e+02]\n",
      " [3.370e+02]]\n"
     ]
    }
   ],
   "source": [
    "from sklearn import preprocessing\n",
    "import numpy as np\n",
    "\n",
    "x_arr = np.array(x).reshape(-1,1)\n",
    "\n",
    "standardscaler = preprocessing.StandardScaler()\n",
    "x_scaler = standardscaler.fit_transform(x_arr)\n",
    "# print(x_scaler)\n",
    "\n",
    "x_scaledback = standardscaler.inverse_transform(x_scaler)\n",
    "print(x_scaledback)\n"
   ]
  },
  {
   "cell_type": "code",
   "execution_count": 397,
   "metadata": {},
   "outputs": [
    {
     "name": "stdout",
     "output_type": "stream",
     "text": [
      "[[ 53587.]\n",
      " [  1479.]\n",
      " [122467.]\n",
      " [ 28367.]\n",
      " [320804.]\n",
      " [ 36913.]\n",
      " [ 47287.]\n",
      " [ 12804.]\n",
      " [269811.]\n",
      " [116926.]\n",
      " [  1220.]\n",
      " [ 10902.]\n",
      " [155048.]\n",
      " [ 51612.]\n",
      " [ 35712.]\n",
      " [ 18611.]\n",
      " [ 19389.]\n",
      " [  3539.]\n",
      " [ 73109.]\n",
      " [111597.]\n",
      " [ 76776.]\n",
      " [ 42281.]\n",
      " [ 35419.]\n",
      " [ 27433.]\n",
      " [  1758.]\n",
      " [ 21172.]\n",
      " [ 27683.]\n",
      " [  6054.]\n",
      " [175298.]\n",
      " [ 15028.]\n",
      " [ 85701.]\n",
      " [ 65592.]\n",
      " [ 20235.]\n",
      " [ 11454.]\n",
      " [ 92148.]\n",
      " [ 17312.]\n",
      " [ 56648.]\n",
      " [  7499.]\n",
      " [ 61960.]\n",
      " [258658.]\n",
      " [ 29484.]\n",
      " [  1296.]\n",
      " [ 70670.]\n",
      " [ 39218.]\n",
      " [  4244.]\n",
      " [ 39877.]\n",
      " [  1862.]]\n"
     ]
    }
   ],
   "source": [
    "y_arr = np.array(y).reshape(-1,1)\n",
    "\n",
    "standardscaler = preprocessing.StandardScaler()\n",
    "y_scaler = standardscaler.fit_transform(y_arr)\n",
    "# print(y_scaler)\n",
    "\n",
    "y_scaledback = standardscaler.inverse_transform(y_scaler)\n",
    "print(y_scaledback)"
   ]
  },
  {
   "cell_type": "markdown",
   "metadata": {},
   "source": [
    "# Train Test and Split the data"
   ]
  },
  {
   "cell_type": "code",
   "execution_count": 398,
   "metadata": {},
   "outputs": [],
   "source": [
    "from sklearn.model_selection import train_test_split"
   ]
  },
  {
   "cell_type": "code",
   "execution_count": 399,
   "metadata": {},
   "outputs": [],
   "source": [
    "x_train, x_test, y_train, y_test= train_test_split(x_scaler,y_scaler)"
   ]
  },
  {
   "cell_type": "markdown",
   "metadata": {},
   "source": [
    "# Creating and Training the Model"
   ]
  },
  {
   "cell_type": "code",
   "execution_count": 400,
   "metadata": {},
   "outputs": [],
   "source": [
    "from sklearn.linear_model import LinearRegression"
   ]
  },
  {
   "cell_type": "code",
   "execution_count": 401,
   "metadata": {},
   "outputs": [],
   "source": [
    "lm = LinearRegression()"
   ]
  },
  {
   "cell_type": "code",
   "execution_count": 402,
   "metadata": {},
   "outputs": [
    {
     "data": {
      "text/plain": [
       "LinearRegression(copy_X=True, fit_intercept=True, n_jobs=None, normalize=False)"
      ]
     },
     "execution_count": 402,
     "metadata": {},
     "output_type": "execute_result"
    }
   ],
   "source": [
    "lm.fit(x_train, y_train)"
   ]
  },
  {
   "cell_type": "markdown",
   "metadata": {},
   "source": [
    "# Print out the coefficients of the model"
   ]
  },
  {
   "cell_type": "code",
   "execution_count": 403,
   "metadata": {},
   "outputs": [
    {
     "name": "stdout",
     "output_type": "stream",
     "text": [
      "Coefficients: \n",
      " [[-0.16705582]]\n"
     ]
    }
   ],
   "source": [
    "print('Coefficients: \\n', lm.coef_)"
   ]
  },
  {
   "cell_type": "markdown",
   "metadata": {},
   "source": [
    "# Predicting Test Data"
   ]
  },
  {
   "cell_type": "code",
   "execution_count": 404,
   "metadata": {},
   "outputs": [],
   "source": [
    "predictions = lm.predict(x_test)"
   ]
  },
  {
   "cell_type": "code",
   "execution_count": 405,
   "metadata": {},
   "outputs": [
    {
     "data": {
      "text/plain": [
       "Text(0, 0.5, 'y_test')"
      ]
     },
     "execution_count": 405,
     "metadata": {},
     "output_type": "execute_result"
    },
    {
     "data": {
      "image/png": "[encoded data removed]",
      "text/plain": [
       "<Figure size 432x288 with 1 Axes>"
      ]
     },
     "metadata": {
      "needs_background": "light"
     },
     "output_type": "display_data"
    }
   ],
   "source": [
    "plt.scatter(predictions,y_test)\n",
    "plt.xlabel('Predicted Y')\n",
    "plt.ylabel('y_test')"
   ]
  },
  {
   "cell_type": "markdown",
   "metadata": {},
   "source": [
    "# Evaluating the Model"
   ]
  },
  {
   "cell_type": "code",
   "execution_count": 407,
   "metadata": {},
   "outputs": [
    {
     "name": "stdout",
     "output_type": "stream",
     "text": [
      "MAE: 0.7346698820326516\n",
      "MSE: 0.6713731309828109\n",
      "RMSE: 0.8193736211172599\n"
     ]
    }
   ],
   "source": [
    "from sklearn import metrics\n",
    "\n",
    "print('MAE:', metrics.mean_absolute_error(y_test, predictions))\n",
    "print('MSE:' ,metrics.mean_squared_error(y_test, predictions))\n",
    "print('RMSE:',np.sqrt(metrics.mean_squared_error(y_test, predictions)))"
   ]
  },
  {
   "cell_type": "markdown",
   "metadata": {},
   "source": [
    "# Residuals"
   ]
  },
  {
   "cell_type": "code",
   "execution_count": 408,
   "metadata": {},
   "outputs": [
    {
     "data": {
      "image/png": "[encoded data removed]",
      "text/plain": [
       "<Figure size 432x288 with 1 Axes>"
      ]
     },
     "metadata": {
      "needs_background": "light"
     },
     "output_type": "display_data"
    }
   ],
   "source": [
    "sns.distplot((y_test-predictions),bins=51);"
   ]
  },
  {
   "cell_type": "code",
   "execution_count": 409,
   "metadata": {},
   "outputs": [
    {
     "data": {
      "text/html": [
       "<div>\n",
       "<style scoped>\n",
       "    .dataframe tbody tr th:only-of-type {\n",
       "        vertical-align: middle;\n",
       "    }\n",
       "\n",
       "    .dataframe tbody tr th {\n",
       "        vertical-align: top;\n",
       "    }\n",
       "\n",
       "    .dataframe thead th {\n",
       "        text-align: right;\n",
       "    }\n",
       "</style>\n",
       "<table border=\"1\" class=\"dataframe\">\n",
       "  <thead>\n",
       "    <tr style=\"text-align: right;\">\n",
       "      <th></th>\n",
       "      <th>Coeffecients</th>\n",
       "    </tr>\n",
       "  </thead>\n",
       "  <tbody>\n",
       "    <tr>\n",
       "      <th>American Indian and Alaska Native_confirmed</th>\n",
       "      <td>-0.167056</td>\n",
       "    </tr>\n",
       "  </tbody>\n",
       "</table>\n",
       "</div>"
      ],
      "text/plain": [
       "                                             Coeffecients\n",
       "American Indian and Alaska Native_confirmed     -0.167056"
      ]
     },
     "execution_count": 409,
     "metadata": {},
     "output_type": "execute_result"
    }
   ],
   "source": [
    "coeffecients = pd.DataFrame(lm.coef_,x.columns)\n",
    "coeffecients.columns = ['Coeffecients']\n",
    "coeffecients"
   ]
  },
  {
   "cell_type": "markdown",
   "metadata": {},
   "source": [
    "# Linear Regression Model for Native Hawaiian and Other Pacific Islander"
   ]
  },
  {
   "cell_type": "code",
   "execution_count": 425,
   "metadata": {},
   "outputs": [],
   "source": [
    "df=df.astype({'Native Hawaiian and Other Pacific Islander_confirmed': 'int32', 'Native Hawaiian and Other Pacific Islander_confirmed': 'int32'})"
   ]
  },
  {
   "cell_type": "code",
   "execution_count": 426,
   "metadata": {},
   "outputs": [
    {
     "data": {
      "text/plain": [
       "(array([38.,  3.,  2.,  0.,  1.,  0.,  1.,  1.,  0.,  1.]),\n",
       " array([   0. ,  174.3,  348.6,  522.9,  697.2,  871.5, 1045.8, 1220.1,\n",
       "        1394.4, 1568.7, 1743. ]),\n",
       " <a list of 10 Patch objects>)"
      ]
     },
     "execution_count": 426,
     "metadata": {},
     "output_type": "execute_result"
    },
    {
     "data": {
      "image/png": "[encoded data removed]",
      "text/plain": [
       "<Figure size 432x288 with 1 Axes>"
      ]
     },
     "metadata": {
      "needs_background": "light"
     },
     "output_type": "display_data"
    }
   ],
   "source": [
    " plt.hist(x = df[\"Native Hawaiian and Other Pacific Islander_confirmed\"])"
   ]
  },
  {
   "cell_type": "code",
   "execution_count": 427,
   "metadata": {},
   "outputs": [
    {
     "data": {
      "text/plain": [
       "(array([22., 11.,  6.,  3.,  1.,  1.,  0.,  0.,  2.,  1.]),\n",
       " array([  1220. ,  33178.4,  65136.8,  97095.2, 129053.6, 161012. ,\n",
       "        192970.4, 224928.8, 256887.2, 288845.6, 320804. ]),\n",
       " <a list of 10 Patch objects>)"
      ]
     },
     "execution_count": 427,
     "metadata": {},
     "output_type": "execute_result"
    },
    {
     "data": {
      "image/png": "[encoded data removed]",
      "text/plain": [
       "<Figure size 432x288 with 1 Axes>"
      ]
     },
     "metadata": {
      "needs_background": "light"
     },
     "output_type": "display_data"
    }
   ],
   "source": [
    "plt.hist(x = df[\"Total_confirmed\"])"
   ]
  },
  {
   "cell_type": "code",
   "execution_count": 428,
   "metadata": {},
   "outputs": [],
   "source": [
    "x = df[['Native Hawaiian and Other Pacific Islander_confirmed']]\n",
    "y = df[['Total_confirmed']]\n"
   ]
  },
  {
   "cell_type": "code",
   "execution_count": 429,
   "metadata": {},
   "outputs": [
    {
     "data": {
      "text/plain": [
       "Index(['Native Hawaiian and Other Pacific Islander_confirmed'], dtype='object')"
      ]
     },
     "execution_count": 429,
     "metadata": {},
     "output_type": "execute_result"
    }
   ],
   "source": [
    "x.columns"
   ]
  },
  {
   "cell_type": "code",
   "execution_count": 430,
   "metadata": {},
   "outputs": [
    {
     "name": "stdout",
     "output_type": "stream",
     "text": [
      "[[   0.]\n",
      " [  39.]\n",
      " [   0.]\n",
      " [1743.]\n",
      " [1243.]\n",
      " [ 118.]\n",
      " [   0.]\n",
      " [   0.]\n",
      " [   0.]\n",
      " [ 108.]\n",
      " [ 346.]\n",
      " [  36.]\n",
      " [ 385.]\n",
      " [   0.]\n",
      " [ 353.]\n",
      " [   0.]\n",
      " [  35.]\n",
      " [   2.]\n",
      " [   0.]\n",
      " [   0.]\n",
      " [   0.]\n",
      " [  94.]\n",
      " [   0.]\n",
      " [   0.]\n",
      " [   0.]\n",
      " [  32.]\n",
      " [   0.]\n",
      " [   0.]\n",
      " [   0.]\n",
      " [   0.]\n",
      " [ 186.]\n",
      " [ 125.]\n",
      " [   0.]\n",
      " [ 327.]\n",
      " [   0.]\n",
      " [   0.]\n",
      " [   0.]\n",
      " [   0.]\n",
      " [  56.]\n",
      " [   0.]\n",
      " [1141.]\n",
      " [   0.]\n",
      " [   0.]\n",
      " [ 838.]\n",
      " [   0.]\n",
      " [   0.]\n",
      " [   4.]]\n"
     ]
    }
   ],
   "source": [
    "from sklearn import preprocessing\n",
    "import numpy as np\n",
    "\n",
    "x_arr = np.array(x).reshape(-1,1)\n",
    "\n",
    "standardscaler = preprocessing.StandardScaler()\n",
    "x_scaler = standardscaler.fit_transform(x_arr)\n",
    "# print(x_scaler)\n",
    "\n",
    "x_scaledback = standardscaler.inverse_transform(x_scaler)\n",
    "print(x_scaledback)"
   ]
  },
  {
   "cell_type": "code",
   "execution_count": 431,
   "metadata": {},
   "outputs": [
    {
     "name": "stdout",
     "output_type": "stream",
     "text": [
      "[[ 53587.]\n",
      " [  1479.]\n",
      " [122467.]\n",
      " [ 28367.]\n",
      " [320804.]\n",
      " [ 36913.]\n",
      " [ 47287.]\n",
      " [ 12804.]\n",
      " [269811.]\n",
      " [116926.]\n",
      " [  1220.]\n",
      " [ 10902.]\n",
      " [155048.]\n",
      " [ 51612.]\n",
      " [ 35712.]\n",
      " [ 18611.]\n",
      " [ 19389.]\n",
      " [  3539.]\n",
      " [ 73109.]\n",
      " [111597.]\n",
      " [ 76776.]\n",
      " [ 42281.]\n",
      " [ 35419.]\n",
      " [ 27433.]\n",
      " [  1758.]\n",
      " [ 21172.]\n",
      " [ 27683.]\n",
      " [  6054.]\n",
      " [175298.]\n",
      " [ 15028.]\n",
      " [ 85701.]\n",
      " [ 65592.]\n",
      " [ 20235.]\n",
      " [ 11454.]\n",
      " [ 92148.]\n",
      " [ 17312.]\n",
      " [ 56648.]\n",
      " [  7499.]\n",
      " [ 61960.]\n",
      " [258658.]\n",
      " [ 29484.]\n",
      " [  1296.]\n",
      " [ 70670.]\n",
      " [ 39218.]\n",
      " [  4244.]\n",
      " [ 39877.]\n",
      " [  1862.]]\n"
     ]
    }
   ],
   "source": [
    "y_arr = np.array(y).reshape(-1,1)\n",
    "\n",
    "standardscaler = preprocessing.StandardScaler()\n",
    "y_scaler = standardscaler.fit_transform(y_arr)\n",
    "# print(y_scaler)\n",
    "\n",
    "y_scaledback = standardscaler.inverse_transform(y_scaler)\n",
    "print(y_scaledback)"
   ]
  },
  {
   "cell_type": "markdown",
   "metadata": {},
   "source": [
    "# Train Test and Split the data"
   ]
  },
  {
   "cell_type": "code",
   "execution_count": 432,
   "metadata": {},
   "outputs": [],
   "source": [
    "x_train, x_test, y_train, y_test= train_test_split(x_scaler,y_scaler)"
   ]
  },
  {
   "cell_type": "markdown",
   "metadata": {},
   "source": [
    "# Creating and Training the Model"
   ]
  },
  {
   "cell_type": "code",
   "execution_count": 433,
   "metadata": {},
   "outputs": [],
   "source": [
    "lm = LinearRegression()"
   ]
  },
  {
   "cell_type": "code",
   "execution_count": 434,
   "metadata": {},
   "outputs": [
    {
     "data": {
      "text/plain": [
       "LinearRegression(copy_X=True, fit_intercept=True, n_jobs=None, normalize=False)"
      ]
     },
     "execution_count": 434,
     "metadata": {},
     "output_type": "execute_result"
    }
   ],
   "source": [
    "lm.fit(x_train, y_train)"
   ]
  },
  {
   "cell_type": "code",
   "execution_count": 435,
   "metadata": {},
   "outputs": [
    {
     "name": "stdout",
     "output_type": "stream",
     "text": [
      "Coefficients: \n",
      " [[0.16959752]]\n"
     ]
    }
   ],
   "source": [
    "print('Coefficients: \\n', lm.coef_)"
   ]
  },
  {
   "cell_type": "markdown",
   "metadata": {},
   "source": [
    "# Predicting Test Data"
   ]
  },
  {
   "cell_type": "code",
   "execution_count": 436,
   "metadata": {},
   "outputs": [],
   "source": [
    "predictions = lm.predict(x_test)"
   ]
  },
  {
   "cell_type": "code",
   "execution_count": 437,
   "metadata": {},
   "outputs": [
    {
     "data": {
      "text/plain": [
       "Text(0, 0.5, 'y_test')"
      ]
     },
     "execution_count": 437,
     "metadata": {},
     "output_type": "execute_result"
    },
    {
     "data": {
      "image/png": "[encoded data removed]",
      "text/plain": [
       "<Figure size 432x288 with 1 Axes>"
      ]
     },
     "metadata": {
      "needs_background": "light"
     },
     "output_type": "display_data"
    }
   ],
   "source": [
    "plt.scatter(predictions,y_test)\n",
    "plt.xlabel('Predicted Y')\n",
    "plt.ylabel('y_test')"
   ]
  },
  {
   "cell_type": "markdown",
   "metadata": {},
   "source": [
    "# Evaluating The Model"
   ]
  },
  {
   "cell_type": "code",
   "execution_count": 438,
   "metadata": {},
   "outputs": [
    {
     "name": "stdout",
     "output_type": "stream",
     "text": [
      "MAE: 0.7158736933468209\n",
      "MSE: 0.9677202772331704\n",
      "RMSE: 0.9837277454830531\n"
     ]
    }
   ],
   "source": [
    "print('MAE:', metrics.mean_absolute_error(y_test, predictions))\n",
    "print('MSE:' ,metrics.mean_squared_error(y_test, predictions))\n",
    "print('RMSE:',np.sqrt(metrics.mean_squared_error(y_test, predictions)))"
   ]
  },
  {
   "cell_type": "markdown",
   "metadata": {},
   "source": [
    "# Residuals"
   ]
  },
  {
   "cell_type": "code",
   "execution_count": 439,
   "metadata": {},
   "outputs": [
    {
     "data": {
      "image/png": "[encoded data removed]",
      "text/plain": [
       "<Figure size 432x288 with 1 Axes>"
      ]
     },
     "metadata": {
      "needs_background": "light"
     },
     "output_type": "display_data"
    }
   ],
   "source": [
    "sns.distplot((y_test-predictions),bins=51);"
   ]
  },
  {
   "cell_type": "code",
   "execution_count": 440,
   "metadata": {},
   "outputs": [
    {
     "data": {
      "text/html": [
       "<div>\n",
       "<style scoped>\n",
       "    .dataframe tbody tr th:only-of-type {\n",
       "        vertical-align: middle;\n",
       "    }\n",
       "\n",
       "    .dataframe tbody tr th {\n",
       "        vertical-align: top;\n",
       "    }\n",
       "\n",
       "    .dataframe thead th {\n",
       "        text-align: right;\n",
       "    }\n",
       "</style>\n",
       "<table border=\"1\" class=\"dataframe\">\n",
       "  <thead>\n",
       "    <tr style=\"text-align: right;\">\n",
       "      <th></th>\n",
       "      <th>Coeffecients</th>\n",
       "    </tr>\n",
       "  </thead>\n",
       "  <tbody>\n",
       "    <tr>\n",
       "      <th>Native Hawaiian and Other Pacific Islander_confirmed</th>\n",
       "      <td>0.169598</td>\n",
       "    </tr>\n",
       "  </tbody>\n",
       "</table>\n",
       "</div>"
      ],
      "text/plain": [
       "                                                    Coeffecients\n",
       "Native Hawaiian and Other Pacific Islander_conf...      0.169598"
      ]
     },
     "execution_count": 440,
     "metadata": {},
     "output_type": "execute_result"
    }
   ],
   "source": [
    "coeffecients = pd.DataFrame(lm.coef_,x.columns)\n",
    "coeffecients.columns = ['Coeffecients']\n",
    "coeffecients"
   ]
  }
 ],
 "metadata": {
  "kernelspec": {
   "display_name": "Python 3",
   "language": "python",
   "name": "python3"
  },
  "language_info": {
   "codemirror_mode": {
    "name": "ipython",
    "version": 3
   },
   "file_extension": ".py",
   "mimetype": "text/x-python",
   "name": "python",
   "nbconvert_exporter": "python",
   "pygments_lexer": "ipython3",
   "version": "3.7.6"
  }
 },
 "nbformat": 4,
 "nbformat_minor": 4
}
